{
 "cells": [
  {
   "cell_type": "code",
   "execution_count": null,
   "metadata": {},
   "outputs": [],
   "source": [
    "# Q1. List any five functions of the pandas library with execution.\n",
    "\n",
    "Here are five commonly used functions in the Pandas library along with their execution examples:\n",
    "\n",
    "1. `read_csv()`: This function is used to read data from a CSV file and create a DataFrame.\n",
    "\n",
    "\n",
    "import pandas as pd\n",
    "\n",
    "# Read data from a CSV file\n",
    "df = pd.read_csv('data.csv')\n",
    "\n",
    "# Display the DataFrame\n",
    "print(df)\n",
    "\n",
    "\n",
    "2. `head()`: This function returns the first few rows of a DataFrame. By default, it returns the first five rows.\n",
    "\n",
    "\n",
    "import pandas as pd\n",
    "\n",
    "# Read data from a CSV file\n",
    "df = pd.read_csv('data.csv')\n",
    "\n",
    "# Display the first 3 rows\n",
    "print(df.head(3))\n",
    "\n",
    "\n",
    "3. `info()`: This function provides a summary of the DataFrame, including the data types, number of non-null values, and memory usage.\n",
    "\n",
    "\n",
    "import pandas as pd\n",
    "\n",
    "# Read data from a CSV file\n",
    "df = pd.read_csv('data.csv')\n",
    "\n",
    "# Display the summary information\n",
    "df.info()\n",
    "\n",
    "4. `describe()`: This function generates descriptive statistics of the DataFrame, including count, mean, standard deviation, \n",
    "minimum, maximum, and quartile values.\n",
    "\n",
    "\n",
    "import pandas as pd\n",
    "\n",
    "# Read data from a CSV file\n",
    "df = pd.read_csv('data.csv')\n",
    "\n",
    "# Generate descriptive statistics\n",
    "description = df.describe()\n",
    "print(description)\n",
    "\n",
    "\n",
    "5. `groupby()`: This function is used to group data based on one or more columns and perform operations on those groups. \n",
    "It's commonly used for data aggregation and summarization.\n",
    "\n",
    "\n",
    "import pandas as pd\n",
    "\n",
    "# Read data from a CSV file\n",
    "df = pd.read_csv('data.csv')\n",
    "\n",
    "# Group the DataFrame by the 'category' column and calculate the average of 'price' for each group\n",
    "grouped = df.groupby('category')['price'].mean()\n",
    "print(grouped)\n",
    "\n",
    "\n",
    "These functions demonstrate some of the fundamental operations in Pandas, such as reading data, exploring the structure \n",
    "of the DataFrame, generating summary statistics, and performing group-based operations."
   ]
  },
  {
   "cell_type": "code",
   "execution_count": null,
   "metadata": {},
   "outputs": [],
   "source": [
    "# Q2. Given a Pandas DataFrame df with columns 'A', 'B', and 'C', write a Python function to re-index the\n",
    "# DataFrame with a new index that starts from 1 and increments by 2 for each row.\n",
    "\n",
    "\n",
    "\n",
    "using the `reset_index()` function in Pandas to re-index the DataFrame with a new index that starts from 1 and increments \n",
    "by 2 for each row. Here's a Python function that performs this re-indexing:\n",
    "\n",
    "\n",
    "import pandas as pd\n",
    "\n",
    "def reindex_dataframe(df):\n",
    "    new_index = pd.RangeIndex(start=1, stop=len(df) * 2, step=2)\n",
    "    df = df.reset_index(drop=True)\n",
    "    df.index = new_index\n",
    "    return df\n",
    "\n",
    "# Example usage\n",
    "df = pd.DataFrame({'A': [10, 20, 30], 'B': [40, 50, 60], 'C': [70, 80, 90]})\n",
    "\n",
    "# Re-index the DataFrame\n",
    "df_reindexed = reindex_dataframe(df)\n",
    "\n",
    "# Display the re-indexed DataFrame\n",
    "print(df_reindexed)\n",
    "\n",
    "\n",
    "\n",
    "In the `reindex_dataframe()` function, we first create a new index using the `RangeIndex` function. The `start` parameter \n",
    "is set to 1, the `stop` parameter is set to `len(df) * 2` to ensure the index increments by 2 for each row, and the `step` \n",
    "parameter is set to 2. \n",
    "\n",
    "Next, we use the `reset_index()` function to reset the existing index and drop it from the DataFrame. This ensures that the \n",
    "DataFrame has a default numerical index starting from 0.\n",
    "\n",
    "Finally, we assign the new index to the DataFrame using the `index` attribute.\n",
    "\n",
    "The resulting DataFrame, `df_reindexed`, has a new index starting from 1 and incrementing by 2 for each row."
   ]
  },
  {
   "cell_type": "code",
   "execution_count": 5,
   "metadata": {},
   "outputs": [
    {
     "name": "stdout",
     "output_type": "stream",
     "text": [
      "Collecting pandas\n",
      "  Downloading pandas-2.0.2-cp38-cp38-manylinux_2_17_x86_64.manylinux2014_x86_64.whl (12.3 MB)\n",
      "\u001b[K     |████████████████████████████████| 12.3 MB 27.1 MB/s eta 0:00:01\n",
      "\u001b[?25hCollecting pytz>=2020.1\n",
      "  Downloading pytz-2023.3-py2.py3-none-any.whl (502 kB)\n",
      "\u001b[K     |████████████████████████████████| 502 kB 63.1 MB/s eta 0:00:01\n",
      "\u001b[?25hCollecting tzdata>=2022.1\n",
      "  Downloading tzdata-2023.3-py2.py3-none-any.whl (341 kB)\n",
      "\u001b[K     |████████████████████████████████| 341 kB 64.4 MB/s eta 0:00:01\n",
      "\u001b[?25hRequirement already satisfied: python-dateutil>=2.8.2 in /config/.local/lib/python3.8/site-packages (from pandas) (2.8.2)\n",
      "Collecting numpy>=1.20.3; python_version < \"3.10\"\n",
      "  Downloading numpy-1.24.3-cp38-cp38-manylinux_2_17_x86_64.manylinux2014_x86_64.whl (17.3 MB)\n",
      "\u001b[K     |████████████████████████████████| 17.3 MB 65.9 MB/s eta 0:00:01\n",
      "\u001b[?25hRequirement already satisfied: six>=1.5 in /config/.local/lib/python3.8/site-packages (from python-dateutil>=2.8.2->pandas) (1.16.0)\n",
      "Installing collected packages: pytz, tzdata, numpy, pandas\n",
      "\u001b[33m  WARNING: The scripts f2py, f2py3 and f2py3.8 are installed in '/config/.local/bin' which is not on PATH.\n",
      "  Consider adding this directory to PATH or, if you prefer to suppress this warning, use --no-warn-script-location.\u001b[0m\n",
      "Successfully installed numpy-1.24.3 pandas-2.0.2 pytz-2023.3 tzdata-2023.3\n",
      "Sum of the first three values: 60\n"
     ]
    }
   ],
   "source": [
    "# Q3. You have a Pandas DataFrame df with a column named 'Values'. Write a Python function that\n",
    "# iterates over the DataFrame and calculates the sum of the first three values in the 'Values' column. The\n",
    "# function should print the sum to the console.\n",
    "\n",
    "# For example, if the 'Values' column of df contains the values [10, 20, 30, 40, 50], your function should\n",
    "# calculate and print the sum of the first three values, which is 60.\n",
    "!pip install pandas\n",
    "import pandas as pd\n",
    "\n",
    "def calculate_sum_first_three_values(df):\n",
    "    sum_values = 0\n",
    "    count = 0\n",
    "\n",
    "    for value in df['Values']:\n",
    "        sum_values += value\n",
    "        count += 1\n",
    "\n",
    "        if count == 3:\n",
    "            break\n",
    "\n",
    "    print(\"Sum of the first three values:\", sum_values)\n",
    "\n",
    "# Example usage\n",
    "df = pd.DataFrame({'Values': [10, 20, 30, 40, 50]})\n",
    "\n",
    "# Calculate the sum of the first three values\n",
    "calculate_sum_first_three_values(df)\n",
    "\n",
    "\n",
    "\n",
    "\n"
   ]
  },
  {
   "cell_type": "code",
   "execution_count": 6,
   "metadata": {},
   "outputs": [
    {
     "name": "stdout",
     "output_type": "stream",
     "text": [
      "                         Text  Word_Count\n",
      "0         Hello, how are you?           4\n",
      "1            I am doing well.           4\n",
      "2  Python programming is fun.           4\n",
      "3   Hey buddy this is rajnish           5\n"
     ]
    }
   ],
   "source": [
    "# Q4. Given a Pandas DataFrame df with a column 'Text', write a Python function to create a new column\n",
    "# 'Word_Count' that contains the number of words in each row of the 'Text' column.\n",
    "\n",
    "\n",
    "\n",
    "def add_word_count_column(df):\n",
    "    df['Word_Count'] = df['Text'].apply(lambda x: len(str(x).split()))\n",
    "    return df\n",
    "\n",
    "# Example usage\n",
    "df = pd.DataFrame({'Text': ['Hello, how are you?', 'I am doing well.', 'Python programming is fun.', 'Hey buddy this is rajnish']})\n",
    "\n",
    "# Add the 'Word_Count' column\n",
    "df = add_word_count_column(df)\n",
    "\n",
    "# Display the updated DataFrame\n",
    "print(df)\n"
   ]
  },
  {
   "cell_type": "code",
   "execution_count": null,
   "metadata": {},
   "outputs": [],
   "source": [
    "# Q5. How are DataFrame.size() and DataFrame.shape() different?"
   ]
  },
  {
   "cell_type": "code",
   "execution_count": null,
   "metadata": {},
   "outputs": [],
   "source": []
  },
  {
   "cell_type": "code",
   "execution_count": null,
   "metadata": {},
   "outputs": [],
   "source": []
  },
  {
   "cell_type": "code",
   "execution_count": null,
   "metadata": {},
   "outputs": [],
   "source": []
  },
  {
   "cell_type": "code",
   "execution_count": null,
   "metadata": {},
   "outputs": [],
   "source": []
  },
  {
   "cell_type": "code",
   "execution_count": null,
   "metadata": {},
   "outputs": [],
   "source": []
  },
  {
   "cell_type": "code",
   "execution_count": null,
   "metadata": {},
   "outputs": [],
   "source": []
  },
  {
   "cell_type": "code",
   "execution_count": null,
   "metadata": {},
   "outputs": [],
   "source": []
  },
  {
   "cell_type": "code",
   "execution_count": null,
   "metadata": {},
   "outputs": [],
   "source": []
  }
 ],
 "metadata": {
  "kernelspec": {
   "display_name": "Python 3.8.10 64-bit",
   "language": "python",
   "name": "python3"
  },
  "language_info": {
   "codemirror_mode": {
    "name": "ipython",
    "version": 3
   },
   "file_extension": ".py",
   "mimetype": "text/x-python",
   "name": "python",
   "nbconvert_exporter": "python",
   "pygments_lexer": "ipython3",
   "version": "3.8.10"
  },
  "orig_nbformat": 4,
  "vscode": {
   "interpreter": {
    "hash": "e7370f93d1d0cde622a1f8e1c04877d8463912d04d973331ad4851f04de6915a"
   }
  }
 },
 "nbformat": 4,
 "nbformat_minor": 2
}
