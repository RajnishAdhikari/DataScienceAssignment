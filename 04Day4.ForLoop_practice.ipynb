{
 "cells": [
  {
   "cell_type": "code",
   "execution_count": 1,
   "id": "ca4c918b-b48e-4bc1-b958-d0dc84839d18",
   "metadata": {},
   "outputs": [
    {
     "name": "stdout",
     "output_type": "stream",
     "text": [
      "1\n",
      "2\n",
      "3\n",
      "4\n",
      "5\n"
     ]
    }
   ],
   "source": [
    "l = [1,2,3,4,5]\n",
    "#performing various operations\n",
    "for i in l:\n",
    "    print(i)"
   ]
  },
  {
   "cell_type": "code",
   "execution_count": 2,
   "id": "d4fd47a4-d3b9-4520-87f3-33b812eab1ca",
   "metadata": {},
   "outputs": [
    {
     "name": "stdout",
     "output_type": "stream",
     "text": [
      "ram <class 'str'>\n",
      "rajnish <class 'str'>\n",
      "shyam <class 'str'>\n",
      "adhikari <class 'str'>\n"
     ]
    }
   ],
   "source": [
    "l1 = [\"ram\",\"rajnish\",\"shyam\",\"adhikari\"]\n",
    "for i in l1:\n",
    "    print(i,type(i))"
   ]
  },
  {
   "cell_type": "code",
   "execution_count": 3,
   "id": "e25f059b-447e-41e5-b1c2-61a43411c6b3",
   "metadata": {},
   "outputs": [
    {
     "name": "stdout",
     "output_type": "stream",
     "text": [
      "ram\n",
      "rajnish\n",
      "shyam\n",
      "adhikari\n",
      "if for loop is able to complete itself then only else will execute\n"
     ]
    }
   ],
   "source": [
    "#for else statement which is possible in python only\n",
    "for i in l1:\n",
    "    print(i)\n",
    "    \n",
    "else:\n",
    "    print(\"if for loop is able to complete itself then only else will execute\")"
   ]
  },
  {
   "cell_type": "code",
   "execution_count": 4,
   "id": "3e49994c-a2be-4f23-a190-34467c9757f1",
   "metadata": {},
   "outputs": [
    {
     "name": "stdout",
     "output_type": "stream",
     "text": [
      "ram\n"
     ]
    }
   ],
   "source": [
    "for i in l1:\n",
    "    if i == \"rajnish\":\n",
    "        break\n",
    "    print(i)"
   ]
  },
  {
   "cell_type": "code",
   "execution_count": 6,
   "id": "bffcf94f-b7be-4f5c-ba5f-86cd44004dc5",
   "metadata": {},
   "outputs": [
    {
     "name": "stdout",
     "output_type": "stream",
     "text": [
      "ram\n"
     ]
    }
   ],
   "source": [
    "for i in l1:\n",
    "    if i == \"rajnish\":\n",
    "        break\n",
    "    print(i)\n",
    "else:    #else will execute if and only if for loop executes completely but in our case we have break\n",
    "    print(\"execute this if for loop is able to complete or execute\")  \n",
    "    "
   ]
  },
  {
   "cell_type": "code",
   "execution_count": 7,
   "id": "0f3dad76-0aec-4dcc-8398-ed6eafa604bc",
   "metadata": {},
   "outputs": [
    {
     "data": {
      "text/plain": [
       "['ram', 'rajnish', 'shyam', 'adhikari']"
      ]
     },
     "execution_count": 7,
     "metadata": {},
     "output_type": "execute_result"
    }
   ],
   "source": [
    "l1"
   ]
  },
  {
   "cell_type": "code",
   "execution_count": 8,
   "id": "c05b7355-2771-4e78-8785-2b126121a187",
   "metadata": {},
   "outputs": [
    {
     "name": "stdout",
     "output_type": "stream",
     "text": [
      "ram\n",
      "shyam\n",
      "adhikari\n"
     ]
    }
   ],
   "source": [
    "for i in l1:\n",
    "    if i == \"rajnish\":\n",
    "        continue\n",
    "    print(i)"
   ]
  },
  {
   "cell_type": "code",
   "execution_count": 9,
   "id": "659ebf4f-47bb-48ad-9206-d11065dd47eb",
   "metadata": {},
   "outputs": [
    {
     "name": "stdout",
     "output_type": "stream",
     "text": [
      "ram\n",
      "shyam\n",
      "adhikari\n",
      "execute this if for loop is able to complete or execute\n"
     ]
    }
   ],
   "source": [
    "for i in l1:\n",
    "    if i == \"rajnish\":\n",
    "        continue\n",
    "    print(i)\n",
    "else:\n",
    "    print(\"execute this if for loop is able to complete or execute\")"
   ]
  },
  {
   "cell_type": "code",
   "execution_count": 10,
   "id": "5d522cb1-6a5c-45be-a788-7f30fbdd862b",
   "metadata": {},
   "outputs": [
    {
     "data": {
      "text/plain": [
       "range(0, 5)"
      ]
     },
     "execution_count": 10,
     "metadata": {},
     "output_type": "execute_result"
    }
   ],
   "source": [
    "#use of range function\n",
    "range(5)  "
   ]
  },
  {
   "cell_type": "code",
   "execution_count": 11,
   "id": "c62736b5-bb79-410c-b167-936340506e01",
   "metadata": {},
   "outputs": [
    {
     "data": {
      "text/plain": [
       "[0, 1, 2, 3, 4]"
      ]
     },
     "execution_count": 11,
     "metadata": {},
     "output_type": "execute_result"
    }
   ],
   "source": [
    "list(range(5))  #this generates data excluding 5"
   ]
  },
  {
   "cell_type": "code",
   "execution_count": 12,
   "id": "410973b3-bf39-46c5-9a12-afa725e78cd7",
   "metadata": {},
   "outputs": [
    {
     "data": {
      "text/plain": [
       "[0, 1, 2, 3, 4]"
      ]
     },
     "execution_count": 12,
     "metadata": {},
     "output_type": "execute_result"
    }
   ],
   "source": [
    "list(range(0,5,1))  #jump step size as 1"
   ]
  },
  {
   "cell_type": "code",
   "execution_count": 14,
   "id": "cef43be5-ce4c-4e8c-98b2-af88affed37c",
   "metadata": {},
   "outputs": [
    {
     "data": {
      "text/plain": [
       "[0, 2, 4, 6, 8, 10, 12, 14, 16, 18]"
      ]
     },
     "execution_count": 14,
     "metadata": {},
     "output_type": "execute_result"
    }
   ],
   "source": [
    "#to print the even numbers from 0 to 20\n",
    "list(range(0,20,2))"
   ]
  },
  {
   "cell_type": "code",
   "execution_count": 15,
   "id": "9b1e2edd-519c-4ded-aa4b-7b60e7112fcb",
   "metadata": {},
   "outputs": [
    {
     "data": {
      "text/plain": [
       "[-10, -9, -8, -7, -6, -5, -4, -3, -2, -1]"
      ]
     },
     "execution_count": 15,
     "metadata": {},
     "output_type": "execute_result"
    }
   ],
   "source": [
    "list(range(-10,0))"
   ]
  },
  {
   "cell_type": "code",
   "execution_count": 16,
   "id": "5e3ac255-5811-431b-9a62-905151ad8ed7",
   "metadata": {},
   "outputs": [
    {
     "data": {
      "text/plain": [
       "['ram', 'rajnish', 'shyam', 'adhikari']"
      ]
     },
     "execution_count": 16,
     "metadata": {},
     "output_type": "execute_result"
    }
   ],
   "source": [
    "# printing the list in reverse order using for loop and range\n",
    "l1"
   ]
  },
  {
   "cell_type": "code",
   "execution_count": null,
   "id": "374c78e1-bd45-4b2c-b316-010b7bcd00b4",
   "metadata": {},
   "outputs": [
    {
     "data": {
      "text/plain": [
       "4"
      ]
     },
     "execution_count": 18,
     "metadata": {},
     "output_type": "execute_result"
    }
   ],
   "source": [
    "len(l1)"
   ]
  },
  {
   "cell_type": "code",
   "execution_count": 19,
   "id": "d5b4480b-28ea-4a1b-ac1e-94d7c6826b51",
   "metadata": {},
   "outputs": [
    {
     "data": {
      "text/plain": [
       "[0, 1, 2, 3]"
      ]
     },
     "execution_count": 19,
     "metadata": {},
     "output_type": "execute_result"
    }
   ],
   "source": [
    "list(range(len(l1)))"
   ]
  },
  {
   "cell_type": "code",
   "execution_count": 20,
   "id": "e8a38a11-369b-4147-86f1-3a3ed51c8cb3",
   "metadata": {},
   "outputs": [
    {
     "name": "stdout",
     "output_type": "stream",
     "text": [
      "ram\n",
      "rajnish\n",
      "shyam\n",
      "adhikari\n"
     ]
    }
   ],
   "source": [
    "for i in range(len(l1)):\n",
    "    print(l1[i])"
   ]
  },
  {
   "cell_type": "code",
   "execution_count": 27,
   "id": "5397c98d-a96d-41e4-9ee9-f755fdb20567",
   "metadata": {},
   "outputs": [
    {
     "data": {
      "text/plain": [
       "[3, 2, 1, 0]"
      ]
     },
     "execution_count": 27,
     "metadata": {},
     "output_type": "execute_result"
    }
   ],
   "source": [
    "list(range(len(l1)-1,-1,-1))   #(here we do have upper bound, lower bound and jump)"
   ]
  },
  {
   "cell_type": "code",
   "execution_count": 29,
   "id": "8b1e4d61-8e0f-4091-8147-ec6d4169d86c",
   "metadata": {},
   "outputs": [
    {
     "name": "stdout",
     "output_type": "stream",
     "text": [
      "adhikari\n",
      "shyam\n",
      "rajnish\n",
      "ram\n"
     ]
    }
   ],
   "source": [
    "for i in range(len(l1)-1,-1,-1):\n",
    "    print(l1[i])"
   ]
  },
  {
   "cell_type": "code",
   "execution_count": 30,
   "id": "1d16e65e-9f2a-467b-8742-b500641d21be",
   "metadata": {},
   "outputs": [],
   "source": [
    "# extract the data form the list form even index only \n",
    "l2 = [23,3,5,6,4,33,65,76,87,87,44]\n"
   ]
  },
  {
   "cell_type": "code",
   "execution_count": 32,
   "id": "32c9b0e4-6c30-4ab4-bc7f-2bb8d4f12232",
   "metadata": {},
   "outputs": [
    {
     "data": {
      "text/plain": [
       "[0, 2, 4, 6, 8, 10]"
      ]
     },
     "execution_count": 32,
     "metadata": {},
     "output_type": "execute_result"
    }
   ],
   "source": [
    "# at first generating the even index only\n",
    "list(range(0,len(l2),2))"
   ]
  },
  {
   "cell_type": "code",
   "execution_count": 34,
   "id": "c1af4425-c6b2-4ce2-9c1b-4e54b6cf983a",
   "metadata": {},
   "outputs": [
    {
     "name": "stdout",
     "output_type": "stream",
     "text": [
      "23\n",
      "5\n",
      "4\n",
      "65\n",
      "87\n",
      "44\n"
     ]
    }
   ],
   "source": [
    "for i in range(0,len(l2),2):\n",
    "    print(l2[i])"
   ]
  },
  {
   "cell_type": "code",
   "execution_count": 4,
   "id": "281b3d33-909d-4734-9c78-2db7cb135e51",
   "metadata": {},
   "outputs": [
    {
     "data": {
      "text/plain": [
       "157"
      ]
     },
     "execution_count": 4,
     "metadata": {},
     "output_type": "execute_result"
    }
   ],
   "source": [
    "l = [1,2,3,4,5,44,55,43]\n",
    "# to find the sum of elements in a list\n",
    "sum(l)\n"
   ]
  },
  {
   "cell_type": "code",
   "execution_count": 6,
   "id": "6f40b3b7-4b85-4f41-ab46-f925566de34a",
   "metadata": {},
   "outputs": [
    {
     "data": {
      "text/plain": [
       "157"
      ]
     },
     "execution_count": 6,
     "metadata": {},
     "output_type": "execute_result"
    }
   ],
   "source": [
    "result = 0\n",
    "for i in l:\n",
    "    result = result + i\n",
    "result"
   ]
  },
  {
   "cell_type": "code",
   "execution_count": 10,
   "id": "06576411-2626-48d8-9780-4c39f3aad282",
   "metadata": {},
   "outputs": [
    {
     "name": "stdout",
     "output_type": "stream",
     "text": [
      "2\n",
      "3\n",
      "4\n",
      "5\n",
      "6\n",
      "6\n"
     ]
    }
   ],
   "source": [
    "t = (2,3,4,5,6,6)\n",
    "\n",
    "for i in t:\n",
    "    print(i)"
   ]
  },
  {
   "cell_type": "code",
   "execution_count": 8,
   "id": "1ad81212-5533-47e1-9e61-8f9bd385d982",
   "metadata": {},
   "outputs": [
    {
     "data": {
      "text/plain": [
       "26"
      ]
     },
     "execution_count": 8,
     "metadata": {},
     "output_type": "execute_result"
    }
   ],
   "source": [
    "#finding the sum\n",
    "result = 0\n",
    "for i in t:\n",
    "    result = result + i\n",
    "result"
   ]
  },
  {
   "cell_type": "code",
   "execution_count": 12,
   "id": "f315b7dd-bfb9-4d6a-a927-523d30a267be",
   "metadata": {},
   "outputs": [
    {
     "name": "stdout",
     "output_type": "stream",
     "text": [
      "1\n",
      "2\n",
      "3\n",
      "4\n",
      "5\n",
      "6\n",
      "rajnish\n"
     ]
    }
   ],
   "source": [
    "s = {1,2,3,4,5,6,\"rajnish\"}\n",
    "for i in s:\n",
    "    print(i)"
   ]
  },
  {
   "cell_type": "code",
   "execution_count": 13,
   "id": "964905cd-b16c-44a4-a671-61d121c30abe",
   "metadata": {},
   "outputs": [],
   "source": [
    "s1 = \"rajnish\""
   ]
  },
  {
   "cell_type": "code",
   "execution_count": 14,
   "id": "a7dbad8d-90ba-469e-bfbf-665e88806d4f",
   "metadata": {},
   "outputs": [
    {
     "name": "stdout",
     "output_type": "stream",
     "text": [
      "r\n",
      "a\n",
      "j\n",
      "n\n",
      "i\n",
      "s\n",
      "h\n"
     ]
    }
   ],
   "source": [
    "for i in s1:\n",
    "    print(i)"
   ]
  },
  {
   "cell_type": "code",
   "execution_count": 15,
   "id": "032c8d57-2856-47c6-a3fe-5750453f26ee",
   "metadata": {},
   "outputs": [
    {
     "data": {
      "text/plain": [
       "{'name': 'rajnish',\n",
       " 'class': 'ds',\n",
       " 'topic': ['python', 'stats', 'ml', 'deeplearning', 'nlp']}"
      ]
     },
     "execution_count": 15,
     "metadata": {},
     "output_type": "execute_result"
    }
   ],
   "source": [
    "d = {\"name\": \"rajnish\", \"class\" : \"ds\", \"topic\":[\"python\",\"stats\",\"ml\",\"deeplearning\",\n",
    "                                                \"nlp\"]}\n",
    "d"
   ]
  },
  {
   "cell_type": "code",
   "execution_count": 16,
   "id": "be58a848-a636-40e1-9dfe-6e4dcde088c6",
   "metadata": {},
   "outputs": [
    {
     "data": {
      "text/plain": [
       "dict_keys(['name', 'class', 'topic'])"
      ]
     },
     "execution_count": 16,
     "metadata": {},
     "output_type": "execute_result"
    }
   ],
   "source": [
    "#to find all the value of keys using the for  loop\n",
    "d.keys()"
   ]
  },
  {
   "cell_type": "code",
   "execution_count": 19,
   "id": "b7f3b4ec-65ca-40b1-8cb2-7556501e0df4",
   "metadata": {},
   "outputs": [
    {
     "name": "stdout",
     "output_type": "stream",
     "text": [
      "rajnish\n",
      "ds\n",
      "['python', 'stats', 'ml', 'deeplearning', 'nlp']\n"
     ]
    }
   ],
   "source": [
    "for i in d.keys():\n",
    "    print(d[i])  #printing the values of the respective keys"
   ]
  },
  {
   "cell_type": "code",
   "execution_count": 20,
   "id": "c1819971-2226-465d-a03b-a07436f637a9",
   "metadata": {},
   "outputs": [
    {
     "data": {
      "text/plain": [
       "dict_values(['rajnish', 'ds', ['python', 'stats', 'ml', 'deeplearning', 'nlp']])"
      ]
     },
     "execution_count": 20,
     "metadata": {},
     "output_type": "execute_result"
    }
   ],
   "source": [
    "d.values()"
   ]
  },
  {
   "cell_type": "code",
   "execution_count": 21,
   "id": "028f41fd-238f-4fca-95df-e5324a76517b",
   "metadata": {},
   "outputs": [
    {
     "name": "stdout",
     "output_type": "stream",
     "text": [
      "rajnish\n",
      "ds\n",
      "['python', 'stats', 'ml', 'deeplearning', 'nlp']\n"
     ]
    }
   ],
   "source": [
    "for i in d.values():\n",
    "    print(i)"
   ]
  },
  {
   "cell_type": "code",
   "execution_count": 22,
   "id": "5065c367-bee4-4408-89b6-56ef4f64860e",
   "metadata": {},
   "outputs": [
    {
     "data": {
      "text/plain": [
       "dict_items([('name', 'rajnish'), ('class', 'ds'), ('topic', ['python', 'stats', 'ml', 'deeplearning', 'nlp'])])"
      ]
     },
     "execution_count": 22,
     "metadata": {},
     "output_type": "execute_result"
    }
   ],
   "source": [
    "# to print key value pairs using for loop\n",
    "d.items()"
   ]
  },
  {
   "cell_type": "code",
   "execution_count": 23,
   "id": "907a845a-0ca1-4bae-a7d4-bb28975813f4",
   "metadata": {},
   "outputs": [
    {
     "name": "stdout",
     "output_type": "stream",
     "text": [
      "('name', 'rajnish')\n",
      "('class', 'ds')\n",
      "('topic', ['python', 'stats', 'ml', 'deeplearning', 'nlp'])\n"
     ]
    }
   ],
   "source": [
    "for i in d.items():\n",
    "    print(i)\n"
   ]
  },
  {
   "cell_type": "code",
   "execution_count": 2,
   "id": "7679523f-1a48-4cc1-9a1e-3f572ad64116",
   "metadata": {},
   "outputs": [
    {
     "name": "stdout",
     "output_type": "stream",
     "text": [
      "4\n",
      "9\n",
      "16\n",
      "16\n",
      "100\n"
     ]
    }
   ],
   "source": [
    "# finding square of each element in list \n",
    "numbers = [2,3,4,-4, 10]\n",
    "for i in numbers:\n",
    "    square = i **2\n",
    "    print(square)"
   ]
  },
  {
   "cell_type": "code",
   "execution_count": null,
   "id": "6c81000d",
   "metadata": {},
   "outputs": [],
   "source": []
  }
 ],
 "metadata": {
  "kernelspec": {
   "display_name": "Python 3.8.10 64-bit",
   "language": "python",
   "name": "python3"
  },
  "language_info": {
   "codemirror_mode": {
    "name": "ipython",
    "version": 3
   },
   "file_extension": ".py",
   "mimetype": "text/x-python",
   "name": "python",
   "nbconvert_exporter": "python",
   "pygments_lexer": "ipython3",
   "version": "3.8.10"
  },
  "vscode": {
   "interpreter": {
    "hash": "e7370f93d1d0cde622a1f8e1c04877d8463912d04d973331ad4851f04de6915a"
   }
  }
 },
 "nbformat": 4,
 "nbformat_minor": 5
}
