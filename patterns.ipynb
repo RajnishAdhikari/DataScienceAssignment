{
 "cells": [
  {
   "cell_type": "code",
   "execution_count": null,
   "metadata": {},
   "outputs": [],
   "source": [
    "# printing the pattern\n",
    "n = int(input())\n",
    "i = 1 \n",
    "while i <= n:\n",
    "    i = i + 1"
   ]
  }
 ],
 "metadata": {
  "language_info": {
   "name": "python"
  },
  "orig_nbformat": 4
 },
 "nbformat": 4,
 "nbformat_minor": 2
}
