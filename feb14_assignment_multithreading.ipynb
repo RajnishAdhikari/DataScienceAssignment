{
 "cells": [
  {
   "cell_type": "code",
   "execution_count": null,
   "metadata": {},
   "outputs": [],
   "source": [
    "# Q1. what is multithreading in python? hy is it used? Name the module used to handle threads in python\n",
    "# Multithreading in Python refers to the process of executing multiple threads simultaneously within \n",
    "# a single process. A thread is a lightweight unit of execution that can run independently, allowing \n",
    "# different parts of a program to run concurrently. Multithreading is used to achieve parallelism and\n",
    "#  improve the performance of a program by utilizing multiple CPUs or CPU cores efficiently.\n",
    "\n",
    "# Multithreading is used for various purposes, including:\n",
    "# 1. Improving performance: By utilizing multiple threads, tasks can be executed concurrently, \n",
    "# resulting in faster completion of programs. This is particularly beneficial for computationally \n",
    "# intensive or time-consuming operations.\n",
    "\n",
    "# 2. Handling input/output (I/O) operations: Multithreading is useful for managing I/O-bound tasks, \n",
    "# such as reading from or writing to files, network communication, or interacting with databases.\n",
    "#  While one thread is waiting for I/O operations to complete, other threads can continue executing, \n",
    "# making the program more responsive.\n",
    "\n",
    "# 3. Parallel processing: Multithreading allows for parallel execution of tasks, enabling \n",
    "# efficient utilization of multiple CPUs or CPU cores. This is especially advantageous for tasks \n",
    "# that can be divided into independent subtasks that can run concurrently.\n",
    "\n",
    "# 4. Event-driven programming: Multithreading facilitates event-driven architectures, where different \n",
    "# threads handle different events simultaneously. This is commonly used in graphical user interfaces (GUIs), \n",
    "# web servers, and other applications that need to handle multiple events concurrently.\n",
    "\n",
    "# The module used to handle threads in Python is the \"threading\" module. It provides a high-level interface \n",
    "# and tools for creating, managing, and synchronizing threads in Python programs. The threading module \n",
    "# simplifies the process of working with threads by providing functions and classes for starting threads, \n",
    "# managing their lifecycle, and coordinating their execution."
   ]
  }
 ],
 "metadata": {
  "language_info": {
   "name": "python"
  },
  "orig_nbformat": 4
 },
 "nbformat": 4,
 "nbformat_minor": 2
}
