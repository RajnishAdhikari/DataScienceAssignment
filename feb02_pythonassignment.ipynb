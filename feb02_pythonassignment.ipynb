{
 "cells": [
  {
   "cell_type": "code",
   "execution_count": 3,
   "id": "2b5f7cce-7793-4e1f-80a6-4cc65d8a086d",
   "metadata": {},
   "outputs": [
    {
     "data": {
      "text/plain": [
       "'For loop is typically used when you know the number of times you want to iterate through a block of code. \\nIt\\'s especially useful when you want to iterate through a collection such as a list or an array. \\nHere\\'s an example:\\n\\n\\n# using for loop to iterate through a list of numbers\\nnumbers = [1, 2, 3, 4, 5]\\nsum = 0\\nfor num in numbers:\\n    sum += num\\nprint(\"Sum of numbers:\", sum)\\nIn the example above, the for loop is used to iterate through the numbers list and add up all \\nthe elements to calculate the sum of all the numbers.\\n\\nWhile loop, on the other hand, is used when you don\\'t know how many times you want to iterate through \\na block of code. It\\'s useful when you want to keep iterating until a certain condition is met. \\nHere\\'s an example:\\n\\n\\n# using while loop to keep iterating until a condition is met\\nnum = 0\\nwhile num < 10:\\n    print(num)\\n    num += 1\\nIn the example above, the while loop is used to keep iterating and printing the value of num until it \\nbecomes greater than or equal to 10. The loop will keep running until the condition num < 10 is false.'"
      ]
     },
     "execution_count": 3,
     "metadata": {},
     "output_type": "execute_result"
    }
   ],
   "source": [
    "# Q1   Explain with an example each when to use a for loop and a while loop.\n",
    "\n",
    "\n",
    "'''For loop is typically used when you know the number of times you want to iterate through a block of code. \n",
    "It's especially useful when you want to iterate through a collection such as a list or an array. \n",
    "Here's an example:\n",
    "\n",
    "\n",
    "# using for loop to iterate through a list of numbers\n",
    "numbers = [1, 2, 3, 4, 5]\n",
    "sum = 0\n",
    "for num in numbers:\n",
    "    sum += num\n",
    "print(\"Sum of numbers:\", sum)\n",
    "In the example above, the for loop is used to iterate through the numbers list and add up all \n",
    "the elements to calculate the sum of all the numbers.\n",
    "\n",
    "While loop, on the other hand, is used when you don't know how many times you want to iterate through \n",
    "a block of code. It's useful when you want to keep iterating until a certain condition is met. \n",
    "Here's an example:\n",
    "\n",
    "\n",
    "# using while loop to keep iterating until a condition is met\n",
    "num = 0\n",
    "while num < 10:\n",
    "    print(num)\n",
    "    num += 1\n",
    "In the example above, the while loop is used to keep iterating and printing the value of num until it \n",
    "becomes greater than or equal to 10. The loop will keep running until the condition num < 10 is false.'''"
   ]
  },
  {
   "cell_type": "code",
   "execution_count": 10,
   "id": "76b4233d-42de-447b-b3fa-913f3a8f3de2",
   "metadata": {},
   "outputs": [
    {
     "name": "stdout",
     "output_type": "stream",
     "text": [
      "The sum is: 55\n",
      "the product is: 3628800\n"
     ]
    }
   ],
   "source": [
    "# Q2. Write a python program to print the sum and product of the first 10 natural numbers using for\n",
    "# and while loop.\n",
    "l = [1,2,3,4,5,6,7,8,9,10]\n",
    "sum = 0\n",
    "product = 1\n",
    "for x in l:\n",
    "    sum = sum + x \n",
    "    product = product * x\n",
    "print(\"The sum is:\", sum)\n",
    "print(\"the product is:\", product)\n"
   ]
  },
  {
   "cell_type": "code",
   "execution_count": 12,
   "id": "e16b34f6-1450-478a-aa09-83928e9d2c5f",
   "metadata": {},
   "outputs": [
    {
     "name": "stdout",
     "output_type": "stream",
     "text": [
      "The sum is: 55\n",
      "the product is: 3628800\n"
     ]
    }
   ],
   "source": [
    "l = [1,2,3,4,5,6,7,8,9,10]\n",
    "sum = 0\n",
    "product = 1\n",
    "i = 0\n",
    "while i < len(l):\n",
    "    sum = sum + l[i]\n",
    "    product = product * l[i]\n",
    "    i = i + 1\n",
    "print(\"The sum is:\", sum)\n",
    "print(\"the product is:\", product)"
   ]
  },
  {
   "cell_type": "code",
   "execution_count": 15,
   "id": "45bbe283-8ff1-4855-900a-462617973ee0",
   "metadata": {},
   "outputs": [
    {
     "name": "stdout",
     "output_type": "stream",
     "text": [
      "Enter the units consumed:  310\n"
     ]
    },
    {
     "name": "stdout",
     "output_type": "stream",
     "text": [
      "The total electricity bill is: 2250.0\n"
     ]
    }
   ],
   "source": [
    "# Q3. Create a python program to compute the electricity bill for a household.\n",
    "# The per-unit charges in rupees are as follows: \n",
    "# For the first 100 units, the user will be charged Rs. 4.5 per unit, \n",
    "# for the next 100 units, the user will be charged Rs. 6 per unit, and \n",
    "# for the next 100 units, the user will be charged Rs. 10 per unit, \n",
    "# After 300 units and above the user will be charged Rs. 20 per unit.\n",
    "# You are required to take the units of electricity consumed in a month from the user as input.\n",
    "# Your program must pass this test case: when the unit of electricity consumed by the user in a month is\n",
    "# 310, the total electricity bill should be 2250.\n",
    "\n",
    "# Taking input of units consumed\n",
    "units = int(input(\"Enter the units consumed: \"))\n",
    "\n",
    "# Setting up variables for per-unit charges and initial bill amount\n",
    "per_unit_charge = 0\n",
    "bill = 0\n",
    "\n",
    "# Calculating the electricity bill based on the per-unit charges using while loop\n",
    "while units > 0:\n",
    "    if units <= 100:\n",
    "        per_unit_charge = 4.5\n",
    "        bill += units * per_unit_charge\n",
    "        units = 0\n",
    "    elif units <= 200:\n",
    "        per_unit_charge = 6\n",
    "        bill += 100 * 4.5 + (units - 100) * per_unit_charge\n",
    "        units = 0\n",
    "    elif units <= 300:\n",
    "        per_unit_charge = 10\n",
    "        bill += 100 * 4.5 + 100 * 6 + (units - 200) * per_unit_charge\n",
    "        units = 0\n",
    "    else:\n",
    "        per_unit_charge = 20\n",
    "        bill += 100 * 4.5 + 100 * 6 + 100 * 10 + (units - 300) * per_unit_charge\n",
    "        units = 0\n",
    "\n",
    "# Printing the total electricity bill\n",
    "print(\"The total electricity bill is:\", bill)\n",
    "\n"
   ]
  },
  {
   "cell_type": "code",
   "execution_count": 16,
   "id": "ab9f1de5-755d-4fa2-a393-1072b9da7212",
   "metadata": {},
   "outputs": [
    {
     "name": "stdout",
     "output_type": "stream",
     "text": [
      "[8, 64, 125, 216, 512, 1000, 1728, 2744, 3375, 4096, 5832, 8000, 10648, 13824, 15625, 17576, 21952, 27000, 32768, 39304, 42875, 46656, 54872, 64000, 74088, 85184, 91125, 97336, 110592, 125000, 140608, 157464, 166375, 175616, 195112, 216000, 238328, 262144, 274625, 287496, 314432, 343000, 373248, 405224, 421875, 438976, 474552, 512000, 551368, 592704, 614125, 636056, 681472, 729000, 778688, 830584, 857375, 884736, 941192, 1000000]\n"
     ]
    }
   ],
   "source": [
    "# Q4. Create a list of numbers from 1 to 100. Use for loop and while loop to calculate the cube of each\n",
    "# number and if the cube of that number is divisible by 4 or 5 then append that number in a list and print\n",
    "# that list.\n",
    "\n",
    "# Using for loop to create a list of cubes of numbers from 1 to 100\n",
    "cubes = [i**3 for i in range(1, 101)]\n",
    "\n",
    "# Using for loop to append the numbers whose cube is divisible by 4 or 5 into a new list\n",
    "divisible_by_4_or_5 = []\n",
    "for cube in cubes:\n",
    "    if cube % 4 == 0 or cube % 5 == 0:\n",
    "        divisible_by_4_or_5.append(cube)\n",
    "\n",
    "# Printing the new list\n",
    "print(divisible_by_4_or_5)\n"
   ]
  },
  {
   "cell_type": "code",
   "execution_count": 17,
   "id": "3eaa27f2-d1a4-4bb3-acc4-f736e26ac22f",
   "metadata": {},
   "outputs": [
    {
     "name": "stdout",
     "output_type": "stream",
     "text": [
      "[8, 64, 125, 216, 512, 1000, 1728, 2744, 3375, 4096, 5832, 8000, 10648, 13824, 15625, 17576, 21952, 27000, 32768, 39304, 42875, 46656, 54872, 64000, 74088, 85184, 91125, 97336, 110592, 125000, 140608, 157464, 166375, 175616, 195112, 216000, 238328, 262144, 274625, 287496, 314432, 343000, 373248, 405224, 421875, 438976, 474552, 512000, 551368, 592704, 614125, 636056, 681472, 729000, 778688, 830584, 857375, 884736, 941192, 1000000]\n"
     ]
    }
   ],
   "source": [
    "# Using while loop to create a list of cubes of numbers from 1 to 100\n",
    "cubes = []\n",
    "i = 1\n",
    "while i <= 100:\n",
    "    cubes.append(i**3)\n",
    "    i += 1\n",
    "\n",
    "# Using while loop to append the numbers whose cube is divisible by 4 or 5 into a new list\n",
    "divisible_by_4_or_5 = []\n",
    "j = 0\n",
    "while j < len(cubes):\n",
    "    if cubes[j] % 4 == 0 or cubes[j] % 5 == 0:\n",
    "        divisible_by_4_or_5.append(cubes[j])\n",
    "    j += 1\n",
    "\n",
    "# Printing the new list\n",
    "print(divisible_by_4_or_5)\n"
   ]
  },
  {
   "cell_type": "code",
   "execution_count": 18,
   "id": "c18d51c3-81a9-48ea-b210-1dda35357d6e",
   "metadata": {},
   "outputs": [
    {
     "name": "stdout",
     "output_type": "stream",
     "text": [
      "The number of vowels in the given string is: 12\n"
     ]
    }
   ],
   "source": [
    "# Q5. Write a program to filter count vowels in the below-given string.\n",
    "# string = \"I want to become a data scientist\"\n",
    "string = \"I want to become a data scientist\"\n",
    "vowels = \"aeiouAEIOU\"\n",
    "count = 0\n",
    "\n",
    "for char in string:\n",
    "    if char in vowels:\n",
    "        count += 1\n",
    "\n",
    "print(\"The number of vowels in the given string is:\", count)\n",
    "\n"
   ]
  },
  {
   "cell_type": "code",
   "execution_count": null,
   "id": "d23be47b-3d7f-4a3d-936b-b0748a5bf5ab",
   "metadata": {},
   "outputs": [],
   "source": []
  }
 ],
 "metadata": {
  "kernelspec": {
   "display_name": "Python 3.8.10 64-bit",
   "language": "python",
   "name": "python3"
  },
  "language_info": {
   "codemirror_mode": {
    "name": "ipython",
    "version": 3
   },
   "file_extension": ".py",
   "mimetype": "text/x-python",
   "name": "python",
   "nbconvert_exporter": "python",
   "pygments_lexer": "ipython3",
   "version": "3.8.10"
  },
  "vscode": {
   "interpreter": {
    "hash": "e7370f93d1d0cde622a1f8e1c04877d8463912d04d973331ad4851f04de6915a"
   }
  }
 },
 "nbformat": 4,
 "nbformat_minor": 5
}
