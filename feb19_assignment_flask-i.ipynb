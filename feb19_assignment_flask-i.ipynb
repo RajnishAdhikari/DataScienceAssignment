{
 "cells": [
  {
   "cell_type": "code",
   "execution_count": 1,
   "metadata": {},
   "outputs": [],
   "source": [
    "# # Q1. What is Flask Framework? What are the advantages of Flask Framework?\n",
    "\n",
    "# Flask is a popular web framework for building web applications in Python. It is considered a micro-framework because it provides a minimalistic \n",
    "# set of tools and libraries, allowing developers to have more flexibility and control over the structure and components of their web applications. \n",
    "# Flask is known for its simplicity, ease of use, and flexibility, making it a great choice for small to medium-sized projects or prototyping.\n",
    "\n",
    "# Here are some key features of Flask:\n",
    "\n",
    "# 1. Lightweight and modular: Flask has a minimalistic core and provides only the essentials for building a web application. Additional features \n",
    "# can be added as extensions or libraries, allowing developers to choose the components they need.\n",
    "\n",
    "# 2. Routing: Flask provides a routing mechanism that allows developers to map URLs to functions, making it easy to define the behavior of different \n",
    "# parts of the application.\n",
    "\n",
    "# 3. Templating: Flask comes with a built-in templating engine called Jinja2, which allows developers to generate dynamic HTML pages. Templating helps \n",
    "# separate the presentation logic from the application logic.\n",
    "\n",
    "# 4. Web server development: Flask includes a lightweight development server, which is suitable for development and testing purposes. In production, \n",
    "# Flask can be deployed using various web servers such as Gunicorn or uWSGI.\n",
    "\n",
    "# 5. Integration with other tools and libraries: Flask integrates well with other popular Python libraries and tools, allowing developers to leverage \n",
    "# their functionality. It works well with databases, such as SQLAlchemy and Flask-SQLAlchemy, and supports authentication, session management, and form validation.\n",
    "\n",
    "# 6. RESTful API development: Flask is often used for building RESTful APIs due to its simplicity and flexibility. It provides features like request parsing, \n",
    "# response formatting, and support for different HTTP methods.\n",
    "\n",
    "# 7. Extensibility: Flask has a rich ecosystem of extensions and libraries, which provide additional functionality like database integration, authentication, \n",
    "# caching, and more. These extensions can be easily integrated into a Flask application.\n",
    "\n",
    "# Overall, Flask is a versatile and lightweight web framework that provides the necessary tools for building web applications in Python. It offers developers \n",
    "# the freedom to choose their components and structure, making it suitable for a wide range of projects."
   ]
  },
  {
   "cell_type": "code",
   "execution_count": null,
   "metadata": {},
   "outputs": [],
   "source": []
  }
 ],
 "metadata": {
  "kernelspec": {
   "display_name": "Python 3.8.10 64-bit",
   "language": "python",
   "name": "python3"
  },
  "language_info": {
   "codemirror_mode": {
    "name": "ipython",
    "version": 3
   },
   "file_extension": ".py",
   "mimetype": "text/x-python",
   "name": "python",
   "nbconvert_exporter": "python",
   "pygments_lexer": "ipython3",
   "version": "3.8.10"
  },
  "orig_nbformat": 4,
  "vscode": {
   "interpreter": {
    "hash": "e7370f93d1d0cde622a1f8e1c04877d8463912d04d973331ad4851f04de6915a"
   }
  }
 },
 "nbformat": 4,
 "nbformat_minor": 2
}
