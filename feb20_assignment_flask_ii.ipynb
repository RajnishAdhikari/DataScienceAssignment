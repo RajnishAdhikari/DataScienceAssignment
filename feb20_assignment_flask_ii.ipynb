{
 "cells": [
  {
   "cell_type": "code",
   "execution_count": 1,
   "metadata": {},
   "outputs": [],
   "source": [
    "# Q1. Explain GET and POST methods.\n",
    "GET and POST are two commonly used methods in HTTP (Hypertext Transfer Protocol) for sending requests from a client (such as a web browser) to a server. \n",
    "These methods define the type of action to be performed on the specified resource.\n",
    "\n",
    "1. GET Method:\n",
    "   - The GET method is used to retrieve or request data from a specified resource.\n",
    "   - It is a safe and idempotent method, meaning it should not have any side effects on the server and can be called multiple times without changing the \n",
    "   server state.\n",
    "   - When a client sends a GET request, the parameters are sent in the URL's query string.\n",
    "   - The GET method is the default method used by web browsers when you visit a web page.\n",
    "   - It is suitable for retrieving data, reading information, or performing search operations.\n",
    "   - Examples: Fetching a web page, retrieving user details, searching for products.\n",
    "\n",
    "2. POST Method:\n",
    "   - The POST method is used to submit data to be processed by the specified resource.\n",
    "   - It is not idempotent, meaning multiple requests can have different effects on the server, such as creating a new resource or modifying existing data.\n",
    "   - When a client sends a POST request, the data is sent in the body of the request, not visible in the URL.\n",
    "   - The POST method is commonly used when submitting forms, sending user input, or performing actions that modify data on the server.\n",
    "   - It is more secure for sensitive data as compared to the GET method.\n",
    "   - Examples: Submitting a form, creating a new user account, making a purchase, sending data to an API.\n",
    "\n",
    "In summary, the GET method is used for retrieving data from a server, while the POST method is used for sending data to a server for processing or modification. \n",
    "Both methods serve different purposes and are used in various scenarios based on the type of interaction required between the client and server."
   ]
  },
  {
   "cell_type": "code",
   "execution_count": null,
   "metadata": {},
   "outputs": [],
   "source": []
  }
 ],
 "metadata": {
  "kernelspec": {
   "display_name": "Python 3.8.10 64-bit",
   "language": "python",
   "name": "python3"
  },
  "language_info": {
   "codemirror_mode": {
    "name": "ipython",
    "version": 3
   },
   "file_extension": ".py",
   "mimetype": "text/x-python",
   "name": "python",
   "nbconvert_exporter": "python",
   "pygments_lexer": "ipython3",
   "version": "3.8.10"
  },
  "orig_nbformat": 4,
  "vscode": {
   "interpreter": {
    "hash": "e7370f93d1d0cde622a1f8e1c04877d8463912d04d973331ad4851f04de6915a"
   }
  }
 },
 "nbformat": 4,
 "nbformat_minor": 2
}
