{
 "cells": [
  {
   "cell_type": "code",
   "execution_count": 1,
   "metadata": {},
   "outputs": [
    {
     "name": "stdout",
     "output_type": "stream",
     "text": [
      "course_name    Machine Learning\n",
      "duration                      3\n",
      "Name: 1, dtype: object\n"
     ]
    }
   ],
   "source": [
    "# Consider following code to answer further questions:\n",
    "# import pandas as pd\n",
    "# course_name = [‘Data Science’, ‘Machine Learning’, ‘Big Data’, ‘Data Engineer’]\n",
    "# duration = [2,3,6,4]\n",
    "# df = pd.DataFrame(data = {‘course_name’ : course_name, ‘duration’ : duration})\n",
    "# Q1. Write a code to print the data present in the second row of the dataframe, df.\n",
    "\n",
    "import pandas as pd\n",
    "\n",
    "course_name = ['Data Science', 'Machine Learning', 'Big Data', 'Data Engineer']\n",
    "duration = [2, 3, 6, 4]\n",
    "df = pd.DataFrame(data={'course_name': course_name, 'duration': duration})\n",
    "\n",
    "second_row = df.iloc[1]\n",
    "print(second_row)\n"
   ]
  },
  {
   "cell_type": "code",
   "execution_count": null,
   "metadata": {},
   "outputs": [],
   "source": [
    "# Q2. What is the difference between the functions loc and iloc in pandas.DataFrame?\n",
    "\n",
    "The functions `loc` and `iloc` are both used for indexing and selecting data in a Pandas DataFrame, but they have some differences in their usage and behavior:\n",
    "\n",
    "1. loc: \n",
    "   - `loc` is primarily label-based. It is used to select data based on the row and column labels.\n",
    "   - With `loc`, you specify the row label(s) and column label(s) explicitly.\n",
    "   - It accepts label-based slicing and indexing, where the start and end points are inclusive.\n",
    "   - The syntax for using `loc` is `df.loc[row_label(s), column_label(s)]`.\n",
    "\n",
    "2. iloc:\n",
    "   - `iloc` is primarily integer-based. It is used to select data based on integer positions of rows and columns.\n",
    "   - With `iloc`, you specify the integer position(s) of the rows and columns.\n",
    "   - It accepts integer-based slicing and indexing, where the start point is inclusive and the end point is exclusive (similar to regular Python indexing).\n",
    "   - The syntax for using `iloc` is `df.iloc[row_position(s), column_position(s)]`.\n",
    "\n",
    "\n",
    "\n",
    "In summary, `loc` is used for label-based selection (using row and column labels), while `iloc` is used for integer-based selection (using integer positions of rows and columns)."
   ]
  },
  {
   "cell_type": "code",
   "execution_count": null,
   "metadata": {},
   "outputs": [],
   "source": [
    "# Q3. Reindex the given dataframe using a variable, reindex = [3,0,1,2] and store it in the variable, new_df\n",
    "# then find the output for both new_df.loc[2] and new_df.iloc[2].\n",
    "# Did you observe any difference in both the outputs? If so then explain it."
   ]
  }
 ],
 "metadata": {
  "kernelspec": {
   "display_name": "Python 3.8.10 64-bit",
   "language": "python",
   "name": "python3"
  },
  "language_info": {
   "codemirror_mode": {
    "name": "ipython",
    "version": 3
   },
   "file_extension": ".py",
   "mimetype": "text/x-python",
   "name": "python",
   "nbconvert_exporter": "python",
   "pygments_lexer": "ipython3",
   "version": "3.8.10"
  },
  "orig_nbformat": 4,
  "vscode": {
   "interpreter": {
    "hash": "e7370f93d1d0cde622a1f8e1c04877d8463912d04d973331ad4851f04de6915a"
   }
  }
 },
 "nbformat": 4,
 "nbformat_minor": 2
}
