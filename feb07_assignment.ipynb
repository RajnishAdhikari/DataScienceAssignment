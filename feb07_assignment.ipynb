{
 "cells": [
  {
   "cell_type": "code",
   "execution_count": 10,
   "metadata": {},
   "outputs": [
    {
     "data": {
      "text/plain": [
       "'invalid password'"
      ]
     },
     "execution_count": 10,
     "metadata": {},
     "output_type": "execute_result"
    }
   ],
   "source": [
    "'''Q1. You are writing code for a company. The requirement of the company is that you create a python\n",
    "function that will check whether the password entered by the user is correct or not. The function should\n",
    "take the password as input and return the string “Valid Password” if the entered password follows the\n",
    "below-given password guidelines else it should return “Invalid Password”.\n",
    "Note: 1. The Password should contain at least two uppercase letters and at least two lowercase letters.\n",
    "2. The Password should contain at least a number and three special characters.\n",
    "3. The length of the password should be 10 characters long. '''\n",
    "\n",
    "def check_password():\n",
    "    password = input(\"Enter the password:\")\n",
    "    if len(password) != 10:\n",
    "        return \"invalid password\"\n",
    "\n",
    "    # initializing counters for each category\n",
    "    num_uppercase = 0\n",
    "    num_lowercase = 0\n",
    "    num_digit = 0\n",
    "    num_special = 0\n",
    "\n",
    "    for char in password:\n",
    "        if char.isupper():\n",
    "            num_uppercase = num_uppercase + 1\n",
    "        \n",
    "        elif char.islower():\n",
    "            num_lowercase = num_lowercase + 1\n",
    "\n",
    "        elif char.isdigit():\n",
    "            num_digit = num_digit + 1\n",
    "\n",
    "        else:\n",
    "            num_special = num_special + 1\n",
    "\n",
    "    # checking if password meets the requerement given in the question\n",
    "\n",
    "    if num_uppercase >= 2 and num_lowercase >= 2 and num_digit >= 1 and num_special >=3:\n",
    "        return \"valid password\"\n",
    "    else:\n",
    "        return \"Invalid password\"\n",
    "check_password()"
   ]
  },
  {
   "cell_type": "code",
   "execution_count": null,
   "metadata": {},
   "outputs": [],
   "source": []
  }
 ],
 "metadata": {
  "kernelspec": {
   "display_name": "Python 3.8.10 64-bit",
   "language": "python",
   "name": "python3"
  },
  "language_info": {
   "codemirror_mode": {
    "name": "ipython",
    "version": 3
   },
   "file_extension": ".py",
   "mimetype": "text/x-python",
   "name": "python",
   "nbconvert_exporter": "python",
   "pygments_lexer": "ipython3",
   "version": "3.8.10"
  },
  "orig_nbformat": 4,
  "vscode": {
   "interpreter": {
    "hash": "e7370f93d1d0cde622a1f8e1c04877d8463912d04d973331ad4851f04de6915a"
   }
  }
 },
 "nbformat": 4,
 "nbformat_minor": 2
}
