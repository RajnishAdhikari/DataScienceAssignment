{
 "cells": [
  {
   "cell_type": "code",
   "execution_count": 10,
   "metadata": {},
   "outputs": [
    {
     "data": {
      "text/plain": [
       "'invalid password'"
      ]
     },
     "execution_count": 10,
     "metadata": {},
     "output_type": "execute_result"
    }
   ],
   "source": [
    "'''Q1. You are writing code for a company. The requirement of the company is that you create a python\n",
    "function that will check whether the password entered by the user is correct or not. The function should\n",
    "take the password as input and return the string “Valid Password” if the entered password follows the\n",
    "below-given password guidelines else it should return “Invalid Password”.\n",
    "Note: 1. The Password should contain at least two uppercase letters and at least two lowercase letters.\n",
    "2. The Password should contain at least a number and three special characters.\n",
    "3. The length of the password should be 10 characters long. '''\n",
    "\n",
    "def check_password():\n",
    "    password = input(\"Enter the password:\")\n",
    "    if len(password) != 10:\n",
    "        return \"invalid password\"\n",
    "\n",
    "    # initializing counters for each category\n",
    "    num_uppercase = 0\n",
    "    num_lowercase = 0\n",
    "    num_digit = 0\n",
    "    num_special = 0\n",
    "\n",
    "    for char in password:\n",
    "        if char.isupper():\n",
    "            num_uppercase = num_uppercase + 1\n",
    "        \n",
    "        elif char.islower():\n",
    "            num_lowercase = num_lowercase + 1\n",
    "\n",
    "        elif char.isdigit():\n",
    "            num_digit = num_digit + 1\n",
    "\n",
    "        else:\n",
    "            num_special = num_special + 1\n",
    "\n",
    "    # checking if password meets the requerement given in the question\n",
    "\n",
    "    if num_uppercase >= 2 and num_lowercase >= 2 and num_digit >= 1 and num_special >=3:\n",
    "        return \"valid password\"\n",
    "    else:\n",
    "        return \"Invalid password\"\n",
    "check_password()"
   ]
  },
  {
   "cell_type": "code",
   "execution_count": 15,
   "metadata": {},
   "outputs": [
    {
     "data": {
      "text/plain": [
       "'Invalid Password'"
      ]
     },
     "execution_count": 15,
     "metadata": {},
     "output_type": "execute_result"
    }
   ],
   "source": [
    "import re\n",
    "\n",
    "def check_password(password):\n",
    "    # check if password is 10 characters long\n",
    "    if len(password) != 10:\n",
    "        return \"Invalid Password\"\n",
    "\n",
    "    # check if password contains at least 2 uppercase letters\n",
    "    if not re.search(r'[A-Z].*[A-Z]', password):\n",
    "        return \"Invalid Password\"\n",
    "\n",
    "    # check if password contains at least 2 lowercase letters\n",
    "    if not re.search(r'[a-z].*[a-z]', password):\n",
    "        return \"Invalid Password\"\n",
    "\n",
    "    # check if password contains at least 1 number\n",
    "    if not re.search(r'\\d', password):\n",
    "        return \"Invalid Password\"\n",
    "\n",
    "    # check if password contains at least 3 special characters\n",
    "    if not re.search(r'[!@#$%^&*()-_+=~`[]{}|\\\\:;\"\\',.<>?/]', password):\n",
    "        return \"Invalid Password\"\n",
    "\n",
    "    # if all checks pass, return \"Valid Password\"\n",
    "    return \"Valid Password\"\n",
    "\n",
    "check_password(\"RAmadhikari1@#$%\")"
   ]
  },
  {
   "cell_type": "code",
   "execution_count": 16,
   "metadata": {},
   "outputs": [
    {
     "data": {
      "text/plain": [
       "'Q2. Solve the below-given questions using at least one of the following:\\n1. Lambda functioJ\\n2. Filter functioJ\\n3. Zap functioJ\\n4. List ComprehensioI\\nB Check if the string starts with a particular letterY\\nB Check if the string is numericY\\nB Sort a list of tuples having fruit names and their quantity. [(\"mango\",99),(\"orange\",80), (\"grapes\", 1000)-\\nB Find the squares of numbers from 1 to 10Y\\nB Find the cube root of numbers from 1 to 10Y\\nB Check if a given number is evenY\\nB Filter odd numbers from the given list.\\n[1,2,3,4,5,6,7,8,9,10-\\nB Sort a list of integers into positive and negative integers lists.\\n[1,2,3,4,5,6,-1,-2,-3,-4,-5,0] '"
      ]
     },
     "execution_count": 16,
     "metadata": {},
     "output_type": "execute_result"
    }
   ],
   "source": [
    "'''Q2. Solve the below-given questions using at least one of the following:\n",
    "1. Lambda functioJ\n",
    "2. Filter functioJ\n",
    "3. Zap functioJ\n",
    "4. List ComprehensioI\n",
    "B Check if the string starts with a particular letterY\n",
    "B Check if the string is numericY\n",
    "B Sort a list of tuples having fruit names and their quantity. [(\"mango\",99),(\"orange\",80), (\"grapes\", 1000)-\n",
    "B Find the squares of numbers from 1 to 10Y\n",
    "B Find the cube root of numbers from 1 to 10Y\n",
    "B Check if a given number is evenY\n",
    "B Filter odd numbers from the given list.\n",
    "[1,2,3,4,5,6,7,8,9,10-\n",
    "B Sort a list of integers into positive and negative integers lists.\n",
    "[1,2,3,4,5,6,-1,-2,-3,-4,-5,0] '''"
   ]
  },
  {
   "cell_type": "code",
   "execution_count": null,
   "metadata": {},
   "outputs": [],
   "source": []
  }
 ],
 "metadata": {
  "kernelspec": {
   "display_name": "Python 3.8.10 64-bit",
   "language": "python",
   "name": "python3"
  },
  "language_info": {
   "codemirror_mode": {
    "name": "ipython",
    "version": 3
   },
   "file_extension": ".py",
   "mimetype": "text/x-python",
   "name": "python",
   "nbconvert_exporter": "python",
   "pygments_lexer": "ipython3",
   "version": "3.8.10"
  },
  "orig_nbformat": 4,
  "vscode": {
   "interpreter": {
    "hash": "e7370f93d1d0cde622a1f8e1c04877d8463912d04d973331ad4851f04de6915a"
   }
  }
 },
 "nbformat": 4,
 "nbformat_minor": 2
}
