{
 "cells": [
  {
   "cell_type": "code",
   "execution_count": null,
   "metadata": {},
   "outputs": [],
   "source": [
    "'''Q1. You are writing code for a company. The requirement of the company is that you create a python\n",
    "function that will check whether the password entered by the user is correct or not. The function should\n",
    "take the password as input and return the string “Valid Password” if the entered password follows the\n",
    "below-given password guidelines else it should return “Invalid Password”.\n",
    "Note: 1. The Password should contain at least two uppercase letters and at least two lowercase letters.\n",
    "2. The Password should contain at least a number and three special characters.\n",
    "3. The length of the password should be 10 characters long. '''\n",
    "\n",
    "def check_password():\n",
    "    password = input(\"Enter the password:\")\n",
    "    if len(password) =! 10:\n",
    "        \"invalid password\"\n",
    "\n",
    "    # initializing counters for each category\n",
    "    num_uppercase = 0\n",
    "    num_lowercase = 0\n",
    "    num_digit = 0\n",
    "    num_special = 0\n",
    "\n",
    "    for character in password:\n",
    "        if num_uppercase"
   ]
  }
 ],
 "metadata": {
  "language_info": {
   "name": "python"
  },
  "orig_nbformat": 4
 },
 "nbformat": 4,
 "nbformat_minor": 2
}
