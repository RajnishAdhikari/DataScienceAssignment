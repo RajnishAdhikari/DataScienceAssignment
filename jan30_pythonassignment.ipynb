{
 "cells": [
  {
   "cell_type": "code",
   "execution_count": 1,
   "id": "7f43d387-7068-45e1-bc56-8ad33d1d30aa",
   "metadata": {},
   "outputs": [
    {
     "data": {
      "text/plain": [
       "'\\n1. wap to accept percentage for the user and display the grade according to the following criteria\\n    marks             grade\\n    >90                A\\n    >80 and <=90       B\\n    >= 60 and <=80     C\\n    below 60           D\\n'"
      ]
     },
     "execution_count": 1,
     "metadata": {},
     "output_type": "execute_result"
    }
   ],
   "source": [
    "\"\"\"\n",
    "1. wap to accept percentage for the user and display the grade according to the following criteria\n",
    "    marks             grade\n",
    "    >90                A\n",
    "    >80 and <=90       B\n",
    "    >= 60 and <=80     C\n",
    "    below 60           D\n",
    "\"\"\""
   ]
  },
  {
   "cell_type": "code",
   "execution_count": 11,
   "id": "7f843770-547e-43d2-8d76-e0aece7f34a0",
   "metadata": {},
   "outputs": [
    {
     "name": "stdin",
     "output_type": "stream",
     "text": [
      "Enter the percentage  400\n"
     ]
    },
    {
     "name": "stdout",
     "output_type": "stream",
     "text": [
      "Your grade is A\n"
     ]
    }
   ],
   "source": [
    "percent = int(input(\"Enter the percentage \"))\n",
    "if percent < 60:\n",
    "    print(\"You got grade D\")\n",
    "elif percent >= 60 and percent <= 80:\n",
    "    print(\"You got grade C\")\n",
    "elif percent >80 and percent <= 90:\n",
    "    print(\"You got grade B\")\n",
    "else:\n",
    "    print(\"Your grade is A\")\n"
   ]
  },
  {
   "cell_type": "code",
   "execution_count": 9,
   "id": "c3537f66-1c6f-42ba-a291-f74d620f848c",
   "metadata": {},
   "outputs": [
    {
     "data": {
      "text/plain": [
       "'\\nQ 2. wap to accept the cost price of a bike and display the road tax to be paid according to the following criteria\\n\\n'"
      ]
     },
     "execution_count": 9,
     "metadata": {},
     "output_type": "execute_result"
    }
   ],
   "source": [
    "\"\"\"\n",
    "Q 2. wap to accept the cost price of a bike and display the road tax to be paid according to the following criteria\n",
    "\n",
    "\"\"\""
   ]
  },
  {
   "cell_type": "code",
   "execution_count": 10,
   "id": "b0b654f8-9e8d-484b-8790-ce130e749635",
   "metadata": {},
   "outputs": [
    {
     "name": "stdin",
     "output_type": "stream",
     "text": [
      "Enter the cost price of bike to find the road tax 100001\n"
     ]
    },
    {
     "name": "stdout",
     "output_type": "stream",
     "text": [
      "You have to pay 15% tax\n"
     ]
    }
   ],
   "source": [
    "cp = int(input(\"Enter the cost price of bike to find the road tax\"))\n",
    "if cp <= 50000:\n",
    "    print(\"You have to pay 5% tax\")\n",
    "elif cp >50000 and cp <= 100000:\n",
    "    print(\"You have to pay 10% tax\")\n",
    "else:\n",
    "    print(\"You have to pay 15% tax\")"
   ]
  },
  {
   "cell_type": "code",
   "execution_count": 12,
   "id": "be3af2c8-83a7-40aa-a24b-6f51d3cf44b7",
   "metadata": {},
   "outputs": [
    {
     "data": {
      "text/plain": [
       "' \\nQ. 3 Accept any city from the user and display monuments of that city\\n'"
      ]
     },
     "execution_count": 12,
     "metadata": {},
     "output_type": "execute_result"
    }
   ],
   "source": [
    "\"\"\" \n",
    "Q. 3 Accept any city from the user and display monuments of that city\n",
    "\"\"\"\n"
   ]
  },
  {
   "cell_type": "code",
   "execution_count": 17,
   "id": "4e26a5ce-9530-4f8b-bd1f-cac6c38ccb84",
   "metadata": {},
   "outputs": [
    {
     "name": "stdin",
     "output_type": "stream",
     "text": [
      "Enter the city name to find its famous monument  Agra\n"
     ]
    },
    {
     "name": "stdout",
     "output_type": "stream",
     "text": [
      "Its famous monument is  Taj Mahal\n"
     ]
    }
   ],
   "source": [
    "city = input(\"Enter the city name to find its famous monument \")\n",
    "l = [\"Red Fort\", \"Taj Mahal\", \"Jal Mahal\"]\n",
    "a = [\"Delhi\",\"Agra\",\"Jaipur\"]\n",
    "if city == a[0]:\n",
    "    print(\"Its famous monument is \",l[0])\n",
    "elif city == a[1]:\n",
    "    print(\"Its famous monument is \",l[1])\n",
    "elif city == a[2]:\n",
    "    print(\"Its famous monument is \",l[2])\n",
    "else:\n",
    "    print(\"Enter city among\",a)\n",
    "    "
   ]
  },
  {
   "cell_type": "code",
   "execution_count": 18,
   "id": "a8fd3c18-7972-4fdc-9bf3-fade584e771c",
   "metadata": {},
   "outputs": [
    {
     "data": {
      "text/plain": [
       "'\\nq4. Check how many times a given number can be divided by 3 before it is less than or equal to 10\\n'"
      ]
     },
     "execution_count": 18,
     "metadata": {},
     "output_type": "execute_result"
    }
   ],
   "source": [
    "\"\"\"\n",
    "q4. Check how many times a given number can be divided by 3 before it is less than or equal to 10\n",
    "\"\"\""
   ]
  },
  {
   "cell_type": "code",
   "execution_count": 8,
   "id": "95e987c9-9af0-4b60-a521-a4f36958e41d",
   "metadata": {},
   "outputs": [
    {
     "data": {
      "text/plain": [
       "4"
      ]
     },
     "execution_count": 8,
     "metadata": {},
     "output_type": "execute_result"
    }
   ],
   "source": [
    "def count_divisions(num):\n",
    "    count = 0\n",
    "    while num > 10:\n",
    "        num = num / 3\n",
    "        count = count + 1\n",
    "    return count\n",
    "count_divisions(600)"
   ]
  },
  {
   "cell_type": "code",
   "execution_count": 6,
   "id": "421caabc-2eca-497e-b2fa-a112b3d9314f",
   "metadata": {},
   "outputs": [
    {
     "data": {
      "text/plain": [
       "'\\nq5. why and when to use while loop give a detailed description with example\\n\\nThe while loop is used in Python when you want to repeat a block of code as \\nlong as a certain condition is true. The basic syntax for a while loop is:\\nwhile condition:\\n    # code to be executed\\n\\n\\nThe condition is evaluated at the beginning of each iteration. If the condition is true,\\nthe code inside the loop will be executed, and then the condition will be evaluated again. \\nThis process continues until the condition becomes false, at which point the loop will\\nterminate and the program will continue executing the code after the loop.\\n\\nAn example of using a while loop is counting the number of times a certain character appears in a string:\\n\\ntext = \"Hello, World!\"\\ncount = 0\\ni = 0\\nwhile i < len(text):\\n    if text[i] == \\'l\\':\\n        count = count + 1\\n    i = i + 1\\n\\nprint(\"The character \\'l\\' appears\", count, \"times in the text.\")\\n\\n\\n\\n'"
      ]
     },
     "execution_count": 6,
     "metadata": {},
     "output_type": "execute_result"
    }
   ],
   "source": [
    "\"\"\"\n",
    "q5. why and when to use while loop give a detailed description with example\n",
    "\n",
    "The while loop is used in Python when you want to repeat a block of code as \n",
    "long as a certain condition is true. The basic syntax for a while loop is:\n",
    "while condition:\n",
    "    # code to be executed\n",
    "\n",
    "\n",
    "The condition is evaluated at the beginning of each iteration. If the condition is true,\n",
    "the code inside the loop will be executed, and then the condition will be evaluated again. \n",
    "This process continues until the condition becomes false, at which point the loop will\n",
    "terminate and the program will continue executing the code after the loop.\n",
    "\n",
    "An example of using a while loop is counting the number of times a certain character appears in a string:\n",
    "\n",
    "text = \"Hello, World!\"\n",
    "count = 0\n",
    "i = 0\n",
    "while i < len(text):\n",
    "    if text[i] == 'l':\n",
    "        count = count + 1\n",
    "    i = i + 1\n",
    "\n",
    "print(\"The character 'l' appears\", count, \"times in the text.\")\n",
    "\n",
    "\n",
    "\n",
    "\"\"\""
   ]
  },
  {
   "cell_type": "code",
   "execution_count": 7,
   "id": "ad04335d-2acf-4037-8e96-67571a0d9763",
   "metadata": {},
   "outputs": [
    {
     "data": {
      "text/plain": [
       "' \\nq. 6 use nested while loop to print 3 different patterns\\n\\n\\n'"
      ]
     },
     "execution_count": 7,
     "metadata": {},
     "output_type": "execute_result"
    }
   ],
   "source": [
    "\"\"\" \n",
    "q. 6 use nested while loop to print 3 different patterns\n",
    "\n",
    "\n",
    "\"\"\""
   ]
  },
  {
   "cell_type": "code",
   "execution_count": 8,
   "id": "3f56b46c-77e8-4511-8afe-3b2236daac76",
   "metadata": {},
   "outputs": [
    {
     "name": "stdout",
     "output_type": "stream",
     "text": [
      "*\n",
      "**\n",
      "***\n",
      "****\n",
      "*****\n"
     ]
    }
   ],
   "source": [
    "#triangle pattern\n",
    "rows = 5\n",
    "i = 1\n",
    "while i <= rows:\n",
    "    j = 1\n",
    "    while j <= i:\n",
    "        print(\"*\", end=\"\")\n",
    "        j = j+1\n",
    "    print(\"\")\n",
    "    i = i+1"
   ]
  },
  {
   "cell_type": "code",
   "execution_count": 9,
   "id": "008f0da8-4ba8-4b67-a459-f8a25742aacd",
   "metadata": {},
   "outputs": [
    {
     "name": "stdout",
     "output_type": "stream",
     "text": [
      "ram ram ram ram ram \n",
      "ram ram ram ram \n",
      "ram ram ram \n",
      "ram ram \n",
      "ram \n"
     ]
    }
   ],
   "source": [
    "#reverse triangle pattern\n",
    "rows = 5\n",
    "i = rows\n",
    "while i >= 1:\n",
    "    j = i \n",
    "    while j >= 1:\n",
    "        print(\"ram\", end= \" \")\n",
    "        j = j-1\n",
    "    print()\n",
    "    i = i-1\n",
    "    "
   ]
  },
  {
   "cell_type": "code",
   "execution_count": 10,
   "id": "ba05bd25-f637-4f1e-81ac-94a037126a52",
   "metadata": {},
   "outputs": [
    {
     "name": "stdout",
     "output_type": "stream",
     "text": [
      "r r r r r \n",
      "r r r r r \n",
      "r r r r r \n",
      "r r r r r \n",
      "r r r r r \n"
     ]
    }
   ],
   "source": [
    "#square pattern\n",
    "n = 5\n",
    "i = 0\n",
    "while i < n:\n",
    "    j = 0\n",
    "    while j < n:\n",
    "        print('r', end=\" \")\n",
    "        j = j+1\n",
    "    print()\n",
    "    i = i+1"
   ]
  },
  {
   "cell_type": "code",
   "execution_count": 11,
   "id": "9a8b86c2-27c0-425f-8fc3-335b9e8d77c9",
   "metadata": {},
   "outputs": [
    {
     "name": "stdout",
     "output_type": "stream",
     "text": [
      "10\n",
      "9\n",
      "8\n",
      "7\n",
      "6\n",
      "5\n",
      "4\n",
      "3\n",
      "2\n",
      "1\n"
     ]
    }
   ],
   "source": [
    "# q.no_7    reversing a for loop to display numbers form 10 to 1\n",
    "for i in range(10,0,-1):\n",
    "    print(i)"
   ]
  },
  {
   "cell_type": "code",
   "execution_count": 15,
   "id": "e9e4ca7d-127a-49fa-a3f5-dfeea645a5b0",
   "metadata": {},
   "outputs": [
    {
     "name": "stdout",
     "output_type": "stream",
     "text": [
      "10\n",
      "9\n",
      "8\n",
      "7\n",
      "6\n",
      "5\n",
      "4\n",
      "3\n",
      "2\n",
      "1\n"
     ]
    }
   ],
   "source": [
    "# q.no_8    reversing a for loop to display numbers form 10 to 1\n",
    "\n",
    "i = 10\n",
    "while i >= 1:\n",
    "    print(i)\n",
    "    i = i -1"
   ]
  },
  {
   "cell_type": "code",
   "execution_count": null,
   "id": "837bf50a-0ed8-488f-a560-0ca23c88b5eb",
   "metadata": {},
   "outputs": [],
   "source": []
  }
 ],
 "metadata": {
  "kernelspec": {
   "display_name": "Python 3 (ipykernel)",
   "language": "python",
   "name": "python3"
  },
  "language_info": {
   "codemirror_mode": {
    "name": "ipython",
    "version": 3
   },
   "file_extension": ".py",
   "mimetype": "text/x-python",
   "name": "python",
   "nbconvert_exporter": "python",
   "pygments_lexer": "ipython3",
   "version": "3.10.8"
  }
 },
 "nbformat": 4,
 "nbformat_minor": 5
}
