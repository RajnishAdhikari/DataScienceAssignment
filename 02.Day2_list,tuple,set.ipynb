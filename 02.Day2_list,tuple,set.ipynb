{
 "cells": [
  {
   "cell_type": "code",
   "execution_count": 1,
   "id": "fdecee73-2858-471d-a8be-914bc55ffe2d",
   "metadata": {},
   "outputs": [],
   "source": [
    "#list in python\n",
    "l = [1,2,\"ram\", True, 5+3j, 3.44]\n"
   ]
  },
  {
   "cell_type": "code",
   "execution_count": 2,
   "id": "2f7eeb67-1f45-47ee-a39e-571d40bd3fc1",
   "metadata": {},
   "outputs": [
    {
     "data": {
      "text/plain": [
       "list"
      ]
     },
     "execution_count": 2,
     "metadata": {},
     "output_type": "execute_result"
    }
   ],
   "source": [
    "type(l)"
   ]
  },
  {
   "cell_type": "code",
   "execution_count": 3,
   "id": "56ad6672-bb3a-42e3-bd2f-c88fe2cb35e1",
   "metadata": {},
   "outputs": [
    {
     "data": {
      "text/plain": [
       "[1, 2, 'ram', True, (5+3j), 3.44]"
      ]
     },
     "execution_count": 3,
     "metadata": {},
     "output_type": "execute_result"
    }
   ],
   "source": [
    "l"
   ]
  },
  {
   "cell_type": "code",
   "execution_count": 4,
   "id": "1c84b89e-4a8f-48e9-bc19-86f5878aaeca",
   "metadata": {},
   "outputs": [
    {
     "name": "stdout",
     "output_type": "stream",
     "text": [
      "[1, 2, 'ram', True, (5+3j), 3.44]\n"
     ]
    }
   ],
   "source": [
    "print(l)"
   ]
  },
  {
   "cell_type": "code",
   "execution_count": 5,
   "id": "32305f40-3b8e-49c1-861f-b40694e94635",
   "metadata": {},
   "outputs": [
    {
     "data": {
      "text/plain": [
       "1"
      ]
     },
     "execution_count": 5,
     "metadata": {},
     "output_type": "execute_result"
    }
   ],
   "source": [
    "#if we need data one by one we can use slicing   \n",
    "#list store data in the form of index same as of a string\n",
    "l[0]"
   ]
  },
  {
   "cell_type": "code",
   "execution_count": 7,
   "id": "c778e2a0-9aa5-47b0-a8d3-0ae0c1116440",
   "metadata": {},
   "outputs": [],
   "source": [
    "# l[90]    # error will be thrown"
   ]
  },
  {
   "cell_type": "code",
   "execution_count": 8,
   "id": "0241f672-8ab0-41b9-941a-1108831f84f6",
   "metadata": {},
   "outputs": [
    {
     "data": {
      "text/plain": [
       "[1, 2, 'ram']"
      ]
     },
     "execution_count": 8,
     "metadata": {},
     "output_type": "execute_result"
    }
   ],
   "source": [
    "l[0:3] #if we need data upto 2 form the list"
   ]
  },
  {
   "cell_type": "code",
   "execution_count": 9,
   "id": "48c2ce5a-835d-4f56-b8c9-69fc5e98d019",
   "metadata": {},
   "outputs": [
    {
     "data": {
      "text/plain": [
       "3.44"
      ]
     },
     "execution_count": 9,
     "metadata": {},
     "output_type": "execute_result"
    }
   ],
   "source": [
    "l[-1]   #for the last element in the list form negative form"
   ]
  },
  {
   "cell_type": "code",
   "execution_count": 10,
   "id": "145d639d-8c90-4e54-8783-db074d1b2aff",
   "metadata": {},
   "outputs": [
    {
     "data": {
      "text/plain": [
       "[3.44, (5+3j), True, 'ram', 2, 1]"
      ]
     },
     "execution_count": 10,
     "metadata": {},
     "output_type": "execute_result"
    }
   ],
   "source": [
    "# to reverse a list same as string\n",
    "l[::-1]"
   ]
  },
  {
   "cell_type": "code",
   "execution_count": 11,
   "id": "ede1ebbf-7abf-4219-9211-650371ed454d",
   "metadata": {},
   "outputs": [
    {
     "data": {
      "text/plain": [
       "[1, 'ram', (5+3j)]"
      ]
     },
     "execution_count": 11,
     "metadata": {},
     "output_type": "execute_result"
    }
   ],
   "source": [
    "l[::2]  #data in even index   "
   ]
  },
  {
   "cell_type": "code",
   "execution_count": 12,
   "id": "ae98d5d9-d376-46f0-bf08-89c94862e2cd",
   "metadata": {},
   "outputs": [
    {
     "data": {
      "text/plain": [
       "[1, 2, 'ram', True, (5+3j), 3.44]"
      ]
     },
     "execution_count": 12,
     "metadata": {},
     "output_type": "execute_result"
    }
   ],
   "source": [
    "# concatening list and string data\n",
    "l"
   ]
  },
  {
   "cell_type": "code",
   "execution_count": 13,
   "id": "20479eca-c935-4bf3-b09e-b1c1d3f81753",
   "metadata": {},
   "outputs": [
    {
     "data": {
      "text/plain": [
       "'sita'"
      ]
     },
     "execution_count": 13,
     "metadata": {},
     "output_type": "execute_result"
    }
   ],
   "source": [
    "s = \"sita\"\n",
    "s"
   ]
  },
  {
   "cell_type": "code",
   "execution_count": 16,
   "id": "4ffe90fc-9e13-412d-aed2-d82859aa7465",
   "metadata": {},
   "outputs": [
    {
     "data": {
      "text/plain": [
       "[1, 2, 'ram', True, (5+3j), 3.44, 'sita', 'sita', 'sita']"
      ]
     },
     "execution_count": 16,
     "metadata": {},
     "output_type": "execute_result"
    }
   ],
   "source": [
    "l.append(s)\n",
    "l"
   ]
  },
  {
   "cell_type": "code",
   "execution_count": 17,
   "id": "d0968586-4c63-4279-addd-b1a172232068",
   "metadata": {},
   "outputs": [
    {
     "data": {
      "text/plain": [
       "'ra'"
      ]
     },
     "execution_count": 17,
     "metadata": {},
     "output_type": "execute_result"
    }
   ],
   "source": [
    "l[2][0:2]    #extracting only ra from the list"
   ]
  },
  {
   "cell_type": "code",
   "execution_count": 18,
   "id": "78f5f07e-c733-43d3-8a48-bb412d5a5375",
   "metadata": {},
   "outputs": [
    {
     "data": {
      "text/plain": [
       "'Tr'"
      ]
     },
     "execution_count": 18,
     "metadata": {},
     "output_type": "execute_result"
    }
   ],
   "source": [
    "#extract Tr from True as it is boolean value so we need to do type casting\n",
    "str(l[3])[0:2]"
   ]
  },
  {
   "cell_type": "code",
   "execution_count": 19,
   "id": "806b4b96-9d5d-4b3e-ac3b-3149bc123e83",
   "metadata": {},
   "outputs": [
    {
     "data": {
      "text/plain": [
       "[1, 2, 'ram', True, (5+3j), 3.44, 'sita', 'sita', 'sita']"
      ]
     },
     "execution_count": 19,
     "metadata": {},
     "output_type": "execute_result"
    }
   ],
   "source": [
    "l"
   ]
  },
  {
   "cell_type": "code",
   "execution_count": 21,
   "id": "4891b92f-0ade-45f6-8193-089f3ba50b66",
   "metadata": {},
   "outputs": [],
   "source": [
    "l1 = [3,4,5]"
   ]
  },
  {
   "cell_type": "code",
   "execution_count": 22,
   "id": "5c3cd07e-b5a4-4fc5-9fca-58de3f4b6d39",
   "metadata": {},
   "outputs": [
    {
     "data": {
      "text/plain": [
       "[1, 2, 'ram', True, (5+3j), 3.44, 'sita', 'sita', 'sita', 3, 4, 5]"
      ]
     },
     "execution_count": 22,
     "metadata": {},
     "output_type": "execute_result"
    }
   ],
   "source": [
    "l + l1  #we can append list in list "
   ]
  },
  {
   "cell_type": "code",
   "execution_count": 23,
   "id": "35f70479-bbd1-4a1c-b024-4655ce0694a0",
   "metadata": {},
   "outputs": [
    {
     "data": {
      "text/plain": [
       "[3, 4, 5, 3, 4, 5, 3, 4, 5]"
      ]
     },
     "execution_count": 23,
     "metadata": {},
     "output_type": "execute_result"
    }
   ],
   "source": [
    "l1 *3"
   ]
  },
  {
   "cell_type": "code",
   "execution_count": 25,
   "id": "2a830027-7651-445e-81a6-26fea82af43d",
   "metadata": {},
   "outputs": [
    {
     "data": {
      "text/plain": [
       "9"
      ]
     },
     "execution_count": 25,
     "metadata": {},
     "output_type": "execute_result"
    }
   ],
   "source": [
    "len(l)"
   ]
  },
  {
   "cell_type": "code",
   "execution_count": 26,
   "id": "84546612-7a07-428e-a66a-1e12e7994104",
   "metadata": {},
   "outputs": [
    {
     "data": {
      "text/plain": [
       "[1, 2, 'ram', True, (5+3j), 3.44, 'sita', 'sita', 'sita', 5]"
      ]
     },
     "execution_count": 26,
     "metadata": {},
     "output_type": "execute_result"
    }
   ],
   "source": [
    "#adding any element or data in the list using append func\n",
    "#it is a inbuild function\n",
    "l.append(5)\n",
    "l"
   ]
  },
  {
   "cell_type": "code",
   "execution_count": 27,
   "id": "6bb293ed-c307-4874-938f-ee6247f1739e",
   "metadata": {},
   "outputs": [],
   "source": [
    "l.append(s)"
   ]
  },
  {
   "cell_type": "code",
   "execution_count": 28,
   "id": "5d1efef5-415f-4e4c-b3e2-3e8e7cc6f83b",
   "metadata": {},
   "outputs": [
    {
     "data": {
      "text/plain": [
       "[1, 2, 'ram', True, (5+3j), 3.44, 'sita', 'sita', 'sita', 5, 'sita']"
      ]
     },
     "execution_count": 28,
     "metadata": {},
     "output_type": "execute_result"
    }
   ],
   "source": [
    "l"
   ]
  },
  {
   "cell_type": "code",
   "execution_count": 29,
   "id": "4d5143b3-0f2a-453e-a4b7-f35d2170f295",
   "metadata": {},
   "outputs": [],
   "source": [
    "l.append(l1)"
   ]
  },
  {
   "cell_type": "code",
   "execution_count": 30,
   "id": "9bed07e1-2490-4105-9cc4-db4d3c1d9cf9",
   "metadata": {},
   "outputs": [
    {
     "data": {
      "text/plain": [
       "[1, 2, 'ram', True, (5+3j), 3.44, 'sita', 'sita', 'sita', 5, 'sita', [3, 4, 5]]"
      ]
     },
     "execution_count": 30,
     "metadata": {},
     "output_type": "execute_result"
    }
   ],
   "source": [
    "l"
   ]
  },
  {
   "cell_type": "code",
   "execution_count": 31,
   "id": "5ba7fa63-1fb1-4cac-b258-146957acd837",
   "metadata": {},
   "outputs": [
    {
     "data": {
      "text/plain": [
       "4"
      ]
     },
     "execution_count": 31,
     "metadata": {},
     "output_type": "execute_result"
    }
   ],
   "source": [
    "l[-1][1]"
   ]
  },
  {
   "cell_type": "code",
   "execution_count": 38,
   "id": "c1dd551e-a17e-457f-bc0d-56687e760b49",
   "metadata": {},
   "outputs": [
    {
     "data": {
      "text/plain": [
       "[1,\n",
       " 2,\n",
       " 'ram',\n",
       " True,\n",
       " (5+3j),\n",
       " 3.44,\n",
       " 'sita',\n",
       " 'sita',\n",
       " 'sita',\n",
       " 5,\n",
       " 'sita',\n",
       " [3, 4, 5],\n",
       " 'r',\n",
       " 'a',\n",
       " 'j',\n",
       " 'n',\n",
       " 'i',\n",
       " 's',\n",
       " 'h',\n",
       " 'r',\n",
       " 'a',\n",
       " 'j',\n",
       " 'n',\n",
       " 'i',\n",
       " 's',\n",
       " 'h',\n",
       " 'r',\n",
       " 'a',\n",
       " 'j',\n",
       " 'n',\n",
       " 'i',\n",
       " 's',\n",
       " 'h',\n",
       " 'r',\n",
       " 'a',\n",
       " 'j',\n",
       " 'n',\n",
       " 'i',\n",
       " 's',\n",
       " 'h',\n",
       " 'r',\n",
       " 'a',\n",
       " 'j',\n",
       " 'n',\n",
       " 'i',\n",
       " 's',\n",
       " 'h',\n",
       " 'r',\n",
       " 'a']"
      ]
     },
     "execution_count": 38,
     "metadata": {},
     "output_type": "execute_result"
    }
   ],
   "source": [
    "#use of extend function \n",
    "# with the help of extend function we can append iterable data not integer\n",
    "# l.extend(5)   we get error in this but for string it will work\n",
    "l.extend(\"ra\")\n",
    "l\n"
   ]
  },
  {
   "cell_type": "code",
   "execution_count": 39,
   "id": "8e7a76b1-f95b-468d-ab58-0a38d9639cdd",
   "metadata": {},
   "outputs": [],
   "source": [
    "l.extend([1,2])"
   ]
  },
  {
   "cell_type": "code",
   "execution_count": 40,
   "id": "e57994a6-357b-45b9-9ab9-be176549c2f3",
   "metadata": {},
   "outputs": [
    {
     "data": {
      "text/plain": [
       "[1,\n",
       " 2,\n",
       " 'ram',\n",
       " True,\n",
       " (5+3j),\n",
       " 3.44,\n",
       " 'sita',\n",
       " 'sita',\n",
       " 'sita',\n",
       " 5,\n",
       " 'sita',\n",
       " [3, 4, 5],\n",
       " 'r',\n",
       " 'a',\n",
       " 'j',\n",
       " 'n',\n",
       " 'i',\n",
       " 's',\n",
       " 'h',\n",
       " 'r',\n",
       " 'a',\n",
       " 'j',\n",
       " 'n',\n",
       " 'i',\n",
       " 's',\n",
       " 'h',\n",
       " 'r',\n",
       " 'a',\n",
       " 'j',\n",
       " 'n',\n",
       " 'i',\n",
       " 's',\n",
       " 'h',\n",
       " 'r',\n",
       " 'a',\n",
       " 'j',\n",
       " 'n',\n",
       " 'i',\n",
       " 's',\n",
       " 'h',\n",
       " 'r',\n",
       " 'a',\n",
       " 'j',\n",
       " 'n',\n",
       " 'i',\n",
       " 's',\n",
       " 'h',\n",
       " 'r',\n",
       " 'a',\n",
       " 1,\n",
       " 2]"
      ]
     },
     "execution_count": 40,
     "metadata": {},
     "output_type": "execute_result"
    }
   ],
   "source": [
    "l"
   ]
  },
  {
   "cell_type": "code",
   "execution_count": 2,
   "id": "ba165924-077a-4cee-b59b-92082685d696",
   "metadata": {},
   "outputs": [
    {
     "data": {
      "text/plain": [
       "['laxman', 'hari']"
      ]
     },
     "execution_count": 2,
     "metadata": {},
     "output_type": "execute_result"
    }
   ],
   "source": [
    "l2 = [\"hari\"]\n",
    "#to append data in specefic index we use insert function\n",
    "#to find which one to write at first, index or data so in this case inside () press shift + tab\n",
    "l2.insert(0,\"laxman\")   #first parameter means index and 2nd is data\n",
    "l2"
   ]
  },
  {
   "cell_type": "code",
   "execution_count": 3,
   "id": "93d08e39-db2b-4b3d-88d9-1e7fcd6a188f",
   "metadata": {},
   "outputs": [],
   "source": [
    "l2.insert(-1, 45)"
   ]
  },
  {
   "cell_type": "code",
   "execution_count": 4,
   "id": "4e515462-3a88-4a68-9f20-ac8d48b635a7",
   "metadata": {},
   "outputs": [
    {
     "data": {
      "text/plain": [
       "['laxman', 45, 'hari']"
      ]
     },
     "execution_count": 4,
     "metadata": {},
     "output_type": "execute_result"
    }
   ],
   "source": [
    "l2"
   ]
  },
  {
   "cell_type": "code",
   "execution_count": 5,
   "id": "af0c6b02-0399-46ad-8edd-03c824583b5d",
   "metadata": {},
   "outputs": [],
   "source": [
    "l2.insert(0, 45)"
   ]
  },
  {
   "cell_type": "code",
   "execution_count": 6,
   "id": "e3152e2d-f9c1-47ab-8650-5d589a5e93b7",
   "metadata": {},
   "outputs": [
    {
     "data": {
      "text/plain": [
       "[45, 'laxman', 45, 'hari']"
      ]
     },
     "execution_count": 6,
     "metadata": {},
     "output_type": "execute_result"
    }
   ],
   "source": [
    "l2"
   ]
  },
  {
   "cell_type": "code",
   "execution_count": 7,
   "id": "60189d50-f948-4963-af83-8422a45720bc",
   "metadata": {},
   "outputs": [
    {
     "data": {
      "text/plain": [
       "'laxman'"
      ]
     },
     "execution_count": 7,
     "metadata": {},
     "output_type": "execute_result"
    }
   ],
   "source": [
    "#to delete data\n",
    "# pop is normally used to delete data of the last index if we do not give any index value\n",
    "l2.pop(1)\n"
   ]
  },
  {
   "cell_type": "code",
   "execution_count": 8,
   "id": "38dfbb21-2673-434e-99f2-59034ed52567",
   "metadata": {},
   "outputs": [
    {
     "data": {
      "text/plain": [
       "[45, 45, 'hari']"
      ]
     },
     "execution_count": 8,
     "metadata": {},
     "output_type": "execute_result"
    }
   ],
   "source": [
    "l2"
   ]
  },
  {
   "cell_type": "code",
   "execution_count": 9,
   "id": "2bbafb74-6584-458e-8a33-761e82cadaa8",
   "metadata": {},
   "outputs": [
    {
     "data": {
      "text/plain": [
       "'hari'"
      ]
     },
     "execution_count": 9,
     "metadata": {},
     "output_type": "execute_result"
    }
   ],
   "source": [
    "l2.pop()"
   ]
  },
  {
   "cell_type": "code",
   "execution_count": 10,
   "id": "dfafbf76-73f7-4eda-a1fc-ad095f58731d",
   "metadata": {},
   "outputs": [
    {
     "data": {
      "text/plain": [
       "[45, 45]"
      ]
     },
     "execution_count": 10,
     "metadata": {},
     "output_type": "execute_result"
    }
   ],
   "source": [
    "l2"
   ]
  },
  {
   "cell_type": "code",
   "execution_count": 13,
   "id": "b7be7ec7-dae7-4095-bc05-f81bf072ed8f",
   "metadata": {},
   "outputs": [],
   "source": [
    "l2.insert(0,[\"ram\", \"shyam\"])"
   ]
  },
  {
   "cell_type": "code",
   "execution_count": 14,
   "id": "d4635f30-2476-4c1d-a67f-e9244063ff46",
   "metadata": {},
   "outputs": [
    {
     "data": {
      "text/plain": [
       "[['ram', 'shyam'], 45, 45]"
      ]
     },
     "execution_count": 14,
     "metadata": {},
     "output_type": "execute_result"
    }
   ],
   "source": [
    "l2"
   ]
  },
  {
   "cell_type": "code",
   "execution_count": 3,
   "id": "53d64b89-1a83-42ca-b507-d726ec45382b",
   "metadata": {},
   "outputs": [],
   "source": [
    "#to delete item with their value not from index we use remove function\n",
    "c = [['ram', 'shyam'], 45, 45,\"hari\",\"gita\", \"aarati\"]"
   ]
  },
  {
   "cell_type": "code",
   "execution_count": 5,
   "id": "6714e39e-404b-4d62-aa8f-16371b4f90f2",
   "metadata": {},
   "outputs": [],
   "source": [
    "c.remove(45)"
   ]
  },
  {
   "cell_type": "code",
   "execution_count": 6,
   "id": "2b0e9b65-cc92-487a-ab12-5a42f5c8733f",
   "metadata": {},
   "outputs": [
    {
     "data": {
      "text/plain": [
       "[['ram', 'shyam'], 45, 'hari', 'gita', 'aarati']"
      ]
     },
     "execution_count": 6,
     "metadata": {},
     "output_type": "execute_result"
    }
   ],
   "source": [
    "c"
   ]
  },
  {
   "cell_type": "code",
   "execution_count": 9,
   "id": "b892815b-c4db-438b-9e76-e3dfbe3b064f",
   "metadata": {},
   "outputs": [
    {
     "data": {
      "text/plain": [
       "[['shyam'], 45, 'hari', 'gita', 'aarati']"
      ]
     },
     "execution_count": 9,
     "metadata": {},
     "output_type": "execute_result"
    }
   ],
   "source": [
    "c[0].remove('ram')\n",
    "c"
   ]
  },
  {
   "cell_type": "code",
   "execution_count": 21,
   "id": "99fe803d-6a4c-4cb8-bb18-e714c407f74a",
   "metadata": {},
   "outputs": [],
   "source": [
    "# c[2].remove('dh') \n",
    "#this is not possible because list is mutable object but not string"
   ]
  },
  {
   "cell_type": "code",
   "execution_count": 11,
   "id": "70608e67-c3f3-4ed9-aca8-249c639aeb5b",
   "metadata": {},
   "outputs": [
    {
     "data": {
      "text/plain": [
       "[['shyam'], 45, 'hari', 'gita', 'aarati', 4]"
      ]
     },
     "execution_count": 11,
     "metadata": {},
     "output_type": "execute_result"
    }
   ],
   "source": [
    "c.append(4)\n",
    "c"
   ]
  },
  {
   "cell_type": "code",
   "execution_count": 15,
   "id": "a75be935-6c97-49ac-a309-4f974901001a",
   "metadata": {},
   "outputs": [
    {
     "data": {
      "text/plain": [
       "[['shyam'], 45, 'hari', 'gita', 'aarati', 4, 4]"
      ]
     },
     "execution_count": 15,
     "metadata": {},
     "output_type": "execute_result"
    }
   ],
   "source": [
    "c.append(4)\n",
    "c"
   ]
  },
  {
   "cell_type": "code",
   "execution_count": 25,
   "id": "f0ddb854-2dd0-488a-be76-ff297245e4e6",
   "metadata": {},
   "outputs": [
    {
     "data": {
      "text/plain": [
       "[['shyam'], 45, 'hari', 'gita', 'aarati']"
      ]
     },
     "execution_count": 25,
     "metadata": {},
     "output_type": "execute_result"
    }
   ],
   "source": [
    "c.remove(4)\n",
    "c"
   ]
  },
  {
   "cell_type": "code",
   "execution_count": 26,
   "id": "d180ea79-55be-468a-990d-8be9508ec70b",
   "metadata": {},
   "outputs": [
    {
     "data": {
      "text/plain": [
       "[['shyam'], 45, 'hari', 'gita', 'aarati']"
      ]
     },
     "execution_count": 26,
     "metadata": {},
     "output_type": "execute_result"
    }
   ],
   "source": [
    "c"
   ]
  },
  {
   "cell_type": "code",
   "execution_count": 28,
   "id": "6bb9f5f7-af7e-4d7a-9589-1c1c89d14d46",
   "metadata": {},
   "outputs": [
    {
     "data": {
      "text/plain": [
       "['aarati', 'gita', 'hari', 45, ['shyam']]"
      ]
     },
     "execution_count": 28,
     "metadata": {},
     "output_type": "execute_result"
    }
   ],
   "source": [
    "# to reverse list \n",
    "\n",
    "c[::-1]  #this is temporary reverse"
   ]
  },
  {
   "cell_type": "code",
   "execution_count": 29,
   "id": "80242ec9-48cc-40b6-8859-a18b14b23489",
   "metadata": {},
   "outputs": [
    {
     "data": {
      "text/plain": [
       "[['shyam'], 45, 'hari', 'gita', 'aarati']"
      ]
     },
     "execution_count": 29,
     "metadata": {},
     "output_type": "execute_result"
    }
   ],
   "source": [
    "c"
   ]
  },
  {
   "cell_type": "code",
   "execution_count": 31,
   "id": "63bba0f7-8cdd-49c7-bc3c-8b6540d309b5",
   "metadata": {},
   "outputs": [
    {
     "data": {
      "text/plain": [
       "[['shyam'], 45, 'hari', 'gita', 'aarati']"
      ]
     },
     "execution_count": 31,
     "metadata": {},
     "output_type": "execute_result"
    }
   ],
   "source": [
    "c.reverse() #this is permanent reverse the original list will also be changed\n",
    "c"
   ]
  },
  {
   "cell_type": "code",
   "execution_count": 32,
   "id": "79b28456-23bb-4313-a840-34974e3bd921",
   "metadata": {},
   "outputs": [],
   "source": [
    "c = c[::-1]  #this is permanent reverse as it is assigned to variable c"
   ]
  },
  {
   "cell_type": "code",
   "execution_count": 33,
   "id": "72f32499-6695-44a5-9e45-a41ef1435cd5",
   "metadata": {},
   "outputs": [
    {
     "data": {
      "text/plain": [
       "['aarati', 'gita', 'hari', 45, ['shyam']]"
      ]
     },
     "execution_count": 33,
     "metadata": {},
     "output_type": "execute_result"
    }
   ],
   "source": [
    "c"
   ]
  },
  {
   "cell_type": "code",
   "execution_count": 35,
   "id": "d64fbee4-5d06-4ee3-aa12-08e1745a6219",
   "metadata": {},
   "outputs": [
    {
     "data": {
      "text/plain": [
       "[2, 2, 3, 4, 7, 34, 44, 53, 55]"
      ]
     },
     "execution_count": 35,
     "metadata": {},
     "output_type": "execute_result"
    }
   ],
   "source": [
    "l = [2,3,44,55,34,53,2,4,7,]\n",
    "l.sort()  #sort function cannot sort while there is string data type but it can if all data are in string\n",
    "l"
   ]
  },
  {
   "cell_type": "code",
   "execution_count": 38,
   "id": "7f9ddd81-5695-4069-a33a-b3f0c02ceebe",
   "metadata": {},
   "outputs": [
    {
     "data": {
      "text/plain": [
       "['aa', 'b', 'csit', 'file', 'note', 'ram', 'samrat']"
      ]
     },
     "execution_count": 38,
     "metadata": {},
     "output_type": "execute_result"
    }
   ],
   "source": [
    "z = ['ram','csit','samrat','file','note','aa','b']\n",
    "z.sort()\n",
    "z"
   ]
  },
  {
   "cell_type": "code",
   "execution_count": 39,
   "id": "637c7e4c-ed55-4080-8fd2-5418c8ad6a1d",
   "metadata": {},
   "outputs": [],
   "source": [
    "#to sort string in reverse order\n",
    "z.sort(reverse=True)"
   ]
  },
  {
   "cell_type": "code",
   "execution_count": 40,
   "id": "c043129a-251e-46b3-afcf-b37d3422e51a",
   "metadata": {},
   "outputs": [
    {
     "data": {
      "text/plain": [
       "['samrat', 'ram', 'note', 'file', 'csit', 'b', 'aa']"
      ]
     },
     "execution_count": 40,
     "metadata": {},
     "output_type": "execute_result"
    }
   ],
   "source": [
    "z"
   ]
  },
  {
   "cell_type": "code",
   "execution_count": 43,
   "id": "7854398d-20fa-4111-807e-3dcd8aa072df",
   "metadata": {},
   "outputs": [
    {
     "data": {
      "text/plain": [
       "1"
      ]
     },
     "execution_count": 43,
     "metadata": {},
     "output_type": "execute_result"
    }
   ],
   "source": [
    "z.index('ram')"
   ]
  },
  {
   "cell_type": "code",
   "execution_count": 44,
   "id": "c96975da-8023-45bb-b360-4ec16be70de0",
   "metadata": {},
   "outputs": [
    {
     "data": {
      "text/plain": [
       "1"
      ]
     },
     "execution_count": 44,
     "metadata": {},
     "output_type": "execute_result"
    }
   ],
   "source": [
    "#count function is normally used to count the total number of occurance of particular item\n",
    "#or frequency of elements\n",
    "z.count(\"samrat\")"
   ]
  },
  {
   "cell_type": "code",
   "execution_count": 2,
   "id": "7f6d3881-4471-4c1a-a204-57bd50696feb",
   "metadata": {},
   "outputs": [],
   "source": [
    "s = 'samrat'"
   ]
  },
  {
   "cell_type": "code",
   "execution_count": 3,
   "id": "acc4a88c-0e94-48e3-86eb-4c4f5c6fbb8a",
   "metadata": {},
   "outputs": [
    {
     "ename": "TypeError",
     "evalue": "'str' object does not support item assignment",
     "output_type": "error",
     "traceback": [
      "\u001b[0;31m---------------------------------------------------------------------------\u001b[0m",
      "\u001b[0;31mTypeError\u001b[0m                                 Traceback (most recent call last)",
      "Cell \u001b[0;32mIn[3], line 1\u001b[0m\n\u001b[0;32m----> 1\u001b[0m \u001b[43ms\u001b[49m\u001b[43m[\u001b[49m\u001b[38;5;241;43m0\u001b[39;49m\u001b[43m]\u001b[49m \u001b[38;5;241m=\u001b[39m \u001b[38;5;124m'\u001b[39m\u001b[38;5;124ma\u001b[39m\u001b[38;5;124m'\u001b[39m\n",
      "\u001b[0;31mTypeError\u001b[0m: 'str' object does not support item assignment"
     ]
    }
   ],
   "source": [
    "# s[0] = 'a'     this is error because string is immutable as it is string\n",
    "# mutability means we can change  same place we can change by accessing index\n",
    "#assignment and mutability is a different concept"
   ]
  },
  {
   "cell_type": "code",
   "execution_count": 4,
   "id": "c698a693-eac1-4c4c-86a0-0ab2a666b1f4",
   "metadata": {},
   "outputs": [],
   "source": [
    "l5 = [2,4,5,6,8]\n"
   ]
  },
  {
   "cell_type": "code",
   "execution_count": 5,
   "id": "6cdc382d-f58e-49b7-bc8e-564ada907160",
   "metadata": {},
   "outputs": [],
   "source": [
    "l5[0] = 55"
   ]
  },
  {
   "cell_type": "code",
   "execution_count": 6,
   "id": "ab24f183-4699-41aa-95b9-cf655579b405",
   "metadata": {},
   "outputs": [
    {
     "data": {
      "text/plain": [
       "[55, 4, 5, 6, 8]"
      ]
     },
     "execution_count": 6,
     "metadata": {},
     "output_type": "execute_result"
    }
   ],
   "source": [
    "l5"
   ]
  },
  {
   "cell_type": "code",
   "execution_count": 3,
   "id": "fbf2e57d-320b-4138-a823-168a7e958e6d",
   "metadata": {},
   "outputs": [
    {
     "data": {
      "text/plain": [
       "'uamrat'"
      ]
     },
     "execution_count": 3,
     "metadata": {},
     "output_type": "execute_result"
    }
   ],
   "source": [
    "s.replace('s', 'u')  #it will be available in new memory location not in original"
   ]
  },
  {
   "cell_type": "code",
   "execution_count": 4,
   "id": "acb76f38-7fe6-443a-a59b-133ab94d600d",
   "metadata": {},
   "outputs": [
    {
     "data": {
      "text/plain": [
       "'samrat'"
      ]
     },
     "execution_count": 4,
     "metadata": {},
     "output_type": "execute_result"
    }
   ],
   "source": [
    "s"
   ]
  },
  {
   "cell_type": "code",
   "execution_count": 5,
   "id": "50459361-e015-448a-afd3-bcf62e150d14",
   "metadata": {},
   "outputs": [],
   "source": [
    "# TUPLES it is a collection which can store all data type\n",
    "# tuples also follow the immutability concept\n",
    "# it is used in store password because we cannot change but can make object\n",
    "t = (2,34,5,\"ramj\",34.44,False,34+332j,[3,4,5])"
   ]
  },
  {
   "cell_type": "code",
   "execution_count": 6,
   "id": "96c0dc2b-14ca-43b8-88d5-e19a6f69a9c3",
   "metadata": {},
   "outputs": [
    {
     "data": {
      "text/plain": [
       "tuple"
      ]
     },
     "execution_count": 6,
     "metadata": {},
     "output_type": "execute_result"
    }
   ],
   "source": [
    "type(t)\n"
   ]
  },
  {
   "cell_type": "code",
   "execution_count": 7,
   "id": "7fa93d38-babf-4a0a-947a-5526f97dd6c3",
   "metadata": {},
   "outputs": [
    {
     "data": {
      "text/plain": [
       "7"
      ]
     },
     "execution_count": 7,
     "metadata": {},
     "output_type": "execute_result"
    }
   ],
   "source": [
    "len(t)"
   ]
  },
  {
   "cell_type": "code",
   "execution_count": 8,
   "id": "1e5414e1-432e-4755-9522-abb2aee5cc9a",
   "metadata": {},
   "outputs": [
    {
     "data": {
      "text/plain": [
       "2"
      ]
     },
     "execution_count": 8,
     "metadata": {},
     "output_type": "execute_result"
    }
   ],
   "source": [
    "t[0]"
   ]
  },
  {
   "cell_type": "code",
   "execution_count": 9,
   "id": "ad288445-12dd-45aa-bdf3-b8ee8b6db45e",
   "metadata": {},
   "outputs": [
    {
     "data": {
      "text/plain": [
       "(34+332j)"
      ]
     },
     "execution_count": 9,
     "metadata": {},
     "output_type": "execute_result"
    }
   ],
   "source": [
    "t[-1]"
   ]
  },
  {
   "cell_type": "code",
   "execution_count": 10,
   "id": "822f944d-d356-4f72-bdfd-51bd62e0ebd2",
   "metadata": {},
   "outputs": [
    {
     "data": {
      "text/plain": [
       "((34+332j), False, 34.44, 'ramj', 5, 34, 2)"
      ]
     },
     "execution_count": 10,
     "metadata": {},
     "output_type": "execute_result"
    }
   ],
   "source": [
    "t[::-1]   #this means object is created not mutate"
   ]
  },
  {
   "cell_type": "code",
   "execution_count": 12,
   "id": "1558c100-aeb1-4d44-b4fe-123f7a1af386",
   "metadata": {},
   "outputs": [
    {
     "data": {
      "text/plain": [
       "0"
      ]
     },
     "execution_count": 12,
     "metadata": {},
     "output_type": "execute_result"
    }
   ],
   "source": [
    "t.count(60)"
   ]
  },
  {
   "cell_type": "code",
   "execution_count": 14,
   "id": "5a25133d-f23d-4fb0-9691-8b5bc3ad7910",
   "metadata": {},
   "outputs": [
    {
     "data": {
      "text/plain": [
       "3"
      ]
     },
     "execution_count": 14,
     "metadata": {},
     "output_type": "execute_result"
    }
   ],
   "source": [
    "t.index('ramj')"
   ]
  },
  {
   "cell_type": "code",
   "execution_count": 15,
   "id": "4b6b6742-832d-4076-8a0f-f9b5d013f9f4",
   "metadata": {},
   "outputs": [
    {
     "data": {
      "text/plain": [
       "dict"
      ]
     },
     "execution_count": 15,
     "metadata": {},
     "output_type": "execute_result"
    }
   ],
   "source": [
    "#now we do have another data type i.e.   set\n",
    "s = {}\n",
    "type(s)  #python gives it as dictonary as it is empty"
   ]
  },
  {
   "cell_type": "code",
   "execution_count": 17,
   "id": "45b5d70e-bf82-41a8-999d-5e0059c06468",
   "metadata": {},
   "outputs": [
    {
     "data": {
      "text/plain": [
       "set"
      ]
     },
     "execution_count": 17,
     "metadata": {},
     "output_type": "execute_result"
    }
   ],
   "source": [
    "s1 = {3,4,5,3,9,6,5,9,\"rajnish\",True,2+ 3j, (4,5,9)} \n",
    "#tuple is accepted in set but not list because tuple is immutable and cannot use mutable data type\n",
    "#set gives unique element remove the duplicate \n",
    "type(s1)"
   ]
  },
  {
   "cell_type": "code",
   "execution_count": 18,
   "id": "5cc04d01-c920-479f-ba88-881a506ecd06",
   "metadata": {},
   "outputs": [
    {
     "data": {
      "text/plain": [
       "{(2+3j), (4, 5, 9), 3, 4, 5, 6, 9, True, 'rajnish'}"
      ]
     },
     "execution_count": 18,
     "metadata": {},
     "output_type": "execute_result"
    }
   ],
   "source": [
    "s1"
   ]
  },
  {
   "cell_type": "code",
   "execution_count": 20,
   "id": "ae255024-7a2a-49da-a54c-1ed8f61bba19",
   "metadata": {},
   "outputs": [
    {
     "data": {
      "text/plain": [
       "{2, 22, 3, 32, 33, 4, 44, 5, 55, 6, 64, 7, 8, 9, 'Sudh', 'sudh'}"
      ]
     },
     "execution_count": 20,
     "metadata": {},
     "output_type": "execute_result"
    }
   ],
   "source": [
    "s2 = {2,3,3,4,5,3,2,5,6,7,8,9,55,64,32,44,44,33,22,'Sudh','sudh'}\n",
    "s2"
   ]
  },
  {
   "cell_type": "code",
   "execution_count": 6,
   "id": "b91abd43-16a8-4ff1-9b63-0476b2e22f21",
   "metadata": {},
   "outputs": [
    {
     "data": {
      "text/plain": [
       "[64, 32, 2, 3, 4, 5, 6, 7, 8, 9, 33, 'Sudh', 44, 'sudh', 'rajnish', 22, 55]"
      ]
     },
     "execution_count": 6,
     "metadata": {},
     "output_type": "execute_result"
    }
   ],
   "source": [
    "# removing the duplicates form the list and again assingning it to list\n",
    "# set never creates a data set at any point of time\n",
    "l6 = [2,3,3,4,5,3,2,5,6,7,8,9,55,64,32,44,44,33,22,'Sudh','sudh','rajnish','rajnish']\n",
    "l6 =list( set(l6))\n",
    "l6"
   ]
  },
  {
   "cell_type": "code",
   "execution_count": null,
   "id": "0dfe5c97-ec4b-4746-b36d-0870ad894e4e",
   "metadata": {},
   "outputs": [],
   "source": [
    "# indexing and slicing is not possible in set "
   ]
  },
  {
   "cell_type": "code",
   "execution_count": 8,
   "id": "0ce2d7bc-8791-4547-b760-c82c298a040f",
   "metadata": {},
   "outputs": [
    {
     "data": {
      "text/plain": [
       "{1, 2, 22, 3, 32, 33, 4, 44, 5, 55, 6, 64, 7, 8, 9, 'Sudh', 'sudh'}"
      ]
     },
     "execution_count": 8,
     "metadata": {},
     "output_type": "execute_result"
    }
   ],
   "source": [
    "#adding element in a set\n",
    "s5 = {2, 22, 3, 32, 33, 4, 44, 5, 55, 6, 64, 7, 8, 9, 'Sudh', 'sudh'}\n",
    "s5.add(1)\n",
    "s5"
   ]
  },
  {
   "cell_type": "code",
   "execution_count": 10,
   "id": "cb3d6644-d22e-4c5e-9720-246e339714c8",
   "metadata": {},
   "outputs": [
    {
     "data": {
      "text/plain": [
       "{1, 2, 22, 3, 32, 33, 4, 44, 5, 55, 6, 64, 7, 8, 9, 'Sudh'}"
      ]
     },
     "execution_count": 10,
     "metadata": {},
     "output_type": "execute_result"
    }
   ],
   "source": [
    "# removing element in a set\n",
    "s5.remove('sudh')\n",
    "s5"
   ]
  },
  {
   "cell_type": "code",
   "execution_count": null,
   "id": "3c203ae3-e8dd-4c4f-934e-76f55c14d815",
   "metadata": {},
   "outputs": [],
   "source": []
  }
 ],
 "metadata": {
  "kernelspec": {
   "display_name": "Python 3 (ipykernel)",
   "language": "python",
   "name": "python3"
  },
  "language_info": {
   "codemirror_mode": {
    "name": "ipython",
    "version": 3
   },
   "file_extension": ".py",
   "mimetype": "text/x-python",
   "name": "python",
   "nbconvert_exporter": "python",
   "pygments_lexer": "ipython3",
   "version": "3.10.8"
  }
 },
 "nbformat": 4,
 "nbformat_minor": 5
}
