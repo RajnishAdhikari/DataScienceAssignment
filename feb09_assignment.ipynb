{
 "cells": [
  {
   "cell_type": "code",
   "execution_count": 1,
   "metadata": {},
   "outputs": [],
   "source": [
    "# Q1, Create a vehicle class with an init method having instance variables as name_of_vehicle, max_speed\n",
    "# and average_of_vehicle.\n",
    "\n",
    "class vehicle:\n",
    "    def __init__(self, name_of_vehicle, max_speed,average_of_vehicle):\n",
    "        self.name_of_vehicle = name_of_vehicle\n",
    "        self.max_speed = max_speed\n",
    "        self.average_of_vehicle = average_of_vehicle\n",
    "\n"
   ]
  },
  {
   "cell_type": "code",
   "execution_count": 6,
   "metadata": {},
   "outputs": [
    {
     "name": "stdout",
     "output_type": "stream",
     "text": [
      "The Pradohas a seating capacity of 7\n"
     ]
    }
   ],
   "source": [
    "# Q2. Create a child class car from the vehicle class created in Que 1, which will inherit the vehicle class.\n",
    "# Create a method named seating_capacity which takes capacity as an argument and returns the name of\n",
    "# the vehicle and its seating capacity.\n",
    "class vehicle:\n",
    "    def __init__(self, name_of_vehicle, capacity):\n",
    "        self.name_of_vehicle = name_of_vehicle\n",
    "        self.capacity = capacity\n",
    "\n",
    "class car(vehicle):\n",
    "    def seating_capacity(self):\n",
    "        return \"The \" + self.name_of_vehicle + \"has a seating capacity of \" + str(self.capacity)\n",
    "\n",
    "\n",
    "object_car = car(\"Prado\", 7)\n",
    "print(object_car.seating_capacity())\n"
   ]
  },
  {
   "cell_type": "code",
   "execution_count": 7,
   "metadata": {},
   "outputs": [
    {
     "name": "stdout",
     "output_type": "stream",
     "text": [
      "This is method A.\n",
      "This is method B.\n",
      "This is method C.\n"
     ]
    }
   ],
   "source": [
    "# Q3. What is multiple inheritance? Write a python code to demonstrate multiple inheritance.\n",
    "# Multiple inheritance is a feature of object-oriented programming languages where a \n",
    "# class can inherit from more than one parent class. In multiple inheritance, a class \n",
    "# can derive properties and characteristics from multiple parent classes.\n",
    "\n",
    "# Here's an example Python code to demonstrate multiple inheritance:\n",
    "\n",
    "\n",
    "class A:\n",
    "    def methodA(self):\n",
    "        print(\"This is method A.\")\n",
    "\n",
    "class B:\n",
    "    def methodB(self):\n",
    "        print(\"This is method B.\")\n",
    "\n",
    "class C(A, B):\n",
    "    def methodC(self):\n",
    "        print(\"This is method C.\")\n",
    "\n",
    "objC = C()\n",
    "objC.methodA()\n",
    "objC.methodB()\n",
    "objC.methodC()\n",
    "\n",
    "\n",
    "# In the code above, we have three classes: `A`, `B`, and `C`. Class `A` has a \n",
    "# method `methodA`, class `B` has a method `methodB`, and class `C` inherits \n",
    "# from both `A` and `B`, and also has its own method `methodC`.\n",
    "\n",
    "# When we create an object of class `C` and call its methods, we can see that \n",
    "# it can access the methods of both `A` and `B`. This is because `C` inherits \n",
    "# from both `A` and `B`, and therefore has access to their methods."
   ]
  },
  {
   "cell_type": "code",
   "execution_count": 8,
   "metadata": {},
   "outputs": [],
   "source": [
    "# Q4. What are getter and setter in python? Create a class and create a getter and a setter method in this\n",
    "# class.\n",
    "\n",
    "# Getter and Setter methods are used to access and modify the attributes of a \n",
    "# class respectively, in a controlled manner. \n",
    "\n",
    "# Getter methods are used to get the value of an attribute of an object. \n",
    "# It is also known as an accessor method. In Python, it is conventionally denoted with a prefix of \"get_\".\n",
    "\n",
    "# Setter methods are used to set the value of an attribute of an object. \n",
    "# It is also known as a mutator method. In Python, it is conventionally denoted with a prefix of \"set_\".\n",
    "\n",
    "# Here's an example class with getter and setter methods:\n",
    "\n",
    "\n",
    "class Student:\n",
    "    def __init__(self, name, roll_no, age):\n",
    "        self.name = name\n",
    "        self.roll_no = roll_no\n",
    "        self.age = age\n",
    "        \n",
    "    # Getter methods\n",
    "    def get_name(self):\n",
    "        return self.name\n",
    "    \n",
    "    def get_roll_no(self):\n",
    "        return self.roll_no\n",
    "    \n",
    "    def get_age(self):\n",
    "        return self.age\n",
    "    \n",
    "    # Setter methods\n",
    "    def set_name(self, name):\n",
    "        self.name = name\n",
    "        \n",
    "    def set_roll_no(self, roll_no):\n",
    "        self.roll_no = roll_no\n",
    "        \n",
    "    def set_age(self, age):\n",
    "        self.age = age\n",
    "\n",
    "\n",
    "# In this example, we have created a `Student` class with three attributes - `name`, `roll_no`, and `age`. \n",
    "# We have created getter and setter methods for each of these attributes.\n",
    "\n",
    "# The getter methods return the value of the corresponding attribute, while the setter methods set \n",
    "# the value of the attribute to the argument passed to the method.\n",
    "\n",
    "# For example, to get the name of a student object `s`, we can call `s.get_name()`. To set the name \n",
    "# of `s` to \"John\", we can call `s.set_name(\"John\")`."
   ]
  },
  {
   "cell_type": "code",
   "execution_count": null,
   "metadata": {},
   "outputs": [],
   "source": [
    "# Q5.What is method overriding in python? Write a python code to demonstrate method overriding.\n",
    "# Method overriding is the ability of a subclass to provide a different implementation of a \n",
    "# method that is already defined in its superclass. This allows a subclass to provide its own \n",
    "# implementation of a method and tailor it to its specific needs. \n",
    "\n",
    "# Here's an example code to demonstrate method overriding in Python:\n",
    "\n",
    "class Animal:\n",
    "    def sound(self):\n",
    "        print(\"The animal makes a sound\")\n",
    "\n",
    "class Cat(Animal):\n",
    "    def sound(self):\n",
    "        print(\"The cat meows\")\n",
    "\n",
    "class Dog(Animal):\n",
    "    def sound(self):\n",
    "        print(\"The dog barks\")\n",
    "\n",
    "animal = Animal()\n",
    "animal.sound()\n",
    "\n",
    "cat = Cat()\n",
    "cat.sound()\n",
    "\n",
    "dog = Dog()\n",
    "dog.sound()\n",
    "\n",
    "\n",
    "# In this code, we have a superclass `Animal` with a method `sound()`. We then define two \n",
    "# subclasses `Cat` and `Dog` which inherit from `Animal`. Each subclass provides its own \n",
    "# implementation of the `sound()` method using the same method name but with different behavior. \n",
    "\n",
    "# When we create an object of each class and call the `sound()` method, we can see that \n",
    "# the appropriate method is called for each object based on its class. This is an example \n",
    "# of method overriding."
   ]
  }
 ],
 "metadata": {
  "kernelspec": {
   "display_name": "Python 3.8.10 64-bit",
   "language": "python",
   "name": "python3"
  },
  "language_info": {
   "codemirror_mode": {
    "name": "ipython",
    "version": 3
   },
   "file_extension": ".py",
   "mimetype": "text/x-python",
   "name": "python",
   "nbconvert_exporter": "python",
   "pygments_lexer": "ipython3",
   "version": "3.8.10"
  },
  "orig_nbformat": 4,
  "vscode": {
   "interpreter": {
    "hash": "e7370f93d1d0cde622a1f8e1c04877d8463912d04d973331ad4851f04de6915a"
   }
  }
 },
 "nbformat": 4,
 "nbformat_minor": 2
}
