{
 "cells": [
  {
   "cell_type": "code",
   "execution_count": null,
   "metadata": {},
   "outputs": [],
   "source": [
    "# Q1. What is an API? Give an example, where an API is used in real life.\n",
    "# API stands for Application Programming Interface. It is a set of rules and protocols that allows \n",
    "# different software applications to communicate with each other. It defines the methods and data \n",
    "# formats that applications can use to request and exchange information.\n",
    "\n",
    "# An example of where an API is used in real life is in social media platforms like Facebook. Facebook \n",
    "# provides an API that allows developers to access and interact with certain functionalities of the platform. \n",
    "# For example, a developer can use the Facebook API to retrieve a user's profile information, post content on \n",
    "# their behalf, or retrieve their social connections. This enables developers to integrate Facebook features \n",
    "# into their own applications or create new applications that interact with Facebook's platform.\n",
    "\n",
    "# In this scenario, the Facebook API acts as a bridge between the developer's application and the Facebook \n",
    "# platform, allowing them to access and utilize Facebook's services and data within their own software. APIs \n",
    "# are used in various domains, including web development, mobile app development, cloud services, and more, \n",
    "# to enable seamless integration and interaction between different software systems.\n"
   ]
  },
  {
   "cell_type": "code",
   "execution_count": null,
   "metadata": {},
   "outputs": [],
   "source": [
    "# Q2. Give advantages and disadvantages of using API."
   ]
  }
 ],
 "metadata": {
  "language_info": {
   "name": "python"
  },
  "orig_nbformat": 4
 },
 "nbformat": 4,
 "nbformat_minor": 2
}
