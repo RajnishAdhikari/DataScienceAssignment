{
 "cells": [
  {
   "cell_type": "code",
   "execution_count": 4,
   "id": "4a4b360f-d218-4762-b25c-0009789f1ab5",
   "metadata": {},
   "outputs": [
    {
     "data": {
      "text/plain": [
       "4"
      ]
     },
     "execution_count": 4,
     "metadata": {},
     "output_type": "execute_result"
    }
   ],
   "source": [
    "2+2\n",
    "# python supports scripting as well as oops"
   ]
  },
  {
   "cell_type": "code",
   "execution_count": 8,
   "id": "2e76b70f-e0af-4960-94f4-af7f75d6affd",
   "metadata": {},
   "outputs": [
    {
     "data": {
      "text/plain": [
       "10"
      ]
     },
     "execution_count": 8,
     "metadata": {},
     "output_type": "execute_result"
    }
   ],
   "source": [
    "# allocaing the variable to any data or storing data in a variable\n",
    "# here a is variable and 10 is data\n",
    "# python is a self type language as it understands the data type automatically when we assing\n",
    "a = 10\n",
    "a\n"
   ]
  },
  {
   "cell_type": "code",
   "execution_count": 2,
   "id": "0fdfa58b-5d2a-4125-8412-ccce2f1e9aed",
   "metadata": {},
   "outputs": [],
   "source": [
    "ram = 20"
   ]
  },
  {
   "cell_type": "code",
   "execution_count": 3,
   "id": "ab3dede4-69bd-4b9d-b0e2-150bc11e7ace",
   "metadata": {},
   "outputs": [
    {
     "data": {
      "text/plain": [
       "30"
      ]
     },
     "execution_count": 3,
     "metadata": {},
     "output_type": "execute_result"
    }
   ],
   "source": [
    "ram + a"
   ]
  },
  {
   "cell_type": "code",
   "execution_count": 5,
   "id": "0a32708d-f980-41be-a223-7233963870b8",
   "metadata": {},
   "outputs": [
    {
     "data": {
      "text/plain": [
       "int"
      ]
     },
     "execution_count": 5,
     "metadata": {},
     "output_type": "execute_result"
    }
   ],
   "source": [
    "# to check the data type of the a we do have function type()\n",
    "type(a)"
   ]
  },
  {
   "cell_type": "code",
   "execution_count": 7,
   "id": "973f12ca-7479-4be5-8038-fe021e960258",
   "metadata": {},
   "outputs": [
    {
     "data": {
      "text/plain": [
       "float"
      ]
     },
     "execution_count": 7,
     "metadata": {},
     "output_type": "execute_result"
    }
   ],
   "source": [
    "b = 4.5\n",
    "type(b)"
   ]
  },
  {
   "cell_type": "code",
   "execution_count": 9,
   "id": "9f4a755a-4c08-4229-aa7e-9765076cff74",
   "metadata": {},
   "outputs": [
    {
     "data": {
      "text/plain": [
       "str"
      ]
     },
     "execution_count": 9,
     "metadata": {},
     "output_type": "execute_result"
    }
   ],
   "source": [
    "r = \"ram\"\n",
    "type(r)"
   ]
  },
  {
   "cell_type": "code",
   "execution_count": 10,
   "id": "a2057bfb-b39e-49fd-8586-9371bd3e5769",
   "metadata": {},
   "outputs": [
    {
     "data": {
      "text/plain": [
       "str"
      ]
     },
     "execution_count": 10,
     "metadata": {},
     "output_type": "execute_result"
    }
   ],
   "source": [
    "a = 'hari'\n",
    "type(a)"
   ]
  },
  {
   "cell_type": "code",
   "execution_count": 11,
   "id": "2cbf14a9-9740-4049-a74d-1bd557633688",
   "metadata": {},
   "outputs": [
    {
     "data": {
      "text/plain": [
       "bool"
      ]
     },
     "execution_count": 11,
     "metadata": {},
     "output_type": "execute_result"
    }
   ],
   "source": [
    "# creating boolean variable\n",
    "n = True\n",
    "type(n)"
   ]
  },
  {
   "cell_type": "code",
   "execution_count": 12,
   "id": "8cf883be-66a2-4387-a861-6cb13b14b665",
   "metadata": {},
   "outputs": [
    {
     "data": {
      "text/plain": [
       "1"
      ]
     },
     "execution_count": 12,
     "metadata": {},
     "output_type": "execute_result"
    }
   ],
   "source": [
    "m = False\n",
    "n+ m  # the result is 1 as n = 1 and m is 0"
   ]
  },
  {
   "cell_type": "code",
   "execution_count": 15,
   "id": "62865ee8-b54c-4d82-8b7e-7c81c655a6af",
   "metadata": {},
   "outputs": [
    {
     "data": {
      "text/plain": [
       "complex"
      ]
     },
     "execution_count": 15,
     "metadata": {},
     "output_type": "execute_result"
    }
   ],
   "source": [
    "v = 5 + 7j  #python understands only j not other character or variable\n",
    "type(v)"
   ]
  },
  {
   "cell_type": "code",
   "execution_count": 16,
   "id": "e80521c3-2f59-460c-9387-331d25a659d6",
   "metadata": {},
   "outputs": [
    {
     "data": {
      "text/plain": [
       "5.0"
      ]
     },
     "execution_count": 16,
     "metadata": {},
     "output_type": "execute_result"
    }
   ],
   "source": [
    "#to extract real and imaginary number form a complex number\n",
    "v.real"
   ]
  },
  {
   "cell_type": "code",
   "execution_count": 17,
   "id": "8a5d836e-ab66-4231-8d6e-b9a41dff9186",
   "metadata": {},
   "outputs": [
    {
     "data": {
      "text/plain": [
       "7.0"
      ]
     },
     "execution_count": 17,
     "metadata": {},
     "output_type": "execute_result"
    }
   ],
   "source": [
    "v.imag"
   ]
  },
  {
   "cell_type": "code",
   "execution_count": 18,
   "id": "f6aaa136-dc50-408b-95bb-62ef2c372e5c",
   "metadata": {},
   "outputs": [
    {
     "name": "stdout",
     "output_type": "stream",
     "text": [
      "hello world\n"
     ]
    }
   ],
   "source": [
    "print(\"hello world\")"
   ]
  },
  {
   "cell_type": "code",
   "execution_count": 20,
   "id": "65805002-5799-4a82-9d9b-e5046d6bbcea",
   "metadata": {},
   "outputs": [
    {
     "data": {
      "text/plain": [
       "'r'"
      ]
     },
     "execution_count": 20,
     "metadata": {},
     "output_type": "execute_result"
    }
   ],
   "source": [
    "s = \"rajnishadhikari\"\n",
    "#to print only r we use square braket[]\n",
    "#index always start form 0 in a forward direction \n",
    "s[0]"
   ]
  },
  {
   "cell_type": "code",
   "execution_count": 21,
   "id": "37eaedee-c0d2-4194-8982-d525ccb7b85f",
   "metadata": {},
   "outputs": [
    {
     "data": {
      "text/plain": [
       "'i'"
      ]
     },
     "execution_count": 21,
     "metadata": {},
     "output_type": "execute_result"
    }
   ],
   "source": [
    "s[-1]"
   ]
  },
  {
   "cell_type": "code",
   "execution_count": 22,
   "id": "6d56b953-a11b-4e42-8065-5e587475f429",
   "metadata": {},
   "outputs": [
    {
     "data": {
      "text/plain": [
       "'r'"
      ]
     },
     "execution_count": 22,
     "metadata": {},
     "output_type": "execute_result"
    }
   ],
   "source": [
    "s[-2]"
   ]
  },
  {
   "cell_type": "code",
   "execution_count": 24,
   "id": "ff34634b-54d3-499f-bcf7-585d1bcb98d3",
   "metadata": {},
   "outputs": [
    {
     "data": {
      "text/plain": [
       "'raj'"
      ]
     },
     "execution_count": 24,
     "metadata": {},
     "output_type": "execute_result"
    }
   ],
   "source": [
    "#to print raj from s\n",
    "s[:3]"
   ]
  },
  {
   "cell_type": "code",
   "execution_count": 26,
   "id": "30a531cc-993c-4b96-af76-1ef8758256e5",
   "metadata": {},
   "outputs": [
    {
     "data": {
      "text/plain": [
       "'rjihdiai'"
      ]
     },
     "execution_count": 26,
     "metadata": {},
     "output_type": "execute_result"
    }
   ],
   "source": [
    "#to print data by alternate value of 1 i.e r j i h ....\n",
    "s[::2]   \n"
   ]
  },
  {
   "cell_type": "code",
   "execution_count": 28,
   "id": "9caf3b80-a3b9-49b8-b5af-fb92f449d252",
   "metadata": {},
   "outputs": [
    {
     "data": {
      "text/plain": [
       "'rjihdiai'"
      ]
     },
     "execution_count": 28,
     "metadata": {},
     "output_type": "execute_result"
    }
   ],
   "source": [
    "s[0:16:2]    #jumping by 2 index going form 0 to 2"
   ]
  },
  {
   "cell_type": "code",
   "execution_count": 34,
   "id": "f08212f8-389d-40fa-8c8a-69d87477e785",
   "metadata": {},
   "outputs": [
    {
     "data": {
      "text/plain": [
       "'irakihdahsinjar'"
      ]
     },
     "execution_count": 34,
     "metadata": {},
     "output_type": "execute_result"
    }
   ],
   "source": [
    "#printing the sting in reverse direction \n",
    "s[::-1] #when only indexing is defined then automatically it takes reverse indexing"
   ]
  },
  {
   "cell_type": "code",
   "execution_count": 31,
   "id": "5d002dd2-16a3-4aba-8cd5-6fdc6159276e",
   "metadata": {},
   "outputs": [
    {
     "data": {
      "text/plain": [
       "''"
      ]
     },
     "execution_count": 31,
     "metadata": {},
     "output_type": "execute_result"
    }
   ],
   "source": [
    "s[1:16:-1]"
   ]
  },
  {
   "cell_type": "code",
   "execution_count": 32,
   "id": "be1c2212-2bc0-4340-8d96-727fce7bc211",
   "metadata": {},
   "outputs": [
    {
     "data": {
      "text/plain": [
       "''"
      ]
     },
     "execution_count": 32,
     "metadata": {},
     "output_type": "execute_result"
    }
   ],
   "source": [
    "s[16:0]"
   ]
  },
  {
   "cell_type": "code",
   "execution_count": 33,
   "id": "ec3cbe84-480b-4f71-a49f-d276b4b639ad",
   "metadata": {},
   "outputs": [
    {
     "data": {
      "text/plain": [
       "'irakihdahsinja'"
      ]
     },
     "execution_count": 33,
     "metadata": {},
     "output_type": "execute_result"
    }
   ],
   "source": [
    "s[16:0:-1]"
   ]
  },
  {
   "cell_type": "code",
   "execution_count": 35,
   "id": "92f19651-c896-4f0c-a1e0-ee3a06c099bd",
   "metadata": {},
   "outputs": [
    {
     "data": {
      "text/plain": [
       "'iaidhijr'"
      ]
     },
     "execution_count": 35,
     "metadata": {},
     "output_type": "execute_result"
    }
   ],
   "source": [
    "s[::-2]"
   ]
  },
  {
   "cell_type": "code",
   "execution_count": 36,
   "id": "7f6248b9-be74-4a6d-aa86-cd1f318b6350",
   "metadata": {},
   "outputs": [
    {
     "data": {
      "text/plain": [
       "''"
      ]
     },
     "execution_count": 36,
     "metadata": {},
     "output_type": "execute_result"
    }
   ],
   "source": [
    "s[:-60:]"
   ]
  },
  {
   "cell_type": "code",
   "execution_count": 37,
   "id": "254f3f66-90b6-4952-9fa1-34c3992549af",
   "metadata": {},
   "outputs": [
    {
     "data": {
      "text/plain": [
       "'irakihdahsinjar'"
      ]
     },
     "execution_count": 37,
     "metadata": {},
     "output_type": "execute_result"
    }
   ],
   "source": [
    "s[:-60:-1]"
   ]
  },
  {
   "cell_type": "code",
   "execution_count": 40,
   "id": "e03661a3-fc64-4074-b6d6-87ff6f28d8dd",
   "metadata": {},
   "outputs": [],
   "source": [
    "c = 200\n",
    "# c[0] its not possible as it is whole number"
   ]
  },
  {
   "cell_type": "code",
   "execution_count": 1,
   "id": "4287b758-f3c1-4537-b179-1f94b0c9d1b4",
   "metadata": {},
   "outputs": [],
   "source": [
    "e = \"this is my string class\"   #looing for the function in string\n"
   ]
  },
  {
   "cell_type": "code",
   "execution_count": 2,
   "id": "95e67280-0449-42ef-8629-c4bcea1f5dc9",
   "metadata": {},
   "outputs": [
    {
     "data": {
      "text/plain": [
       "23"
      ]
     },
     "execution_count": 2,
     "metadata": {},
     "output_type": "execute_result"
    }
   ],
   "source": [
    "#finding the length of the string \n",
    "len(e)"
   ]
  },
  {
   "cell_type": "code",
   "execution_count": 3,
   "id": "85c53cd0-2560-4026-b676-90045e2ffdf0",
   "metadata": {},
   "outputs": [
    {
     "data": {
      "text/plain": [
       "3"
      ]
     },
     "execution_count": 3,
     "metadata": {},
     "output_type": "execute_result"
    }
   ],
   "source": [
    "#find s in string\n",
    "e.find('s')  #it gives the index of 1st s"
   ]
  },
  {
   "cell_type": "code",
   "execution_count": 4,
   "id": "b9535793-3bb9-42fb-b61c-f7b9bb46197d",
   "metadata": {},
   "outputs": [
    {
     "data": {
      "text/plain": [
       "2"
      ]
     },
     "execution_count": 4,
     "metadata": {},
     "output_type": "execute_result"
    }
   ],
   "source": [
    "e.find('is')"
   ]
  },
  {
   "cell_type": "code",
   "execution_count": 5,
   "id": "71fd08ba-8010-4da7-bf9d-fbac42952230",
   "metadata": {},
   "outputs": [
    {
     "data": {
      "text/plain": [
       "-1"
      ]
     },
     "execution_count": 5,
     "metadata": {},
     "output_type": "execute_result"
    }
   ],
   "source": [
    "e.find('iS')  #if python cannot find any items or character then it gives -1"
   ]
  },
  {
   "cell_type": "code",
   "execution_count": 8,
   "id": "0fb560cc-86e7-42f6-97d4-f1d7b3350e8a",
   "metadata": {},
   "outputs": [
    {
     "data": {
      "text/plain": [
       "0"
      ]
     },
     "execution_count": 8,
     "metadata": {},
     "output_type": "execute_result"
    }
   ],
   "source": [
    "e.count('e')   #to get all the inbuilt function write e. and press tab all func will be seen"
   ]
  },
  {
   "cell_type": "code",
   "execution_count": 9,
   "id": "1d09ede0-c5b0-479a-8d68-d840929bafeb",
   "metadata": {},
   "outputs": [
    {
     "data": {
      "text/plain": [
       "5"
      ]
     },
     "execution_count": 9,
     "metadata": {},
     "output_type": "execute_result"
    }
   ],
   "source": [
    "e.count('s') "
   ]
  },
  {
   "cell_type": "code",
   "execution_count": 10,
   "id": "4e4fc0ce-00a8-42aa-a4db-5ecaeb42eebe",
   "metadata": {},
   "outputs": [
    {
     "data": {
      "text/plain": [
       "1"
      ]
     },
     "execution_count": 10,
     "metadata": {},
     "output_type": "execute_result"
    }
   ],
   "source": [
    "e.count(\"st\") "
   ]
  },
  {
   "cell_type": "code",
   "execution_count": 11,
   "id": "0ca2503f-1273-48ff-8307-9e49bf2c2b70",
   "metadata": {},
   "outputs": [
    {
     "data": {
      "text/plain": [
       "0"
      ]
     },
     "execution_count": 11,
     "metadata": {},
     "output_type": "execute_result"
    }
   ],
   "source": [
    "e.count(\"z\") "
   ]
  },
  {
   "cell_type": "code",
   "execution_count": 12,
   "id": "a73b7bfc-f9c4-4b37-95ad-4faa07b08e52",
   "metadata": {},
   "outputs": [
    {
     "data": {
      "text/plain": [
       "'THIS IS MY STRING CLASS'"
      ]
     },
     "execution_count": 12,
     "metadata": {},
     "output_type": "execute_result"
    }
   ],
   "source": [
    "e.upper()"
   ]
  },
  {
   "cell_type": "code",
   "execution_count": 13,
   "id": "04c1d489-d3b3-46d7-b439-3a0b65f495bb",
   "metadata": {},
   "outputs": [
    {
     "data": {
      "text/plain": [
       "'This Is My String Class'"
      ]
     },
     "execution_count": 13,
     "metadata": {},
     "output_type": "execute_result"
    }
   ],
   "source": [
    "e.title()"
   ]
  },
  {
   "cell_type": "code",
   "execution_count": 14,
   "id": "e5ccf0da-4688-46a6-b136-c88855f2b977",
   "metadata": {},
   "outputs": [
    {
     "data": {
      "text/plain": [
       "'This is my string class'"
      ]
     },
     "execution_count": 14,
     "metadata": {},
     "output_type": "execute_result"
    }
   ],
   "source": [
    "e.capitalize()"
   ]
  },
  {
   "cell_type": "code",
   "execution_count": 19,
   "id": "42a0b107-17f3-4301-9845-a64a0c120e62",
   "metadata": {},
   "outputs": [
    {
     "data": {
      "text/plain": [
       "'this is my string class a'"
      ]
     },
     "execution_count": 19,
     "metadata": {},
     "output_type": "execute_result"
    }
   ],
   "source": [
    "e + \" a\""
   ]
  },
  {
   "cell_type": "code",
   "execution_count": 20,
   "id": "bb5de190-88ea-4936-a963-5f7d3a4f9e76",
   "metadata": {},
   "outputs": [
    {
     "data": {
      "text/plain": [
       "'this is my string class1'"
      ]
     },
     "execution_count": 20,
     "metadata": {},
     "output_type": "execute_result"
    }
   ],
   "source": [
    "e + str(1)"
   ]
  },
  {
   "cell_type": "code",
   "execution_count": 21,
   "id": "7009be8c-22f4-47a5-9b2d-7f7fe6a53f92",
   "metadata": {},
   "outputs": [
    {
     "data": {
      "text/plain": [
       "'this is my string class1'"
      ]
     },
     "execution_count": 21,
     "metadata": {},
     "output_type": "execute_result"
    }
   ],
   "source": [
    "e + str( 1)"
   ]
  },
  {
   "cell_type": "code",
   "execution_count": 22,
   "id": "f5403dcc-d557-4761-b003-b75a89d37739",
   "metadata": {},
   "outputs": [
    {
     "data": {
      "text/plain": [
       "'this is my string classthis is my string classthis is my string class'"
      ]
     },
     "execution_count": 22,
     "metadata": {},
     "output_type": "execute_result"
    }
   ],
   "source": [
    "e*3"
   ]
  },
  {
   "cell_type": "code",
   "execution_count": 24,
   "id": "a2d6a48d-db77-4e34-907e-96114ff68091",
   "metadata": {},
   "outputs": [
    {
     "data": {
      "text/plain": [
       "\"this is string don't\""
      ]
     },
     "execution_count": 24,
     "metadata": {},
     "output_type": "execute_result"
    }
   ],
   "source": [
    "\"this is string don't\""
   ]
  },
  {
   "cell_type": "code",
   "execution_count": 26,
   "id": "7904c150-d6ee-428c-9b36-4c88b7a9e2e0",
   "metadata": {},
   "outputs": [],
   "source": [
    "#     'don't'    #we will get error"
   ]
  },
  {
   "cell_type": "code",
   "execution_count": 27,
   "id": "787c3136-90d9-4de7-bfdb-e4f622d7ce6b",
   "metadata": {},
   "outputs": [
    {
     "data": {
      "text/plain": [
       "(-1+3j)"
      ]
     },
     "execution_count": 27,
     "metadata": {},
     "output_type": "execute_result"
    }
   ],
   "source": [
    "num1= 23\n",
    "\n",
    "num2= 44\n",
    "\n",
    "num2= 2+3j\n",
    "\n",
    "num1= num2.imag\n",
    "\n",
    "num2-num1"
   ]
  },
  {
   "cell_type": "code",
   "execution_count": 33,
   "id": "550d82a0-9dcd-49ac-9e5c-de74fc365ca9",
   "metadata": {},
   "outputs": [
    {
     "data": {
      "text/plain": [
       "'this \\nthis\\n'"
      ]
     },
     "execution_count": 33,
     "metadata": {},
     "output_type": "execute_result"
    }
   ],
   "source": [
    "\"\"\"this \n",
    "this\n",
    "\"\"\"   #this can be treated as string also"
   ]
  },
  {
   "cell_type": "code",
   "execution_count": 30,
   "id": "567749eb-cea8-477c-a5e8-9a3ff082d9a4",
   "metadata": {},
   "outputs": [
    {
     "data": {
      "text/plain": [
       "True"
      ]
     },
     "execution_count": 30,
     "metadata": {},
     "output_type": "execute_result"
    }
   ],
   "source": [
    "'pwskills'.upper().lower().isalnum()\n"
   ]
  },
  {
   "cell_type": "code",
   "execution_count": 34,
   "id": "761d9fb7-5bc0-4ac2-a10d-b2713e8e8f74",
   "metadata": {},
   "outputs": [
    {
     "data": {
      "text/plain": [
       "'this\\nthis\\nthis'"
      ]
     },
     "execution_count": 34,
     "metadata": {},
     "output_type": "execute_result"
    }
   ],
   "source": [
    "'''this\n",
    "this\n",
    "this''' "
   ]
  },
  {
   "cell_type": "code",
   "execution_count": null,
   "id": "bddae6d6-dca1-4e98-8dc0-3b39d77017eb",
   "metadata": {},
   "outputs": [],
   "source": []
  },
  {
   "cell_type": "code",
   "execution_count": null,
   "id": "f7b9f121-b2cb-419c-a2ed-78d146fc295d",
   "metadata": {},
   "outputs": [],
   "source": []
  }
 ],
 "metadata": {
  "kernelspec": {
   "display_name": "Python 3.8.10 64-bit",
   "language": "python",
   "name": "python3"
  },
  "language_info": {
   "codemirror_mode": {
    "name": "ipython",
    "version": 3
   },
   "file_extension": ".py",
   "mimetype": "text/x-python",
   "name": "python",
   "nbconvert_exporter": "python",
   "pygments_lexer": "ipython3",
   "version": "3.8.10"
  },
  "vscode": {
   "interpreter": {
    "hash": "e7370f93d1d0cde622a1f8e1c04877d8463912d04d973331ad4851f04de6915a"
   }
  }
 },
 "nbformat": 4,
 "nbformat_minor": 5
}
