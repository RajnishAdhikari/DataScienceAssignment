{
 "cells": [
  {
   "cell_type": "code",
   "execution_count": null,
   "metadata": {},
   "outputs": [],
   "source": [
    "# web scrapping assignment\n",
    "\n",
    "# Q1. What is Web Scraping? Why is it Used? Give three areas where Web Scraping is used to get data.\n",
    "\n",
    "Web scraping is the automated process of extracting data from websites. It involves retrieving HTML content from web pages, \n",
    "parsing the content, and extracting the desired information for further use or analysis. Web scraping allows you to gather \n",
    "data from multiple sources on the internet efficiently and in a structured manner.\n",
    "\n",
    "Web scraping is used for various purposes, including:\n",
    "\n",
    "Data Extraction: Web scraping enables the extraction of data from websites that do not provide an official API or structured \n",
    "data feeds. It allows you to access information that is not easily obtainable through other means. You can scrape data such \n",
    "as product details, prices, reviews, news articles, weather data, stock prices, and more.\n",
    "\n",
    "Research and Analysis: Web scraping is valuable for researchers and analysts who need large amounts of data from diverse sources. \n",
    "By scraping data from multiple websites, they can gather information to analyze market trends, track competitors, monitor social \n",
    "media sentiment, conduct sentiment analysis, perform data mining, and gain insights for decision-making.\n",
    "\n",
    "Aggregation and Comparison: Web scraping enables the aggregation of data from different websites to create comprehensive \n",
    "directories, listings, or comparison platforms. For example, travel aggregators scrape data from multiple travel websites \n",
    "to provide users with comparisons of flights, hotels, and prices. Real estate websites scrape property listings from various \n",
    "sources to create comprehensive databases for users.\n",
    "\n",
    "Monitoring and Tracking: Web scraping allows you to monitor websites for changes, updates, or specific information. For \n",
    "instance, price comparison websites can scrape e-commerce sites regularly to track price changes. News aggregators can \n",
    "scrape news websites to collect the latest headlines. Monitoring social media platforms for mentions of a brand or keyword \n",
    "is another common use case.\n",
    "\n",
    "Machine Learning and AI: Web scraping provides valuable data for training machine learning models and building AI systems. \n",
    "By gathering relevant data from the web, such as images, text, or user-generated content, you can train models for image \n",
    "recognition, natural language processing, sentiment analysis, recommendation systems, and more.\n",
    "\n",
    "Web scraping has numerous applications across industries such as e-commerce, finance, marketing, research, journalism, \n",
    "and many others. However, it's essential to be mindful of the legal and ethical aspects of web scraping, respecting website \n",
    "terms of service, and ensuring that you're not violating any regulations or infringing on others' rights."
   ]
  },
  {
   "cell_type": "code",
   "execution_count": null,
   "metadata": {},
   "outputs": [],
   "source": [
    "Q2. What are the different methods used for Web Scraping?\n"
   ]
  },
  {
   "cell_type": "code",
   "execution_count": null,
   "metadata": {},
   "outputs": [],
   "source": [
    "Q3. What is Beautiful Soup? Why is it used?"
   ]
  },
  {
   "cell_type": "code",
   "execution_count": null,
   "metadata": {},
   "outputs": [],
   "source": [
    "Q4. Why is flask used in this Web Scraping project?"
   ]
  },
  {
   "cell_type": "code",
   "execution_count": null,
   "metadata": {},
   "outputs": [],
   "source": [
    "Q5. Write the names of AWS services used in this project. Also, explain the use of each service."
   ]
  }
 ],
 "metadata": {
  "language_info": {
   "name": "python"
  },
  "orig_nbformat": 4
 },
 "nbformat": 4,
 "nbformat_minor": 2
}
