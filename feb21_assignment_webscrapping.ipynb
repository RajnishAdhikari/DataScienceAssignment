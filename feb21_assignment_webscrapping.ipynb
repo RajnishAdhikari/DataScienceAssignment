{
 "cells": [
  {
   "cell_type": "code",
   "execution_count": null,
   "metadata": {},
   "outputs": [],
   "source": [
    "# web scrapping assignment\n",
    "\n",
    "# Q1. What is Web Scraping? Why is it Used? Give three areas where Web Scraping is used to get data.\n",
    "\n",
    "Web scraping is the automated process of extracting data from websites. It involves retrieving HTML content from web pages, \n",
    "parsing the content, and extracting the desired information for further use or analysis. Web scraping allows you to gather \n",
    "data from multiple sources on the internet efficiently and in a structured manner.\n",
    "\n"
   ]
  }
 ],
 "metadata": {
  "language_info": {
   "name": "python"
  },
  "orig_nbformat": 4
 },
 "nbformat": 4,
 "nbformat_minor": 2
}
