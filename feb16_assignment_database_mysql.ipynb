{
 "cells": [
  {
   "cell_type": "code",
   "execution_count": null,
   "metadata": {},
   "outputs": [],
   "source": [
    "# Q1. What is a database? Differentiate between SQL and NoSQL databases.\n",
    "\n",
    "# A database is a structured collection of data that is organized and stored in a manner that allows \n",
    "# for efficient retrieval, management, and manipulation of data. It serves as a central repository for \n",
    "# storing and managing data for various applications or systems.\n",
    "\n",
    "# Differentiate between SQL and NoSQL databases:\n",
    "\n",
    "# SQL Databases:\n",
    "# SQL (Structured Query Language) databases are based on the relational model. They use structured schemas, \n",
    "# tables, and predefined relationships between tables to store and organize data. Some key characteristics \n",
    "# of SQL databases are:\n",
    "\n",
    "# 1. Data Structure: SQL databases use a tabular structure where data is stored in tables consisting of rows \n",
    "# and columns. Each table has a predefined schema that defines the columns and their data types.\n",
    "\n",
    "# 2. Schema and Data Integrity: SQL databases enforce a predefined schema, which ensures data integrity and \n",
    "# consistency. The schema specifies the structure, relationships, and constraints of the data.\n",
    "\n",
    "# 3. Query Language: SQL databases use SQL as the standard language for querying and manipulating data. SQL \n",
    "# provides a rich set of operations to perform complex queries, filtering, sorting, aggregations, and joining \n",
    "# of data.\n",
    "\n",
    "# 4. ACID Compliance: SQL databases generally adhere to ACID (Atomicity, Consistency, Isolation, Durability) \n",
    "# properties, which ensure data consistency and transactional integrity.\n",
    "\n",
    "# Examples of SQL databases include MySQL, PostgreSQL, Oracle Database, and Microsoft SQL Server.\n",
    "\n",
    "# NoSQL Databases:\n",
    "# NoSQL (Not only SQL) databases are non-relational databases that provide a flexible data model and are \n",
    "# designed to handle large volumes of unstructured or semi-structured data. Some key characteristics of \n",
    "# NoSQL databases are:\n",
    "\n",
    "# 1. Flexible Data Model: NoSQL databases can handle various data formats, such as key-value pairs, documents, \n",
    "# graphs, or wide-column stores. They allow for dynamic schemas, enabling easy scalability and adaptability to \n",
    "# changing data structures.\n",
    "\n",
    "# 2. Scalability and Performance: NoSQL databases are highly scalable, designed to handle large-scale distributed \n",
    "# systems. They provide high performance for read and write operations, making them suitable for high-traffic \n",
    "# and big data applications.\n",
    "\n",
    "# 3. No Joins: Unlike SQL databases, NoSQL databases do not support complex joins between tables. Instead, they \n",
    "# denormalize data to avoid expensive join operations.\n",
    "\n",
    "# 4. Eventual Consistency: NoSQL databases often prioritize availability and partition tolerance over strict \n",
    "# consistency. They may offer eventual consistency models, where data updates propagate gradually across the system.\n",
    "\n",
    "# Examples of NoSQL databases include MongoDB, Cassandra, Redis, Couchbase, and Amazon DynamoDB.\n",
    "\n",
    "# In summary, the main difference between SQL and NoSQL databases lies in their data model, structure, query \n",
    "# language, and consistency guarantees. SQL databases offer structured schemas, SQL querying, and ACID compliance, \n",
    "# while NoSQL databases provide flexibility, scalability, and eventual consistency for handling large volumes of \n",
    "# unstructured or semi-structured data.\n"
   ]
  },
  {
   "cell_type": "code",
   "execution_count": null,
   "metadata": {},
   "outputs": [],
   "source": [
    "# Q2. What is DDL? Explain why CREATE, DROP, ALTER, and TRUNCATE are used with an example.\n",
    "\n",
    "# DDL stands for Data Definition Language. It is a subset of SQL (Structured Query Language) that is \n",
    "# used to define and manage the structure of a database and its objects. DDL statements are responsible \n",
    "# for creating, altering, and deleting database objects such as tables, indexes, views, and constraints.\n",
    "\n",
    "# Explanation of CREATE, DROP, ALTER, and TRUNCATE:\n",
    "\n",
    "# 1. CREATE:\n",
    "# The CREATE statement is used to create new database objects, such as tables, indexes, views, or schemas. \n",
    "# Here's an example of creating a table using the CREATE statement:\n",
    "\n",
    "\n",
    "# CREATE TABLE Employees (\n",
    "#     id INT PRIMARY KEY,\n",
    "#     name VARCHAR(100),\n",
    "#     age INT,\n",
    "#     salary DECIMAL(10, 2)\n",
    "# );\n",
    "\n",
    "\n",
    "# This statement creates a table named \"Employees\" with columns for id, name, age, and salary. It specifies \n",
    "# the data types and constraints for each column.\n",
    "\n",
    "# 2. DROP:\n",
    "# The DROP statement is used to remove existing database objects, such as tables, indexes, or views. \n",
    "# Here's an example of dropping a table using the DROP statement:\n",
    "\n",
    "\n",
    "# DROP TABLE Employees;\n",
    "\n",
    "\n",
    "# This statement removes the \"Employees\" table from the database. Caution should be exercised when using \n",
    "# DROP, as it permanently deletes the object and its data.\n",
    "\n",
    "# 3. ALTER:\n",
    "# The ALTER statement is used to modify the structure of an existing database object. It allows you to add, \n",
    "# modify, or delete columns, constraints, or other attributes of a table. Here's an example of altering a \n",
    "# table using the ALTER statement:\n",
    "\n",
    "\n",
    "# ALTER TABLE Employees\n",
    "# ADD COLUMN address VARCHAR(200);\n",
    "\n",
    "\n",
    "# This statement adds a new column named \"address\" to the \"Employees\" table with a VARCHAR data type of length 200.\n",
    "\n",
    "# 4. TRUNCATE:\n",
    "# The TRUNCATE statement is used to remove all data from a table, while keeping the table structure intact. \n",
    "# It is a fast alternative to the DELETE statement when you want to remove all rows from a table. Here's an \n",
    "# example of truncating a table using the TRUNCATE statement:\n",
    "\n",
    "\n",
    "# TRUNCATE TABLE Employees;\n",
    "\n",
    "\n",
    "# This statement removes all rows from the \"Employees\" table, but the table structure and any associated \n",
    "# indexes or constraints remain unchanged.\n",
    "\n",
    "# In summary, CREATE is used to create new database objects, DROP is used to remove existing objects, \n",
    "# ALTER is used to modify the structure of objects, and TRUNCATE is used to remove all data from a table \n",
    "# while keeping the structure intact. These DDL statements are essential for defining and managing the \n",
    "# structure of a database and its objects.\n"
   ]
  },
  {
   "cell_type": "code",
   "execution_count": null,
   "metadata": {},
   "outputs": [],
   "source": [
    "# Q3. What is DML? Explain INSERT, UPDATE, and DELETE with an example."
   ]
  },
  {
   "cell_type": "code",
   "execution_count": null,
   "metadata": {},
   "outputs": [],
   "source": [
    "# Q4. What is DQL? Explain SELECT with an example."
   ]
  },
  {
   "cell_type": "code",
   "execution_count": null,
   "metadata": {},
   "outputs": [],
   "source": [
    "# Q5. Explain Primary Key and Foreign Key."
   ]
  },
  {
   "cell_type": "code",
   "execution_count": null,
   "metadata": {},
   "outputs": [],
   "source": [
    "# Q6. Write a python code to connect MySQL to python. Explain the cursor() and execute() method."
   ]
  },
  {
   "cell_type": "code",
   "execution_count": null,
   "metadata": {},
   "outputs": [],
   "source": [
    "# Q7. Give the order of execution of SQL clauses in an SQL query."
   ]
  }
 ],
 "metadata": {
  "language_info": {
   "name": "python"
  },
  "orig_nbformat": 4
 },
 "nbformat": 4,
 "nbformat_minor": 2
}
