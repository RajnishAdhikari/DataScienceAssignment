{
 "cells": [
  {
   "cell_type": "code",
   "execution_count": null,
   "metadata": {},
   "outputs": [],
   "source": [
    "# Q1. What is a database? Differentiate between SQL and NoSQL databases.\n",
    "\n",
    "# A database is a structured collection of data that is organized and stored in a manner that allows \n",
    "# for efficient retrieval, management, and manipulation of data. It serves as a central repository for \n",
    "# storing and managing data for various applications or systems.\n",
    "\n",
    "# Differentiate between SQL and NoSQL databases:\n",
    "\n",
    "# SQL Databases:\n",
    "# SQL (Structured Query Language) databases are based on the relational model. They use structured schemas, \n",
    "# tables, and predefined relationships between tables to store and organize data. Some key characteristics \n",
    "# of SQL databases are:\n",
    "\n",
    "# 1. Data Structure: SQL databases use a tabular structure where data is stored in tables consisting of rows \n",
    "# and columns. Each table has a predefined schema that defines the columns and their data types.\n",
    "\n",
    "# 2. Schema and Data Integrity: SQL databases enforce a predefined schema, which ensures data integrity and \n",
    "# consistency. The schema specifies the structure, relationships, and constraints of the data.\n",
    "\n",
    "# 3. Query Language: SQL databases use SQL as the standard language for querying and manipulating data. SQL \n",
    "# provides a rich set of operations to perform complex queries, filtering, sorting, aggregations, and joining \n",
    "# of data.\n",
    "\n",
    "# 4. ACID Compliance: SQL databases generally adhere to ACID (Atomicity, Consistency, Isolation, Durability) \n",
    "# properties, which ensure data consistency and transactional integrity.\n",
    "\n",
    "# Examples of SQL databases include MySQL, PostgreSQL, Oracle Database, and Microsoft SQL Server.\n",
    "\n",
    "# NoSQL Databases:\n",
    "# NoSQL (Not only SQL) databases are non-relational databases that provide a flexible data model and are \n",
    "# designed to handle large volumes of unstructured or semi-structured data. Some key characteristics of \n",
    "# NoSQL databases are:\n",
    "\n",
    "# 1. Flexible Data Model: NoSQL databases can handle various data formats, such as key-value pairs, documents, \n",
    "# graphs, or wide-column stores. They allow for dynamic schemas, enabling easy scalability and adaptability to \n",
    "# changing data structures.\n",
    "\n",
    "# 2. Scalability and Performance: NoSQL databases are highly scalable, designed to handle large-scale distributed \n",
    "# systems. They provide high performance for read and write operations, making them suitable for high-traffic \n",
    "# and big data applications.\n",
    "\n",
    "# 3. No Joins: Unlike SQL databases, NoSQL databases do not support complex joins between tables. Instead, they \n",
    "# denormalize data to avoid expensive join operations.\n",
    "\n",
    "# 4. Eventual Consistency: NoSQL databases often prioritize availability and partition tolerance over strict \n",
    "# consistency. They may offer eventual consistency models, where data updates propagate gradually across the system.\n",
    "\n",
    "# Examples of NoSQL databases include MongoDB, Cassandra, Redis, Couchbase, and Amazon DynamoDB.\n",
    "\n",
    "# In summary, the main difference between SQL and NoSQL databases lies in their data model, structure, query \n",
    "# language, and consistency guarantees. SQL databases offer structured schemas, SQL querying, and ACID compliance, \n",
    "# while NoSQL databases provide flexibility, scalability, and eventual consistency for handling large volumes of \n",
    "# unstructured or semi-structured data.\n"
   ]
  },
  {
   "cell_type": "code",
   "execution_count": null,
   "metadata": {},
   "outputs": [],
   "source": [
    "# Q2. What is DDL? Explain why CREATE, DROP, ALTER, and TRUNCATE are used with an example."
   ]
  },
  {
   "cell_type": "code",
   "execution_count": null,
   "metadata": {},
   "outputs": [],
   "source": [
    "# Q3. What is DML? Explain INSERT, UPDATE, and DELETE with an example."
   ]
  },
  {
   "cell_type": "code",
   "execution_count": null,
   "metadata": {},
   "outputs": [],
   "source": [
    "# Q4. What is DQL? Explain SELECT with an example."
   ]
  },
  {
   "cell_type": "code",
   "execution_count": null,
   "metadata": {},
   "outputs": [],
   "source": [
    "# Q5. Explain Primary Key and Foreign Key."
   ]
  },
  {
   "cell_type": "code",
   "execution_count": null,
   "metadata": {},
   "outputs": [],
   "source": [
    "# Q6. Write a python code to connect MySQL to python. Explain the cursor() and execute() method."
   ]
  },
  {
   "cell_type": "code",
   "execution_count": null,
   "metadata": {},
   "outputs": [],
   "source": [
    "# Q7. Give the order of execution of SQL clauses in an SQL query."
   ]
  }
 ],
 "metadata": {
  "language_info": {
   "name": "python"
  },
  "orig_nbformat": 4
 },
 "nbformat": 4,
 "nbformat_minor": 2
}
