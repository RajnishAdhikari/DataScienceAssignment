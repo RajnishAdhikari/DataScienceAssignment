{
 "cells": [
  {
   "cell_type": "code",
   "execution_count": 3,
   "metadata": {},
   "outputs": [
    {
     "name": "stdout",
     "output_type": "stream",
     "text": [
      "Collecting pandas\n",
      "  Downloading pandas-2.0.2-cp38-cp38-manylinux_2_17_x86_64.manylinux2014_x86_64.whl (12.3 MB)\n",
      "\u001b[K     |████████████████████████████████| 12.3 MB 24.7 MB/s eta 0:00:01\n",
      "\u001b[?25hRequirement already satisfied: python-dateutil>=2.8.2 in /config/.local/lib/python3.8/site-packages (from pandas) (2.8.2)\n",
      "Collecting pytz>=2020.1\n",
      "  Downloading pytz-2023.3-py2.py3-none-any.whl (502 kB)\n",
      "\u001b[K     |████████████████████████████████| 502 kB 63.4 MB/s eta 0:00:01\n",
      "\u001b[?25hCollecting numpy>=1.20.3; python_version < \"3.10\"\n",
      "  Downloading numpy-1.24.3-cp38-cp38-manylinux_2_17_x86_64.manylinux2014_x86_64.whl (17.3 MB)\n",
      "\u001b[K     |████████████████████████████████| 17.3 MB 68.3 MB/s eta 0:00:01\n",
      "\u001b[?25hCollecting tzdata>=2022.1\n",
      "  Downloading tzdata-2023.3-py2.py3-none-any.whl (341 kB)\n",
      "\u001b[K     |████████████████████████████████| 341 kB 67.4 MB/s eta 0:00:01\n",
      "\u001b[?25hRequirement already satisfied: six>=1.5 in /config/.local/lib/python3.8/site-packages (from python-dateutil>=2.8.2->pandas) (1.16.0)\n",
      "Installing collected packages: pytz, numpy, tzdata, pandas\n",
      "\u001b[33m  WARNING: The scripts f2py, f2py3 and f2py3.8 are installed in '/config/.local/bin' which is not on PATH.\n",
      "  Consider adding this directory to PATH or, if you prefer to suppress this warning, use --no-warn-script-location.\u001b[0m\n",
      "Successfully installed numpy-1.24.3 pandas-2.0.2 pytz-2023.3 tzdata-2023.3\n",
      "0     4\n",
      "1     8\n",
      "2    15\n",
      "3    16\n",
      "4    23\n",
      "5    42\n",
      "dtype: int64\n"
     ]
    }
   ],
   "source": [
    "# Q1. Create a Pandas Series that contains the following data: 4, 8, 15, 16, 23, and 42. Then, print the series.\n",
    "!pip install pandas\n",
    "import pandas as pd\n",
    "\n",
    "data = [4, 8, 15, 16, 23, 42]\n",
    "\n",
    "series = pd.Series(data)\n",
    "\n",
    "print(series)\n",
    "\n"
   ]
  },
  {
   "cell_type": "code",
   "execution_count": 4,
   "metadata": {},
   "outputs": [
    {
     "name": "stdout",
     "output_type": "stream",
     "text": [
      "0     1\n",
      "1     2\n",
      "2     3\n",
      "3     4\n",
      "4     5\n",
      "5     6\n",
      "6     7\n",
      "7     8\n",
      "8     9\n",
      "9    10\n",
      "dtype: int64\n"
     ]
    }
   ],
   "source": [
    "# Q2. Create a variable of list type containing 10 elements in it, and apply pandas.Series function on the\n",
    "# variable print it.\n",
    "\n",
    "\n",
    "list_of_elements = [1, 2, 3, 4, 5, 6, 7, 8, 9, 10]\n",
    "\n",
    "series = pd.Series(list_of_elements)\n",
    "\n",
    "print(series)"
   ]
  },
  {
   "cell_type": "code",
   "execution_count": 5,
   "metadata": {},
   "outputs": [
    {
     "name": "stdout",
     "output_type": "stream",
     "text": [
      "     name  age  gender\n",
      "0   Alice   25  Female\n",
      "1     Bob   30    Male\n",
      "2  Claire   27  Female\n"
     ]
    }
   ],
   "source": [
    "# Q3. Create a Pandas DataFrame that contains the following data:\n",
    "\n",
    "# Then, print the DataFrame.\n",
    "\n",
    "data = {'name': ['Alice', 'Bob', 'Claire'],\n",
    "        'age': [25, 30, 27],\n",
    "        'gender': ['Female', 'Male', 'Female']}\n",
    "\n",
    "df = pd.DataFrame(data)\n",
    "\n",
    "print(df)"
   ]
  },
  {
   "cell_type": "code",
   "execution_count": null,
   "metadata": {},
   "outputs": [],
   "source": [
    "# Q4. What is ‘DataFrame’ in pandas and how is it different from pandas.series? Explain with an example.\n",
    "\n",
    "# A DataFrame in pandas is a 2-dimensional data structure with labeled axes (rows and columns). It is similar to a table in a \n",
    "# spreadsheet or a SQL table. A Series is a 1-dimensional data structure with labeled index. It is similar to a column in a \n",
    "# spreadsheet or a SQL table.\n",
    "\n",
    "\n",
    "# The main difference between a DataFrame and a Series is that a DataFrame has two axes, while a Series has only one axis. This means \n",
    "# that a DataFrame can store data in multiple columns, while a Series can only store data in a single column.\n",
    "\n",
    "data = {'name': ['Alice', 'Bob', 'Claire'],\n",
    "        'age': [25, 30, 27]}\n",
    "\n",
    "df = pd.DataFrame(data)\n",
    "\n",
    "print(df)\n",
    "\n",
    "\n",
    "\n",
    "\n",
    "\n",
    "\n",
    "data = ['Alice', 'Bob', 'Claire']\n",
    "\n",
    "series = pd.Series(data)\n",
    "\n",
    "print(series)\n",
    "\n",
    "\n",
    "\n",
    "# DataFrames and Series are both powerful data structures that can be used to store and manipulate data. The best data structure for a \n",
    "# particular task will depend on the specific needs of the task.\n",
    "\n"
   ]
  },
  {
   "cell_type": "code",
   "execution_count": null,
   "metadata": {},
   "outputs": [],
   "source": [
    "# Q5. What are some common functions you can use to manipulate data in a Pandas DataFrame? Can\n",
    "# you give an example of when you might use one of these functions?\n",
    "\n",
    "\n",
    "Pandas provides a wide range of functions to manipulate data in a DataFrame. Here are some common functions along with \n",
    "an example of when you might use them:\n",
    "\n",
    "1. `head()` and `tail()`: These functions allow you to view the first few rows (`head()`) or the last few rows (`tail()`) of a \n",
    "DataFrame. They are useful to quickly inspect the structure and content of your data.\n",
    "\n",
    "\n",
    "import pandas as pd\n",
    "\n",
    "# Read a CSV file into a DataFrame\n",
    "df = pd.read_csv('data.csv')\n",
    "\n",
    "# View the first 5 rows\n",
    "df.head()\n",
    "\n",
    "\n",
    "2. `shape`: This function returns the dimensions (rows and columns) of a DataFrame. It can be used to check the size of the data.\n",
    "\n",
    "\n",
    "import pandas as pd\n",
    "\n",
    "# Read a CSV file into a DataFrame\n",
    "df = pd.read_csv('data.csv')\n",
    "\n",
    "# Get the dimensions of the DataFrame\n",
    "rows, columns = df.shape\n",
    "print(f\"The DataFrame has {rows} rows and {columns} columns.\")\n",
    "\n",
    "3. `describe()`: This function generates descriptive statistics of the DataFrame, including count, mean, standard deviation, minimum, \n",
    "maximum, and quartile values. It provides an overview of the data's central tendency and dispersion.\n",
    "\n",
    "\n",
    "import pandas as pd\n",
    "\n",
    "# Read a CSV file into a DataFrame\n",
    "df = pd.read_csv('data.csv')\n",
    "\n",
    "# Generate descriptive statistics\n",
    "description = df.describe()\n",
    "print(description)\n",
    "\n",
    "\n",
    "4. `sort_values()`: This function allows you to sort the DataFrame by one or more columns. It's useful when you want to arrange \n",
    "the data in a specific order.\n",
    "\n",
    "\n",
    "import pandas as pd\n",
    "\n",
    "# Read a CSV file into a DataFrame\n",
    "df = pd.read_csv('data.csv')\n",
    "\n",
    "# Sort the DataFrame by the 'age' column in ascending order\n",
    "df_sorted = df.sort_values('age')\n",
    "print(df_sorted)\n",
    "\n",
    "\n",
    "5. `groupby()`: This function is used to group data based on one or more columns and perform operations on those groups. \n",
    "It's commonly used for data aggregation and summarization.\n",
    "\n",
    "\n",
    "import pandas as pd\n",
    "\n",
    "# Read a CSV file into a DataFrame\n",
    "df = pd.read_csv('data.csv')\n",
    "\n",
    "# Group the DataFrame by the 'category' column and calculate the average of 'price' for each group\n",
    "grouped = df.groupby('category')['price'].mean()\n",
    "print(grouped)\n",
    "\n",
    "\n",
    "These are just a few examples of the many functions available in Pandas for manipulating data in a DataFrame. Pandas provides \n",
    "a rich set of functions for filtering, selecting, transforming, merging, and analyzing data, making it a powerful tool for data \n",
    "manipulation and analysis tasks.\n",
    "\n"
   ]
  },
  {
   "cell_type": "code",
   "execution_count": null,
   "metadata": {},
   "outputs": [],
   "source": [
    "# Q6. Which of the following is mutable in nature Series, DataFrame, Panel?\n",
    "\n"
   ]
  },
  {
   "cell_type": "code",
   "execution_count": null,
   "metadata": {},
   "outputs": [],
   "source": []
  }
 ],
 "metadata": {
  "kernelspec": {
   "display_name": "Python 3.8.10 64-bit",
   "language": "python",
   "name": "python3"
  },
  "language_info": {
   "codemirror_mode": {
    "name": "ipython",
    "version": 3
   },
   "file_extension": ".py",
   "mimetype": "text/x-python",
   "name": "python",
   "nbconvert_exporter": "python",
   "pygments_lexer": "ipython3",
   "version": "3.8.10"
  },
  "orig_nbformat": 4,
  "vscode": {
   "interpreter": {
    "hash": "e7370f93d1d0cde622a1f8e1c04877d8463912d04d973331ad4851f04de6915a"
   }
  }
 },
 "nbformat": 4,
 "nbformat_minor": 2
}
