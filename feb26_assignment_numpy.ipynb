{
 "cells": [
  {
   "cell_type": "code",
   "execution_count": null,
   "metadata": {},
   "outputs": [],
   "source": [
    "Consider the below code to answer further questions:\n",
    "import numpy as np\n",
    "list_ = [ ‘1’ , ’2’ , ‘3’ , ‘4’ , ‘5’ ]\n",
    "array_list = np.array(object = list_)\n",
    "\n",
    "Q1. Is there any difference in the data type of variables list_ and array_list? If there is then write a code\n",
    "to print the data types of both the variables.\n",
    "\n",
    "\n",
    "Yes, there is a difference in the data types of variables list_ and array_list.\n",
    "\n",
    "The variable list_ is a Python list, which can hold elements of different data types. In this case, it contains strings.\n",
    "\n",
    "The variable array_list is a NumPy array created using the np.array() function. When an object is passed to np.array(), NumPy \n",
    "automatically infers the data type of the elements in the array based on the data type of the input object. In this case, since \n",
    "the input object (list_) contains strings, the data type of array_list would be inferred as string.\n",
    "\n",
    "\n",
    "import numpy as np\n",
    "\n",
    "list_ = ['1', '2', '3', '4', '5']\n",
    "array_list = np.array(object=list_)\n",
    "\n",
    "print(\"Data type of list_:\", type(list_))\n",
    "print(\"Data type of array_list:\", type(array_list))\n",
    "\n",
    "\n",
    "\n",
    "The output will show that the data type of list_ is a Python list (<class 'list'>), and the data type of \n",
    "array_list is a NumPy array (<class 'numpy.ndarray'>)"
   ]
  },
  {
   "cell_type": "code",
   "execution_count": null,
   "metadata": {},
   "outputs": [],
   "source": [
    "Q2. Write a code to print the data type of each and every element of both the variables list_ and\n",
    "arra_list.\n",
    "\n",
    "# we can use for loop \n",
    "\n",
    "list_ = ['1', '2', '3', '4', '5']\n",
    "array_list = np.array(object=list_)\n",
    "\n",
    "\n",
    "\n",
    "print(\"Data types of elements in list_:\")\n",
    "for element in list_:\n",
    "    print(type(element))\n",
    "\n",
    "\n",
    "\n",
    "print(\"\\nData types of elements in array_list:\")\n",
    "for element in array_list:\n",
    "    print(type(element))\n",
    "\n",
    "\n",
    "The code will iterate over each element in list_ and array_list and print the data type using the type() function. \n",
    "In the case of list_, the data type of each element is <class 'str'> because it is a Python list of strings. For array_list, \n",
    "the data type of each element is <class 'numpy.str_'> because array_list is a NumPy array, and NumPy represents strings as numpy.str_."
   ]
  },
  {
   "cell_type": "code",
   "execution_count": null,
   "metadata": {},
   "outputs": [],
   "source": [
    "Q3. Considering the following changes in the variable, array_list:\n",
    "array_list = np.array(object = list_, dtype = int)\n",
    "\n",
    "Will there be any difference in the data type of the elements present in both the variables, list_ and\n",
    "arra_list? If so then print the data types of each and every element present in both the variables, list_\n",
    "and arra_list.\n",
    "\n",
    "#finding the changes after changing variabel array_list\n",
    "\n",
    "Yes, there will be a difference in the data types of the elements present in list_ and array_list after the change.\n",
    "\n",
    "In the code array_list = np.array(object=list_, dtype=int), we explicitly specify the data type as int while creating the NumPy array. \n",
    "This means that the elements in array_list will be converted to integers, whereas the elements in list_ remain as strings.\n",
    "\n",
    "\n",
    "To print the data types of each element in both list_ and array_list, you can use the type() function in a loop. Here's the code:\n",
    "\n",
    "\n",
    "list_ = ['1', '2', '3', '4', '5']\n",
    "array_list = np.array(object=list_, dtype=int)\n",
    "\n",
    "\n",
    "\n",
    "print(\"Data types of elements in list_:\")\n",
    "for element in list_:\n",
    "    print(type(element))\n",
    "\n",
    "\n",
    "\n",
    "print(\"\\nData types of elements in array_list:\")\n",
    "for element in array_list:\n",
    "    print(type(element))\n",
    "\n",
    "\n",
    "\n",
    "As we can see from the output, the elements in list_ still have a data type of <class 'str'> (strings), while the elements in \n",
    "array_list have a data type of <class 'numpy.int64'> (integers). This is because we explicitly specified the dtype parameter as \n",
    "int when creating the NumPy array."
   ]
  },
  {
   "cell_type": "code",
   "execution_count": null,
   "metadata": {},
   "outputs": [],
   "source": [
    "# Consider the below code to answer further questions:\n",
    "# import numpy as np\n",
    "# num_list = [ [ 1 , 2 , 3 ] , [ 4 , 5 , 6 ] ]\n",
    "# num_array = np.array(object = num_list)\n",
    "# Q4. Write a code to find the following characteristics of variable, num_array:\n",
    "# (i) shape\n",
    "# (ii) size"
   ]
  },
  {
   "cell_type": "code",
   "execution_count": 4,
   "metadata": {},
   "outputs": [
    {
     "name": "stdout",
     "output_type": "stream",
     "text": [
      "Shape: (2, 3)\n",
      "Size: 6\n"
     ]
    }
   ],
   "source": [
    "# given code is \n",
    "# !pip install numpy\n",
    "import numpy as np\n",
    "\n",
    "num_list = [[1, 2, 3], [4, 5, 6]]\n",
    "num_array = np.array(object=num_list)\n",
    "\n",
    "# (i) finding the shape\n",
    "shape = num_array.shape\n",
    "print(\"Shape:\", shape)\n",
    "\n",
    "\n",
    "# (ii) finding the size\n",
    "size = num_array.size\n",
    "print(\"Size:\", size)"
   ]
  },
  {
   "cell_type": "code",
   "execution_count": null,
   "metadata": {},
   "outputs": [],
   "source": []
  }
 ],
 "metadata": {
  "kernelspec": {
   "display_name": "Python 3.8.10 64-bit",
   "language": "python",
   "name": "python3"
  },
  "language_info": {
   "codemirror_mode": {
    "name": "ipython",
    "version": 3
   },
   "file_extension": ".py",
   "mimetype": "text/x-python",
   "name": "python",
   "nbconvert_exporter": "python",
   "pygments_lexer": "ipython3",
   "version": "3.8.10"
  },
  "orig_nbformat": 4,
  "vscode": {
   "interpreter": {
    "hash": "e7370f93d1d0cde622a1f8e1c04877d8463912d04d973331ad4851f04de6915a"
   }
  }
 },
 "nbformat": 4,
 "nbformat_minor": 2
}
