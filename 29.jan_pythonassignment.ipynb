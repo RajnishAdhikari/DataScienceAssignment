{
 "cells": [
  {
   "cell_type": "code",
   "execution_count": 17,
   "id": "ffdd01f4-58c5-492f-8d72-f89c6493ab16",
   "metadata": {},
   "outputs": [
    {
     "data": {
      "text/plain": [
       "'q1.Who developed python\\n    Guido van Rossum\\n'"
      ]
     },
     "execution_count": 17,
     "metadata": {},
     "output_type": "execute_result"
    }
   ],
   "source": [
    "\"\"\"q1.Who developed python\n",
    "    Guido van Rossum\n",
    "\"\"\""
   ]
  },
  {
   "cell_type": "code",
   "execution_count": 18,
   "id": "f71a9f12-c802-47a4-b975-0baac4e5a25c",
   "metadata": {},
   "outputs": [
    {
     "data": {
      "text/plain": [
       "'\\nq2. Which type of programming does python support?\\n    OOP\\n'"
      ]
     },
     "execution_count": 18,
     "metadata": {},
     "output_type": "execute_result"
    }
   ],
   "source": [
    "\"\"\"\n",
    "q2. Which type of programming does python support?\n",
    "    OOP\n",
    "\"\"\""
   ]
  },
  {
   "cell_type": "code",
   "execution_count": 19,
   "id": "e5de7247-6275-4ebf-89c6-15b5b0ba017f",
   "metadata": {},
   "outputs": [
    {
     "data": {
      "text/plain": [
       "'\\nq3. Is python case sensitive when dealing with identifiers?\\n    Yes\\n'"
      ]
     },
     "execution_count": 19,
     "metadata": {},
     "output_type": "execute_result"
    }
   ],
   "source": [
    "\"\"\"\n",
    "q3. Is python case sensitive when dealing with identifiers?\n",
    "    Yes\n",
    "\"\"\""
   ]
  },
  {
   "cell_type": "code",
   "execution_count": 20,
   "id": "604f56ae-5315-4923-83e8-143a033bd994",
   "metadata": {},
   "outputs": [
    {
     "data": {
      "text/plain": [
       "'\\nq4. Extension of python file?\\n    .py\\n'"
      ]
     },
     "execution_count": 20,
     "metadata": {},
     "output_type": "execute_result"
    }
   ],
   "source": [
    "\"\"\"\n",
    "q4. Extension of python file?\n",
    "    .py\n",
    "\"\"\""
   ]
  },
  {
   "cell_type": "code",
   "execution_count": 21,
   "id": "0fbad58c-d6a5-48d1-800c-db870f715dc2",
   "metadata": {},
   "outputs": [
    {
     "data": {
      "text/plain": [
       "'\\nq5. Is python code compiled or interpreted?\\n    interpreted\\n'"
      ]
     },
     "execution_count": 21,
     "metadata": {},
     "output_type": "execute_result"
    }
   ],
   "source": [
    "\"\"\"\n",
    "q5. Is python code compiled or interpreted?\n",
    "    interpreted\n",
    "\"\"\""
   ]
  },
  {
   "cell_type": "code",
   "execution_count": 22,
   "id": "c2d24ed6-9960-426e-9509-ba07b686259c",
   "metadata": {},
   "outputs": [
    {
     "data": {
      "text/plain": [
       "'\\nq6. Name a few blocks of code used to define in Python Language?\\n    Function\\n    Classes\\n    Statement\\n    Loops\\n'"
      ]
     },
     "execution_count": 22,
     "metadata": {},
     "output_type": "execute_result"
    }
   ],
   "source": [
    "\"\"\"\n",
    "q6. Name a few blocks of code used to define in Python Language?\n",
    "    Function\n",
    "    Classes\n",
    "    Statement\n",
    "    Loops\n",
    "\"\"\""
   ]
  },
  {
   "cell_type": "code",
   "execution_count": 23,
   "id": "7295a29d-62dc-4824-bcd7-56aea2b7095b",
   "metadata": {},
   "outputs": [
    {
     "data": {
      "text/plain": [
       "'\\nq7. State a character used to give single line comment in python?\\n    # \\n'"
      ]
     },
     "execution_count": 23,
     "metadata": {},
     "output_type": "execute_result"
    }
   ],
   "source": [
    "\"\"\"\n",
    "q7. State a character used to give single line comment in python?\n",
    "    # \n",
    "\"\"\""
   ]
  },
  {
   "cell_type": "code",
   "execution_count": 24,
   "id": "456f4929-3fe4-416f-a09f-570d95ad6a54",
   "metadata": {},
   "outputs": [
    {
     "data": {
      "text/plain": [
       "'\\nq8. Mention functions which can help us to find the version of python that we are currently working on.\\n    py --version\\n'"
      ]
     },
     "execution_count": 24,
     "metadata": {},
     "output_type": "execute_result"
    }
   ],
   "source": [
    "\"\"\"\n",
    "q8. Mention functions which can help us to find the version of python that we are currently working on.\n",
    "    py --version\n",
    "\"\"\""
   ]
  },
  {
   "cell_type": "code",
   "execution_count": 25,
   "id": "65d50b89-375e-45f6-b6d3-22c1f46f62ca",
   "metadata": {},
   "outputs": [
    {
     "data": {
      "text/plain": [
       "'\\nq9. Python supports the creation of anonymous functions at runtime, using a constructor called....\\n    lambda\\n'"
      ]
     },
     "execution_count": 25,
     "metadata": {},
     "output_type": "execute_result"
    }
   ],
   "source": [
    "\"\"\"\n",
    "q9. Python supports the creation of anonymous functions at runtime, using a constructor called....\n",
    "    lambda\n",
    "\"\"\""
   ]
  },
  {
   "cell_type": "code",
   "execution_count": 26,
   "id": "42ba1e37-5025-4cb7-942c-d3aa3ab02468",
   "metadata": {},
   "outputs": [
    {
     "data": {
      "text/plain": [
       "'\\nq10. pip stands for ...     Pip Installs Packages\\n'"
      ]
     },
     "execution_count": 26,
     "metadata": {},
     "output_type": "execute_result"
    }
   ],
   "source": [
    "\"\"\"\n",
    "q10. pip stands for ...     Pip Installs Packages\n",
    "\"\"\""
   ]
  },
  {
   "cell_type": "code",
   "execution_count": 27,
   "id": "4d6415bd-6129-4058-ad51-e2cc93e74a19",
   "metadata": {},
   "outputs": [
    {
     "data": {
      "text/plain": [
       "'\\nq11. Some of the built-in function in python are\\n    print()\\n    len()\\n    sum()\\n    range()\\n    sorted()\\n'"
      ]
     },
     "execution_count": 27,
     "metadata": {},
     "output_type": "execute_result"
    }
   ],
   "source": [
    "\"\"\"\n",
    "q11. Some of the built-in function in python are\n",
    "    print()\n",
    "    len()\n",
    "    sum()\n",
    "    range()\n",
    "    sorted()\n",
    "\"\"\""
   ]
  },
  {
   "cell_type": "code",
   "execution_count": 28,
   "id": "52f80bca-075b-4633-90b8-c2e0f018c2ee",
   "metadata": {},
   "outputs": [
    {
     "data": {
      "text/plain": [
       "'\\nq12. What is the maximum possible length of an identifier in python?\\n    79 character \\n'"
      ]
     },
     "execution_count": 28,
     "metadata": {},
     "output_type": "execute_result"
    }
   ],
   "source": [
    "\"\"\"\n",
    "q12. What is the maximum possible length of an identifier in python?\n",
    "    79 character \n",
    "\"\"\""
   ]
  },
  {
   "cell_type": "code",
   "execution_count": 29,
   "id": "7a7058ca-aaa9-4e5f-87de-15be2a007e23",
   "metadata": {},
   "outputs": [
    {
     "data": {
      "text/plain": [
       "'\\nq13. Benefits of using python\\n    Easy to learn and read\\n    Versatile and powerful\\n    Large community and ecosystem\\n    Cross-platform compatibility\\n    Integration and interoperabilit\\n'"
      ]
     },
     "execution_count": 29,
     "metadata": {},
     "output_type": "execute_result"
    }
   ],
   "source": [
    "\"\"\"\n",
    "q13. Benefits of using python\n",
    "    Easy to learn and read\n",
    "    Versatile and powerful\n",
    "    Large community and ecosystem\n",
    "    Cross-platform compatibility\n",
    "    Integration and interoperabilit\n",
    "\"\"\""
   ]
  },
  {
   "cell_type": "code",
   "execution_count": 30,
   "id": "29e0f3cf-7cce-49ef-af82-5f11bfe31c98",
   "metadata": {},
   "outputs": [
    {
     "data": {
      "text/plain": [
       "'\\nq14. How is memory managed in python?\\n    automatically handled by the Python interpreter\\n'"
      ]
     },
     "execution_count": 30,
     "metadata": {},
     "output_type": "execute_result"
    }
   ],
   "source": [
    "\"\"\"\n",
    "q14. How is memory managed in python?\n",
    "    automatically handled by the Python interpreter\n",
    "\"\"\""
   ]
  },
  {
   "cell_type": "code",
   "execution_count": 31,
   "id": "a4b4170d-c49f-4faa-9903-6b46a352cd0b",
   "metadata": {},
   "outputs": [
    {
     "data": {
      "text/plain": [
       "'\\nq15. How to install python on windows and set path variables?\\n    Download the latest version of Python from the official website.\\n    Run the setup file and select the option to add Python to PATH.\\n    Verify the installation by running python in Command Prompt.\\n    If necessary, manually update the PATH variable to include the location of the Python executable.\\n'"
      ]
     },
     "execution_count": 31,
     "metadata": {},
     "output_type": "execute_result"
    }
   ],
   "source": [
    "\"\"\"\n",
    "q15. How to install python on windows and set path variables?\n",
    "    Download the latest version of Python from the official website.\n",
    "    Run the setup file and select the option to add Python to PATH.\n",
    "    Verify the installation by running python in Command Prompt.\n",
    "    If necessary, manually update the PATH variable to include the location of the Python executable.\n",
    "\"\"\""
   ]
  },
  {
   "cell_type": "code",
   "execution_count": 32,
   "id": "41237eeb-4a07-4ba6-ad61-30a89494c0c0",
   "metadata": {},
   "outputs": [
    {
     "data": {
      "text/plain": [
       "'\\nq6. Is indentation required in python?\\n        Yes\\n'"
      ]
     },
     "execution_count": 32,
     "metadata": {},
     "output_type": "execute_result"
    }
   ],
   "source": [
    "\"\"\"\n",
    "q6. Is indentation required in python?\n",
    "        Yes\n",
    "\"\"\""
   ]
  },
  {
   "cell_type": "code",
   "execution_count": null,
   "id": "da26311f-524b-4ca8-ba4f-331a1adf4b82",
   "metadata": {},
   "outputs": [],
   "source": []
  }
 ],
 "metadata": {
  "kernelspec": {
   "display_name": "Python 3 (ipykernel)",
   "language": "python",
   "name": "python3"
  },
  "language_info": {
   "codemirror_mode": {
    "name": "ipython",
    "version": 3
   },
   "file_extension": ".py",
   "mimetype": "text/x-python",
   "name": "python",
   "nbconvert_exporter": "python",
   "pygments_lexer": "ipython3",
   "version": "3.10.8"
  }
 },
 "nbformat": 4,
 "nbformat_minor": 5
}
