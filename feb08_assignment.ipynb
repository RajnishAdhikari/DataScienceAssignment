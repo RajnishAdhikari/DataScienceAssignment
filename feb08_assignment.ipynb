{
 "cells": [
  {
   "cell_type": "code",
   "execution_count": 1,
   "metadata": {},
   "outputs": [
    {
     "name": "stdout",
     "output_type": "stream",
     "text": [
      "Starting car...\n",
      "Starting bike...\n"
     ]
    },
    {
     "data": {
      "text/plain": [
       "' \\nIn this example, we define an abstract class Vehicle that defines an abstract method start(). \\nThis method is left without any implementation details as it is up to the subclasses to define \\nthe exact behavior.\\n\\nThen we define two concrete classes Car and Bike which inherit from the Vehicle class and \\nimplement the start() method. The Car class defines the behavior for starting a car, while \\nthe Bike class defines the behavior for starting a bike.\\n\\nFinally, we create objects of both Car and Bike and call the start() method on each object. \\nThe exact implementation details of how the car or bike is started are abstracted away, and \\nwe only need to interact with the simple interface provided by the Vehicle class\\n'"
      ]
     },
     "execution_count": 1,
     "metadata": {},
     "output_type": "execute_result"
    }
   ],
   "source": [
    "# Q1. What is Abstraction in OOps? Explain with an example.\n",
    "''' \n",
    "Abstraction in object-oriented programming refers to the process of hiding the complexity of a system and \n",
    "showing only the necessary details to the user. In other words, abstraction allows you to focus on the \n",
    "essential features of an object and ignore the irrelevant details.\n",
    "\n",
    "An example of abstraction can be seen in a car. When you drive a car, you do not need to know how the \n",
    "engine works or how the transmission shifts gears. You only need to know how to operate the pedals, \n",
    "steering wheel, and gear selector. The car's internal mechanisms are abstracted away, and you are only \n",
    "presented with the necessary controls to operate the vehicle.\n",
    "\n",
    "In programming, abstraction is achieved through the use of classes and interfaces. A class is a blueprint \n",
    "for creating objects that have certain properties and behaviors, while an interface defines a set of methods \n",
    "that must be implemented by a class. By using classes and interfaces, you can abstract away the implementation \n",
    "details of a system and provide a simple, easy-to-use interface for the user.\n",
    "'''\n",
    "\n",
    "from abc import ABC, abstractmethod\n",
    "\n",
    "class Vehicle(ABC):\n",
    "    @abstractmethod\n",
    "    def start(self):\n",
    "        pass\n",
    "\n",
    "class Car(Vehicle):\n",
    "    def start(self):\n",
    "        print(\"Starting car...\")\n",
    "\n",
    "class Bike(Vehicle):\n",
    "    def start(self):\n",
    "        print(\"Starting bike...\")\n",
    "\n",
    "# Create objects of Car and Bike\n",
    "car = Car()\n",
    "bike = Bike()\n",
    "\n",
    "# Call the start() method on each object\n",
    "car.start()  # Output: Starting car...\n",
    "bike.start()  # Output: Starting bike...\n",
    "\n",
    "\n",
    "\n",
    "''' \n",
    "In this example, we define an abstract class Vehicle that defines an abstract method start(). \n",
    "This method is left without any implementation details as it is up to the subclasses to define \n",
    "the exact behavior.\n",
    "\n",
    "Then we define two concrete classes Car and Bike which inherit from the Vehicle class and \n",
    "implement the start() method. The Car class defines the behavior for starting a car, while \n",
    "the Bike class defines the behavior for starting a bike.\n",
    "\n",
    "Finally, we create objects of both Car and Bike and call the start() method on each object. \n",
    "The exact implementation details of how the car or bike is started are abstracted away, and \n",
    "we only need to interact with the simple interface provided by the Vehicle class\n",
    "'''"
   ]
  },
  {
   "cell_type": "code",
   "execution_count": 2,
   "metadata": {},
   "outputs": [
    {
     "name": "stdout",
     "output_type": "stream",
     "text": [
      "Account balance: 1000\n",
      "Account number: 123456\n",
      "Account balance: 1000\n",
      "Account balance: 1500\n",
      "Insufficient funds\n"
     ]
    },
    {
     "data": {
      "text/plain": [
       "' \\nIn this example, we define a `BankAccount` class that has two properties: `account_number` and `__balance`. \\nThe `__balance` property is marked as private using a double underscore, which means that it cannot be \\naccessed directly from outside the class.\\n\\nThe `BankAccount` class also has three methods: `deposit()`, `withdraw()`, and `get_balance()`. \\nThe `deposit()` and `withdraw()` methods allow us to modify the `__balance` property in a controlled \\nway, while the `get_balance()` method only allows us to view the current balance.\\n\\nAbstraction is demonstrated by the fact that we only need to interact with the `get_balance()` \\nmethod to view the current balance. The implementation details of how the balance is stored and \\ncalculated are abstracted away from us.\\n\\nEncapsulation is demonstrated by the fact that we cannot modify the `__balance` property directly \\nfrom outside the class. Instead, we can only modify it using the `deposit()` and `withdraw()` methods, \\nwhich ensure that the internal state of the object is protected.\\n'"
      ]
     },
     "execution_count": 2,
     "metadata": {},
     "output_type": "execute_result"
    }
   ],
   "source": [
    "# Q2. Differentiate between Abstraction and Encapsulation. Explain with an example.\n",
    "''' \n",
    "Abstraction and Encapsulation are two important concepts in object-oriented programming, but they have \n",
    "different meanings and purposes.\n",
    "\n",
    "Abstraction is the process of hiding the complexity of a system and showing only the necessary details to \n",
    "the user. It allows you to focus on the essential features of an object and ignore the irrelevant details. \n",
    "Abstraction is achieved through the use of classes and interfaces, where the implementation details are \n",
    "abstracted away and only the necessary interface is exposed to the user.\n",
    "\n",
    "Encapsulation, on the other hand, is the practice of hiding the internal details of an object from the \n",
    "outside world and only exposing a public interface that can be used to interact with the object. It \n",
    "ensures that the object's internal state is protected and can only be modified through controlled methods.\n",
    "\n",
    "Here's an example in Python to demonstrate the difference between Abstraction and Encapsulation:\n",
    "'''\n",
    "\n",
    "class BankAccount:\n",
    "    def __init__(self, account_number, balance):\n",
    "        self.account_number = account_number\n",
    "        self.__balance = balance\n",
    "\n",
    "    def deposit(self, amount):\n",
    "        self.__balance += amount\n",
    "\n",
    "    def withdraw(self, amount):\n",
    "        if amount > self.__balance:\n",
    "            print(\"Insufficient funds\")\n",
    "        else:\n",
    "            self.__balance -= amount\n",
    "\n",
    "    def get_balance(self):\n",
    "        return self.__balance\n",
    "\n",
    "account = BankAccount(\"123456\", 1000)\n",
    "\n",
    "# Abstraction - Using only the necessary details\n",
    "print(\"Account balance:\", account.get_balance())  # Output: Account balance: 1000\n",
    "\n",
    "# Encapsulation - Hiding internal details\n",
    "print(\"Account number:\", account.account_number)  # Output: Account number: 123456\n",
    "account.__balance = 2000  # This will not change the actual balance\n",
    "print(\"Account balance:\", account.get_balance())  # Output: Account balance: 1000\n",
    "account.deposit(500)\n",
    "print(\"Account balance:\", account.get_balance())  # Output: Account balance: 1500\n",
    "account.withdraw(2000)  # Output: Insufficient funds\n",
    "\n",
    "\n",
    "''' \n",
    "In this example, we define a `BankAccount` class that has two properties: `account_number` and `__balance`. \n",
    "The `__balance` property is marked as private using a double underscore, which means that it cannot be \n",
    "accessed directly from outside the class.\n",
    "\n",
    "The `BankAccount` class also has three methods: `deposit()`, `withdraw()`, and `get_balance()`. \n",
    "The `deposit()` and `withdraw()` methods allow us to modify the `__balance` property in a controlled \n",
    "way, while the `get_balance()` method only allows us to view the current balance.\n",
    "\n",
    "Abstraction is demonstrated by the fact that we only need to interact with the `get_balance()` \n",
    "method to view the current balance. The implementation details of how the balance is stored and \n",
    "calculated are abstracted away from us.\n",
    "\n",
    "Encapsulation is demonstrated by the fact that we cannot modify the `__balance` property directly \n",
    "from outside the class. Instead, we can only modify it using the `deposit()` and `withdraw()` methods, \n",
    "which ensure that the internal state of the object is protected.\n",
    "'''"
   ]
  },
  {
   "cell_type": "code",
   "execution_count": null,
   "metadata": {},
   "outputs": [],
   "source": [
    "# Q3. What is abc module in python? Why is it used?\n",
    "'''\n",
    "The `abc` module in Python stands for Abstract Base Classes. It provides a way to define abstract classes that can \n",
    "be subclassed by other classes, and ensures that the required methods of the abstract class are implemented by the subclasses.\n",
    "\n",
    "The `abc` module is used to implement the concept of abstraction in Python, which allows you to focus on the essential \n",
    "features of an object and ignore the irrelevant details. Abstract classes are used as a blueprint for creating other \n",
    "classes that have similar behavior or properties.\n",
    "\n",
    "Here's an example to illustrate how the `abc` module is used:\n",
    "'''\n",
    "\n",
    "from abc import ABC, abstractmethod\n",
    "\n",
    "class Animal(ABC):\n",
    "    @abstractmethod\n",
    "    def sound(self):\n",
    "        pass\n",
    "\n",
    "class Cat(Animal):\n",
    "    def sound(self):\n",
    "        return \"Meow\"\n",
    "\n",
    "class Dog(Animal):\n",
    "    def sound(self):\n",
    "        return \"Woof\"\n",
    "\n",
    "# Creating objects of Cat and Dog classes\n",
    "cat = Cat()\n",
    "dog = Dog()\n",
    "\n",
    "# Calling the sound() method on each object\n",
    "print(cat.sound())  # Output: Meow\n",
    "print(dog.sound())  # Output: Woof\n",
    "\n",
    "'''\n",
    "In this example, we define an abstract class `Animal` using the `ABC` module and the `@abstractmethod` decorator. \n",
    "This class has a single abstract method `sound()` that does not have any implementation details.\n",
    "\n",
    "Then we define two concrete classes `Cat` and `Dog` which inherit from the `Animal` class and implement the `sound()` method. \n",
    "The `Cat` class defines the behavior for a cat's sound, while the `Dog` class defines the behavior for a dog's sound.\n",
    "\n",
    "Finally, we create objects of both `Cat` and `Dog` classes and call the `sound()` method on each object. Since `Animal` \n",
    "is an abstract class, we cannot create objects of this class directly. Instead, we use it as a blueprint for creating \n",
    "other classes that have similar behavior or properties.\n",
    "\n",
    "The `abc` module ensures that the `Animal` class is used as a base class for other classes, and that the required methods \n",
    "of the abstract class are implemented by the subclasses. This makes it easy to maintain a consistent interface and behavior \n",
    "across different classes that share similar properties or behavior.\n",
    "'''\n"
   ]
  }
 ],
 "metadata": {
  "kernelspec": {
   "display_name": "Python 3.8.10 64-bit",
   "language": "python",
   "name": "python3"
  },
  "language_info": {
   "codemirror_mode": {
    "name": "ipython",
    "version": 3
   },
   "file_extension": ".py",
   "mimetype": "text/x-python",
   "name": "python",
   "nbconvert_exporter": "python",
   "pygments_lexer": "ipython3",
   "version": "3.8.10"
  },
  "orig_nbformat": 4,
  "vscode": {
   "interpreter": {
    "hash": "e7370f93d1d0cde622a1f8e1c04877d8463912d04d973331ad4851f04de6915a"
   }
  }
 },
 "nbformat": 4,
 "nbformat_minor": 2
}
