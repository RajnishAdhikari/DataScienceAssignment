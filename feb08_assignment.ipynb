{
 "cells": [
  {
   "cell_type": "code",
   "execution_count": 1,
   "metadata": {},
   "outputs": [
    {
     "name": "stdout",
     "output_type": "stream",
     "text": [
      "Starting car...\n",
      "Starting bike...\n"
     ]
    },
    {
     "data": {
      "text/plain": [
       "' \\nIn this example, we define an abstract class Vehicle that defines an abstract method start(). \\nThis method is left without any implementation details as it is up to the subclasses to define \\nthe exact behavior.\\n\\nThen we define two concrete classes Car and Bike which inherit from the Vehicle class and \\nimplement the start() method. The Car class defines the behavior for starting a car, while \\nthe Bike class defines the behavior for starting a bike.\\n\\nFinally, we create objects of both Car and Bike and call the start() method on each object. \\nThe exact implementation details of how the car or bike is started are abstracted away, and \\nwe only need to interact with the simple interface provided by the Vehicle class\\n'"
      ]
     },
     "execution_count": 1,
     "metadata": {},
     "output_type": "execute_result"
    }
   ],
   "source": [
    "# Q1. What is Abstraction in OOps? Explain with an example.\n",
    "''' \n",
    "Abstraction in object-oriented programming refers to the process of hiding the complexity of a system and \n",
    "showing only the necessary details to the user. In other words, abstraction allows you to focus on the \n",
    "essential features of an object and ignore the irrelevant details.\n",
    "\n",
    "An example of abstraction can be seen in a car. When you drive a car, you do not need to know how the \n",
    "engine works or how the transmission shifts gears. You only need to know how to operate the pedals, \n",
    "steering wheel, and gear selector. The car's internal mechanisms are abstracted away, and you are only \n",
    "presented with the necessary controls to operate the vehicle.\n",
    "\n",
    "In programming, abstraction is achieved through the use of classes and interfaces. A class is a blueprint \n",
    "for creating objects that have certain properties and behaviors, while an interface defines a set of methods \n",
    "that must be implemented by a class. By using classes and interfaces, you can abstract away the implementation \n",
    "details of a system and provide a simple, easy-to-use interface for the user.\n",
    "'''\n",
    "\n",
    "from abc import ABC, abstractmethod\n",
    "\n",
    "class Vehicle(ABC):\n",
    "    @abstractmethod\n",
    "    def start(self):\n",
    "        pass\n",
    "\n",
    "class Car(Vehicle):\n",
    "    def start(self):\n",
    "        print(\"Starting car...\")\n",
    "\n",
    "class Bike(Vehicle):\n",
    "    def start(self):\n",
    "        print(\"Starting bike...\")\n",
    "\n",
    "# Create objects of Car and Bike\n",
    "car = Car()\n",
    "bike = Bike()\n",
    "\n",
    "# Call the start() method on each object\n",
    "car.start()  # Output: Starting car...\n",
    "bike.start()  # Output: Starting bike...\n",
    "\n",
    "\n",
    "\n",
    "''' \n",
    "In this example, we define an abstract class Vehicle that defines an abstract method start(). \n",
    "This method is left without any implementation details as it is up to the subclasses to define \n",
    "the exact behavior.\n",
    "\n",
    "Then we define two concrete classes Car and Bike which inherit from the Vehicle class and \n",
    "implement the start() method. The Car class defines the behavior for starting a car, while \n",
    "the Bike class defines the behavior for starting a bike.\n",
    "\n",
    "Finally, we create objects of both Car and Bike and call the start() method on each object. \n",
    "The exact implementation details of how the car or bike is started are abstracted away, and \n",
    "we only need to interact with the simple interface provided by the Vehicle class\n",
    "'''"
   ]
  },
  {
   "cell_type": "code",
   "execution_count": null,
   "metadata": {},
   "outputs": [],
   "source": []
  }
 ],
 "metadata": {
  "kernelspec": {
   "display_name": "Python 3.8.10 64-bit",
   "language": "python",
   "name": "python3"
  },
  "language_info": {
   "codemirror_mode": {
    "name": "ipython",
    "version": 3
   },
   "file_extension": ".py",
   "mimetype": "text/x-python",
   "name": "python",
   "nbconvert_exporter": "python",
   "pygments_lexer": "ipython3",
   "version": "3.8.10"
  },
  "orig_nbformat": 4,
  "vscode": {
   "interpreter": {
    "hash": "e7370f93d1d0cde622a1f8e1c04877d8463912d04d973331ad4851f04de6915a"
   }
  }
 },
 "nbformat": 4,
 "nbformat_minor": 2
}
