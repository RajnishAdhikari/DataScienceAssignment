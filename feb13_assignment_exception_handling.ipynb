{
 "cells": [
  {
   "cell_type": "code",
   "execution_count": null,
   "metadata": {},
   "outputs": [],
   "source": [
    "# Q1. Explain why we have to use the Exception class while creating a Custom Exception.\n",
    "# The Exception class is the base class for all exceptions in Python. This means that all exceptions \n",
    "# inherit from the Exception class. When you create a custom exception, you are essentially creating \n",
    "# a new subclass of the Exception class. This allows you to add additional information to your exception, \n",
    "# such as a message or a stack trace.\n",
    "\n",
    "# For example, the following code creates a custom exception called MyException:\n",
    "\n",
    "\n",
    "class MyException(Exception):\n",
    "    def __init__(self, message):\n",
    "        super().__init__(message)\n",
    "\n",
    "    def __str__(self):\n",
    "        return self.message\n",
    "\n",
    "# This exception can be used to raise an exception with a custom message:\n",
    "\n",
    "\n",
    "try:\n",
    "    raise MyException(\"This is a custom exception\")\n",
    "except MyException as e:\n",
    "    print(e)\n",
    "\n",
    "\n",
    "\n",
    "# By using the Exception class, you can create custom exceptions that can be used to handle specific \n",
    "# types of errors. This can make your code more readable and maintainable."
   ]
  },
  {
   "cell_type": "code",
   "execution_count": null,
   "metadata": {},
   "outputs": [],
   "source": [
    "# Q2. Write a python program to print Python Exception Hierarchy.\n",
    "# program that prints the Python Exception Hierarchy:\n",
    "\n",
    "\n",
    "def print_exception_hierarchy(exception_class, indent=0):\n",
    "    print(\" \" * indent + exception_class.__name__)\n",
    "    if exception_class.__bases__:\n",
    "        for base_class in exception_class.__bases__:\n",
    "            print_exception_hierarchy(base_class, indent + 4)\n",
    "\n",
    "print_exception_hierarchy(BaseException)\n",
    "\n",
    "\n",
    "# In this program, the `print_exception_hierarchy` function is defined to recursively print the \n",
    "# exception hierarchy. It takes an `exception_class` parameter, which represents the current exception \n",
    "# class being processed, and an `indent` parameter to control the indentation level for better readability.\n",
    "\n",
    "# The function first prints the name of the `exception_class` using `exception_class.__name__`. \n",
    "# Then, it checks if the exception class has any base classes (`exception_class.__bases__`). If \n",
    "# there are base classes, it recursively calls `print_exception_hierarchy` for each base class, \n",
    "# increasing the `indent` by 4 for better visual representation.\n",
    "\n",
    "# To print the Python Exception Hierarchy, we start with the `BaseException` class, which is the \n",
    "# base class for all built-in exceptions. By passing `BaseException` as the initial `exception_class` \n",
    "# to `print_exception_hierarchy`, it traverses the hierarchy and prints the names of all exception \n",
    "# classes along with their inheritance structure.\n",
    "\n",
    "# When you run the program, it will display the Python Exception Hierarchy, showing the base class \n",
    "# at the top and the derived classes indented below, representing the inheritance relationships.\n",
    "\n"
   ]
  },
  {
   "cell_type": "code",
   "execution_count": null,
   "metadata": {},
   "outputs": [],
   "source": [
    "# Q3. What errors are defined in the ArithmeticError class? Explain any two with an example."
   ]
  }
 ],
 "metadata": {
  "language_info": {
   "name": "python"
  },
  "orig_nbformat": 4
 },
 "nbformat": 4,
 "nbformat_minor": 2
}
