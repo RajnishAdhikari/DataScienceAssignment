{
 "cells": [
  {
   "cell_type": "code",
   "execution_count": 1,
   "metadata": {},
   "outputs": [],
   "source": [
    "# file opereation \n",
    "# open() is an inbuilt function which is used to read, make file and perform various operation\n",
    "f = open(\"test.txt\", 'w')\n",
    "# a file named test.txt is created with write mode\n",
    "\n"
   ]
  },
  {
   "cell_type": "code",
   "execution_count": 2,
   "metadata": {},
   "outputs": [
    {
     "data": {
      "text/plain": [
       "'/config/workspace'"
      ]
     },
     "execution_count": 2,
     "metadata": {},
     "output_type": "execute_result"
    }
   ],
   "source": [
    "pwd"
   ]
  },
  {
   "cell_type": "code",
   "execution_count": 3,
   "metadata": {},
   "outputs": [
    {
     "name": "stdout",
     "output_type": "stream",
     "text": [
      "01.Day1Basic_variablesand_string.ipynb  feb06_pythonassignment.ipynb\n",
      "02.Day2_list,tuple,set.ipynb            feb07_assignment.ipynb\n",
      "03.Day3.Dictonary_andstatement.ipynb    feb08_assignment.ipynb\n",
      "04Day4.ForLoop_practice.ipynb           feb09_assignment.ipynb\n",
      "12Day8Working_with_FILES.IPYNB          jan30_pythonassignment.ipynb\n",
      "29.jan_pythonassignment.ipynb           main.py\n",
      "feb02_pythonassignment.ipynb            patterns.ipynb\n",
      "feb03_pythonassignment.ipynb            README.md\n",
      "feb04_pythonassignment.ipynb            test.ipynb\n",
      "feb05_pythonassignment.ipynb            test.txt\n"
     ]
    }
   ],
   "source": [
    "ls "
   ]
  },
  {
   "cell_type": "code",
   "execution_count": 4,
   "metadata": {},
   "outputs": [],
   "source": [
    "#writing something in the file \n",
    "f.write(\"this is my first file to write\")\n",
    "f.close()"
   ]
  },
  {
   "cell_type": "code",
   "execution_count": null,
   "metadata": {},
   "outputs": [],
   "source": []
  }
 ],
 "metadata": {
  "kernelspec": {
   "display_name": "Python 3.8.10 64-bit",
   "language": "python",
   "name": "python3"
  },
  "language_info": {
   "codemirror_mode": {
    "name": "ipython",
    "version": 3
   },
   "file_extension": ".py",
   "mimetype": "text/x-python",
   "name": "python",
   "nbconvert_exporter": "python",
   "pygments_lexer": "ipython3",
   "version": "3.8.10"
  },
  "orig_nbformat": 4,
  "vscode": {
   "interpreter": {
    "hash": "e7370f93d1d0cde622a1f8e1c04877d8463912d04d973331ad4851f04de6915a"
   }
  }
 },
 "nbformat": 4,
 "nbformat_minor": 2
}
