{
 "cells": [
  {
   "cell_type": "code",
   "execution_count": null,
   "metadata": {},
   "outputs": [],
   "source": [
    "# file opereation \n",
    "# open() is an inbuilt function which is used to read, make file and perform various operation\n",
    "f = open(\"test.txt\", 'w')\n",
    "# a file named test.txt is created with write mode\n",
    "\n"
   ]
  }
 ],
 "metadata": {
  "language_info": {
   "name": "python"
  },
  "orig_nbformat": 4
 },
 "nbformat": 4,
 "nbformat_minor": 2
}
