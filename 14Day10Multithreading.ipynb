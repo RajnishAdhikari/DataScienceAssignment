{
 "cells": [
  {
   "cell_type": "code",
   "execution_count": 2,
   "metadata": {},
   "outputs": [],
   "source": [
    "import threading"
   ]
  },
  {
   "cell_type": "code",
   "execution_count": 3,
   "metadata": {},
   "outputs": [],
   "source": [
    "def test(id):\n",
    "    print(\"Program start %d\"% id)"
   ]
  },
  {
   "cell_type": "code",
   "execution_count": 4,
   "metadata": {},
   "outputs": [
    {
     "name": "stdout",
     "output_type": "stream",
     "text": [
      "Program start 45\n"
     ]
    }
   ],
   "source": [
    "test(45)"
   ]
  },
  {
   "cell_type": "code",
   "execution_count": 5,
   "metadata": {},
   "outputs": [],
   "source": [
    "# starting multiple program and running multiple program \n",
    "\n",
    "# inside a single core running 10 different program \n",
    "thread = [threading.Thread(target= test, args=(i,)) for i in range(10)]\n",
    "\n",
    "# In the given code, a list called \"thread\" is being created. This list is populated with instances \n",
    "# of the `threading.Thread` class. Each instance represents a separate thread of execution that can \n",
    "# run concurrently with other threads.\n",
    "\n",
    "# The `threading.Thread` class takes two arguments: `target` and `args`. The `target` argument \n",
    "# specifies the function that will be executed in the new thread, and the `args` argument is a \n",
    "# tuple containing the arguments to be passed to the `target` function.\n",
    "\n",
    "# In this case, the `target` function is `test`, and it is being passed a single argument `i` \n",
    "# which is obtained from the `range(10)` iterator. The `range(10)` generates a sequence of \n",
    "# numbers from 0 to 9 (since the argument passed to `range` is 10).\n",
    "\n",
    "# Therefore, the code creates a list of 10 threads, where each thread will execute the `test` \n",
    "# function with a different value of `i` from 0 to 9. The `test` function is expected to be \n",
    "# defined elsewhere in the code.\n",
    "\n",
    "# Once the list of threads is created, they can be started by calling the `start()` method on \n",
    "# each thread object. This will initiate the execution of the `test` function in each thread \n",
    "# concurrently."
   ]
  },
  {
   "cell_type": "code",
   "execution_count": 7,
   "metadata": {},
   "outputs": [
    {
     "name": "stdout",
     "output_type": "stream",
     "text": [
      "Program start 0\n",
      "Program start 1\n",
      "Program start 2\n",
      "Program start 3\n",
      "Program start 4\n",
      "Program start 5\n",
      "Program start 6\n",
      "Program start 7\n",
      "Program start 8\n",
      "Program start 9\n"
     ]
    }
   ],
   "source": [
    "for t in thread:\n",
    "    t.start()"
   ]
  },
  {
   "cell_type": "code",
   "execution_count": 8,
   "metadata": {},
   "outputs": [
    {
     "data": {
      "text/plain": [
       "[0, 1, 2, 3, 4, 5, 6, 7, 8, 9]"
      ]
     },
     "execution_count": 8,
     "metadata": {},
     "output_type": "execute_result"
    }
   ],
   "source": [
    "list(range(10))"
   ]
  },
  {
   "cell_type": "code",
   "execution_count": 9,
   "metadata": {},
   "outputs": [
    {
     "data": {
      "text/plain": [
       "[<Thread(Thread-4, stopped 140415634241280)>,\n",
       " <Thread(Thread-5, stopped 140415634241280)>,\n",
       " <Thread(Thread-6, stopped 140415634241280)>,\n",
       " <Thread(Thread-7, stopped 140415634241280)>,\n",
       " <Thread(Thread-8, stopped 140415634241280)>,\n",
       " <Thread(Thread-9, stopped 140415634241280)>,\n",
       " <Thread(Thread-10, stopped 140415625848576)>,\n",
       " <Thread(Thread-11, stopped 140415634241280)>,\n",
       " <Thread(Thread-12, stopped 140415634241280)>,\n",
       " <Thread(Thread-13, stopped 140415634241280)>]"
      ]
     },
     "execution_count": 9,
     "metadata": {},
     "output_type": "execute_result"
    }
   ],
   "source": [
    "thread"
   ]
  },
  {
   "cell_type": "code",
   "execution_count": 13,
   "metadata": {},
   "outputs": [],
   "source": [
    "# taking multiple files and storing in multiple files \n",
    "import threading\n",
    "import urllib.request\n",
    "\n",
    "def file_download(url, filename):\n",
    "    urllib.request.urlretrieve(url, filename)"
   ]
  },
  {
   "cell_type": "code",
   "execution_count": 14,
   "metadata": {},
   "outputs": [],
   "source": [
    "file_download('https://www.w3schools.com/sql/sql_intro.asp', \"filename.txt\")"
   ]
  },
  {
   "cell_type": "code",
   "execution_count": 22,
   "metadata": {},
   "outputs": [],
   "source": [
    "url_list = ['https://www.w3schools.com/sql/sql_intro.asp','https://www.w3schools.com/sql/sql_syntax.asp','https://www.w3schools.com/sql/sql_any_all.asp']"
   ]
  },
  {
   "cell_type": "code",
   "execution_count": 23,
   "metadata": {},
   "outputs": [
    {
     "data": {
      "text/plain": [
       "['https://www.w3schools.com/sql/sql_intro.asp',\n",
       " 'https://www.w3schools.com/sql/sql_syntax.asp',\n",
       " 'https://www.w3schools.com/sql/sql_any_all.asp']"
      ]
     },
     "execution_count": 23,
     "metadata": {},
     "output_type": "execute_result"
    }
   ],
   "source": [
    "url_list"
   ]
  },
  {
   "cell_type": "code",
   "execution_count": 24,
   "metadata": {},
   "outputs": [],
   "source": [
    "file_name_list = ['data1.txt', 'data2.txt', 'data3.txt']"
   ]
  },
  {
   "cell_type": "code",
   "execution_count": 25,
   "metadata": {},
   "outputs": [],
   "source": [
    "ther = [threading.Thread(target=file_download, args=(url_list[i], file_name_list[i])) for i in range(len(url_list))]"
   ]
  },
  {
   "cell_type": "code",
   "execution_count": 26,
   "metadata": {},
   "outputs": [
    {
     "data": {
      "text/plain": [
       "[<Thread(Thread-17, initial)>,\n",
       " <Thread(Thread-18, initial)>,\n",
       " <Thread(Thread-19, initial)>]"
      ]
     },
     "execution_count": 26,
     "metadata": {},
     "output_type": "execute_result"
    }
   ],
   "source": [
    "ther"
   ]
  },
  {
   "cell_type": "code",
   "execution_count": 27,
   "metadata": {},
   "outputs": [],
   "source": [
    "for t in ther:\n",
    "    t.start()"
   ]
  },
  {
   "cell_type": "code",
   "execution_count": 28,
   "metadata": {},
   "outputs": [],
   "source": [
    "import time "
   ]
  },
  {
   "cell_type": "code",
   "execution_count": 29,
   "metadata": {},
   "outputs": [],
   "source": [
    "def test1(id):\n",
    "    for i in range(10):\n",
    "        print(\"test1 %d printing %d\" %(id,i))\n",
    "        time.sleep(i)"
   ]
  },
  {
   "cell_type": "code",
   "execution_count": 30,
   "metadata": {},
   "outputs": [
    {
     "name": "stdout",
     "output_type": "stream",
     "text": [
      "test1 1 printing 0\n",
      "test1 1 printing 1\n",
      "test1 1 printing 2\n",
      "test1 1 printing 3\n",
      "test1 1 printing 4\n",
      "test1 1 printing 5\n",
      "test1 1 printing 6\n",
      "test1 1 printing 7\n",
      "test1 1 printing 8\n",
      "test1 1 printing 9\n"
     ]
    }
   ],
   "source": [
    "test1(1)"
   ]
  },
  {
   "cell_type": "code",
   "execution_count": 31,
   "metadata": {},
   "outputs": [],
   "source": [
    "thread1 = [threading.Thread(target = test1, args =(i,)) for i in range(3)]"
   ]
  },
  {
   "cell_type": "code",
   "execution_count": 32,
   "metadata": {},
   "outputs": [
    {
     "name": "stdout",
     "output_type": "stream",
     "text": [
      "test1 0 printing 0\n",
      "test1 0 printing 1\n",
      "test1 1 printing 0\n",
      "test1 1 printing 1\n",
      "test1 2 printing 0\n",
      "test1 2 printing 1\n"
     ]
    },
    {
     "name": "stdout",
     "output_type": "stream",
     "text": [
      "test1 1 printing 2\n",
      "test1 2 printing 2\n",
      "test1 0 printing 2\n",
      "test1 1 printing 3test1 2 printing 3\n",
      "\n",
      "test1 0 printing 3\n",
      "test1 2 printing 4\n",
      "test1 0 printing 4\n",
      "test1 1 printing 4\n",
      "test1 1 printing 5test1 0 printing 5\n",
      "\n",
      "test1 2 printing 5\n",
      "test1 0 printing 6\n",
      "test1 1 printing 6\n",
      "test1 2 printing 6\n",
      "test1 0 printing 7test1 1 printing 7\n",
      "\n",
      "test1 2 printing 7\n",
      "test1 1 printing 8\n",
      "test1 0 printing 8\n",
      "test1 2 printing 8\n",
      "test1 0 printing 9test1 1 printing 9\n",
      "\n",
      "test1 2 printing 9\n"
     ]
    }
   ],
   "source": [
    "for t in thread1:\n",
    "    t.start()"
   ]
  },
  {
   "cell_type": "code",
   "execution_count": 33,
   "metadata": {},
   "outputs": [
    {
     "name": "stdout",
     "output_type": "stream",
     "text": [
      "test1 0 printing 0 Thu May 11 18:07:11 2023\n",
      "test1 0 printing 1 Thu May 11 18:07:12 2023\n",
      "test1 0 printing 2 Thu May 11 18:07:13 2023\n",
      "test1 0 printing 3 Thu May 11 18:07:14 2023\n",
      "test1 0 printing 4 Thu May 11 18:07:15 2023\n",
      "test1 0 printing 5 Thu May 11 18:07:16 2023\n",
      "test1 0 printing 6 Thu May 11 18:07:17 2023\n",
      "test1 0 printing 7 Thu May 11 18:07:18 2023\n",
      "test1 0 printing 8 Thu May 11 18:07:19 2023\n",
      "test1 0 printing 9 Thu May 11 18:07:20 2023\n"
     ]
    }
   ],
   "source": [
    "# identifying the time \n",
    "def test1(id):\n",
    "    for i in range(10):\n",
    "        print(\"test1 %d printing %d %s\" %(id,i,time.ctime()))\n",
    "        time.sleep(1)\n",
    "\n",
    "test1(0)"
   ]
  },
  {
   "cell_type": "code",
   "execution_count": 39,
   "metadata": {},
   "outputs": [],
   "source": [
    "shared_var = 0\n",
    "lock_var = threading.Lock()"
   ]
  },
  {
   "cell_type": "code",
   "execution_count": 47,
   "metadata": {},
   "outputs": [
    {
     "name": "stdout",
     "output_type": "stream",
     "text": [
      "test2  is 0 has increased the shared variable by 1\n"
     ]
    },
    {
     "name": "stdout",
     "output_type": "stream",
     "text": [
      "test2  is 1 has increased the shared variable by 2\n",
      "test2  is 2 has increased the shared variable by 3\n"
     ]
    }
   ],
   "source": [
    "shared_var = 0\n",
    "lock_var = threading.Lock()\n",
    "def test2(id):\n",
    "    global shared_var\n",
    "    with lock_var:\n",
    "        shared_var = shared_var + 1\n",
    "        print(\"test2  is %d has increased the shared variable by %d\" %(id, shared_var))\n",
    "        time.sleep(1)\n",
    "\n",
    "ther3 = [threading.Thread(target=test2, args=(i,)) for i in range(3)]\n",
    "for t in ther3:\n",
    "    t.start()\n"
   ]
  },
  {
   "cell_type": "code",
   "execution_count": 46,
   "metadata": {},
   "outputs": [
    {
     "name": "stdout",
     "output_type": "stream",
     "text": [
      "test2  is 0 has increased the shared variable by 4\n"
     ]
    }
   ],
   "source": [
    "test2(0)"
   ]
  },
  {
   "cell_type": "code",
   "execution_count": 42,
   "metadata": {},
   "outputs": [
    {
     "data": {
      "text/plain": [
       "[<Thread(Thread-26, initial)>,\n",
       " <Thread(Thread-27, initial)>,\n",
       " <Thread(Thread-28, initial)>]"
      ]
     },
     "execution_count": 42,
     "metadata": {},
     "output_type": "execute_result"
    }
   ],
   "source": [
    "ther3"
   ]
  },
  {
   "cell_type": "code",
   "execution_count": null,
   "metadata": {},
   "outputs": [
    {
     "name": "stderr",
     "output_type": "stream",
     "text": [
      "Exception in thread Thread-23:\n",
      "Traceback (most recent call last):\n",
      "  File \"/usr/lib/python3.8/threading.py\", line 932, in _bootstrap_inner\n",
      "Exception in thread Thread-24:\n",
      "Traceback (most recent call last):\n",
      "  File \"/usr/lib/python3.8/threading.py\", line 932, in _bootstrap_inner\n",
      "    self.run()\n",
      "  File \"/usr/lib/python3.8/threading.py\", line 870, in run\n",
      "    self._target(*self._args, **self._kwargs)\n",
      "  File \"/tmp/ipykernel_1317/372481066.py\", line 5, in test2\n",
      "Exception in thread Thread-25:\n",
      "Traceback (most recent call last):\n",
      "  File \"/usr/lib/python3.8/threading.py\", line 932, in _bootstrap_inner\n",
      "    self.run()\n",
      "  File \"/usr/lib/python3.8/threading.py\", line 870, in run\n",
      "    self._target(*self._args, **self._kwargs)\n",
      "  File \"/tmp/ipykernel_1317/372481066.py\", line 5, in test2\n",
      "TypeError: %d format: a number is required, not builtin_function_or_method\n",
      "TypeError: %d format: a number is required, not builtin_function_or_method\n",
      "    self.run()\n",
      "  File \"/usr/lib/python3.8/threading.py\", line 870, in run\n",
      "    self._target(*self._args, **self._kwargs)\n",
      "  File \"/tmp/ipykernel_1317/372481066.py\", line 5, in test2\n"
     ]
    },
    {
     "name": "stderr",
     "output_type": "stream",
     "text": [
      "TypeError: %d format: a number is required, not builtin_function_or_method\n"
     ]
    }
   ],
   "source": []
  },
  {
   "cell_type": "code",
   "execution_count": null,
   "metadata": {},
   "outputs": [],
   "source": []
  }
 ],
 "metadata": {
  "kernelspec": {
   "display_name": "Python 3.8.10 64-bit",
   "language": "python",
   "name": "python3"
  },
  "language_info": {
   "codemirror_mode": {
    "name": "ipython",
    "version": 3
   },
   "file_extension": ".py",
   "mimetype": "text/x-python",
   "name": "python",
   "nbconvert_exporter": "python",
   "pygments_lexer": "ipython3",
   "version": "3.8.10"
  },
  "orig_nbformat": 4,
  "vscode": {
   "interpreter": {
    "hash": "e7370f93d1d0cde622a1f8e1c04877d8463912d04d973331ad4851f04de6915a"
   }
  }
 },
 "nbformat": 4,
 "nbformat_minor": 2
}
