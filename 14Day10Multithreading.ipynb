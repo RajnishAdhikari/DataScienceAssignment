{
 "cells": [
  {
   "cell_type": "code",
   "execution_count": 2,
   "metadata": {},
   "outputs": [],
   "source": [
    "import threading"
   ]
  },
  {
   "cell_type": "code",
   "execution_count": 3,
   "metadata": {},
   "outputs": [],
   "source": [
    "def test(id):\n",
    "    print(\"Program start %d\"% id)"
   ]
  },
  {
   "cell_type": "code",
   "execution_count": 4,
   "metadata": {},
   "outputs": [
    {
     "name": "stdout",
     "output_type": "stream",
     "text": [
      "Program start 45\n"
     ]
    }
   ],
   "source": [
    "test(45)"
   ]
  },
  {
   "cell_type": "code",
   "execution_count": 5,
   "metadata": {},
   "outputs": [],
   "source": [
    "# starting multiple program and running multiple program \n",
    "\n",
    "# inside a single core running 10 different program \n",
    "thread = [threading.Thread(target= test, args=(i,)) for i in range(10)]\n",
    "\n",
    "# In the given code, a list called \"thread\" is being created. This list is populated with instances \n",
    "# of the `threading.Thread` class. Each instance represents a separate thread of execution that can \n",
    "# run concurrently with other threads.\n",
    "\n",
    "# The `threading.Thread` class takes two arguments: `target` and `args`. The `target` argument \n",
    "# specifies the function that will be executed in the new thread, and the `args` argument is a \n",
    "# tuple containing the arguments to be passed to the `target` function.\n",
    "\n",
    "# In this case, the `target` function is `test`, and it is being passed a single argument `i` \n",
    "# which is obtained from the `range(10)` iterator. The `range(10)` generates a sequence of \n",
    "# numbers from 0 to 9 (since the argument passed to `range` is 10).\n",
    "\n",
    "# Therefore, the code creates a list of 10 threads, where each thread will execute the `test` \n",
    "# function with a different value of `i` from 0 to 9. The `test` function is expected to be \n",
    "# defined elsewhere in the code.\n",
    "\n",
    "# Once the list of threads is created, they can be started by calling the `start()` method on \n",
    "# each thread object. This will initiate the execution of the `test` function in each thread \n",
    "# concurrently."
   ]
  },
  {
   "cell_type": "code",
   "execution_count": 7,
   "metadata": {},
   "outputs": [
    {
     "name": "stdout",
     "output_type": "stream",
     "text": [
      "Program start 0\n",
      "Program start 1\n",
      "Program start 2\n",
      "Program start 3\n",
      "Program start 4\n",
      "Program start 5\n",
      "Program start 6\n",
      "Program start 7\n",
      "Program start 8\n",
      "Program start 9\n"
     ]
    }
   ],
   "source": [
    "for t in thread:\n",
    "    t.start()"
   ]
  },
  {
   "cell_type": "code",
   "execution_count": 8,
   "metadata": {},
   "outputs": [
    {
     "data": {
      "text/plain": [
       "[0, 1, 2, 3, 4, 5, 6, 7, 8, 9]"
      ]
     },
     "execution_count": 8,
     "metadata": {},
     "output_type": "execute_result"
    }
   ],
   "source": [
    "list(range(10))"
   ]
  },
  {
   "cell_type": "code",
   "execution_count": null,
   "metadata": {},
   "outputs": [],
   "source": []
  }
 ],
 "metadata": {
  "kernelspec": {
   "display_name": "Python 3.8.10 64-bit",
   "language": "python",
   "name": "python3"
  },
  "language_info": {
   "codemirror_mode": {
    "name": "ipython",
    "version": 3
   },
   "file_extension": ".py",
   "mimetype": "text/x-python",
   "name": "python",
   "nbconvert_exporter": "python",
   "pygments_lexer": "ipython3",
   "version": "3.8.10"
  },
  "orig_nbformat": 4,
  "vscode": {
   "interpreter": {
    "hash": "e7370f93d1d0cde622a1f8e1c04877d8463912d04d973331ad4851f04de6915a"
   }
  }
 },
 "nbformat": 4,
 "nbformat_minor": 2
}
