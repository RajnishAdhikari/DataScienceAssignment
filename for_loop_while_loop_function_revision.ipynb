{
 "cells": [
  {
   "cell_type": "code",
   "execution_count": 1,
   "metadata": {},
   "outputs": [
    {
     "name": "stdout",
     "output_type": "stream",
     "text": [
      "R\n",
      "a\n",
      "j\n",
      "n\n",
      "i\n",
      "s\n",
      "h\n"
     ]
    }
   ],
   "source": [
    "# for loop practice \n",
    "name = 'Rajnish'\n",
    "for i in name:\n",
    "    print(i)\n"
   ]
  },
  {
   "cell_type": "code",
   "execution_count": 3,
   "metadata": {},
   "outputs": [
    {
     "name": "stdout",
     "output_type": "stream",
     "text": [
      "ram\n",
      "this is ram speaking\n",
      "shyam\n",
      "hari\n"
     ]
    }
   ],
   "source": [
    "# if inside for loop \n",
    "name = ['ram', 'shyam', 'hari']\n",
    "for i in name:\n",
    "    print(i)\n",
    "    if i == 'ram':\n",
    "        print(\"this is ram speaking\")"
   ]
  },
  {
   "cell_type": "code",
   "execution_count": 7,
   "metadata": {},
   "outputs": [
    {
     "name": "stdout",
     "output_type": "stream",
     "text": [
      "4\n",
      "9\n",
      "16\n",
      "25\n",
      "36\n"
     ]
    }
   ],
   "source": [
    "#printing square of each item in a list \n",
    "list = [2,3,4,5,6]\n",
    "for i in list:\n",
    "    print(i**2)"
   ]
  },
  {
   "cell_type": "code",
   "execution_count": 10,
   "metadata": {},
   "outputs": [
    {
     "name": "stdout",
     "output_type": "stream",
     "text": [
      "[4, 9, 16, 25, 36]\n"
     ]
    }
   ],
   "source": [
    "#printing square of each item in a list and storing square in another list \n",
    "list = [2,3,4,5,6]\n",
    "square_of_list = []\n",
    "for i in list:\n",
    "    square = (i**2)\n",
    "    square_of_list.append(square)\n",
    "print(square_of_list)"
   ]
  },
  {
   "cell_type": "code",
   "execution_count": 2,
   "metadata": {},
   "outputs": [
    {
     "name": "stdout",
     "output_type": "stream",
     "text": [
      "5\n",
      "4\n",
      "out from loop\n"
     ]
    }
   ],
   "source": [
    "# while loop \n",
    "# simple while loop\n",
    "count = 5 \n",
    "while count > 0:\n",
    "    print(count)\n",
    "    count = count -1\n",
    "    if count == 3:\n",
    "        break\n",
    "\n",
    "else:\n",
    "    print(\"in else block\")\n",
    "print(\"out from loop\")"
   ]
  },
  {
   "cell_type": "code",
   "execution_count": 5,
   "metadata": {},
   "outputs": [
    {
     "name": "stdout",
     "output_type": "stream",
     "text": [
      "9\n",
      "4\n",
      "3\n",
      "2\n",
      "2\n",
      "3\n",
      "in else block\n",
      "out from loop\n"
     ]
    }
   ],
   "source": [
    "# asking number with user \n",
    "number = int(input(\"enter a number (-1 to quit)\"))\n",
    "while number != -1:\n",
    "    print (number)\n",
    "    number = int(input(\"enter a number (-1 to quit)\"))\n",
    "\n",
    "else:\n",
    "    print(\"in else block\")\n",
    "\n",
    "print(\"out from loop\")"
   ]
  },
  {
   "cell_type": "code",
   "execution_count": 6,
   "metadata": {},
   "outputs": [
    {
     "name": "stdout",
     "output_type": "stream",
     "text": [
      "0\n",
      "1\n",
      "2\n",
      "3\n",
      "4\n"
     ]
    }
   ],
   "source": [
    "# using boolean values and defining the criteria to break from the loop \n",
    "count = 0\n",
    "while True:\n",
    "    print(count)\n",
    "    count +=1\n",
    "    if count == 5:\n",
    "        break"
   ]
  },
  {
   "cell_type": "code",
   "execution_count": 7,
   "metadata": {},
   "outputs": [
    {
     "name": "stdout",
     "output_type": "stream",
     "text": [
      "total is  15\n"
     ]
    }
   ],
   "source": [
    "# printing the sum of positive integer and break from the loop as user give 0 value  \n",
    "total = 0\n",
    "number = int(input(\"Enter a number( 0 to quit):\"))\n",
    "while number != 0:\n",
    "    total = total+ number\n",
    "    number = int(input(\"enter a number (0 to quit):\"))\n",
    "print (\"total is \", total)\n"
   ]
  },
  {
   "cell_type": "code",
   "execution_count": 9,
   "metadata": {},
   "outputs": [
    {
     "name": "stdout",
     "output_type": "stream",
     "text": [
      "Hi\n"
     ]
    }
   ],
   "source": [
    "# starting with function \n",
    "def greet():\n",
    "    print(\"Hi\")\n",
    "greet()"
   ]
  },
  {
   "cell_type": "code",
   "execution_count": 10,
   "metadata": {},
   "outputs": [
    {
     "name": "stdout",
     "output_type": "stream",
     "text": [
      "The sum is  30\n"
     ]
    }
   ],
   "source": [
    "# calculator simple function \n",
    "def calculate(a,b):\n",
    "    print(\"The sum is \", a + b)\n",
    "calculate(10,20)\n"
   ]
  },
  {
   "cell_type": "code",
   "execution_count": 11,
   "metadata": {},
   "outputs": [
    {
     "name": "stdout",
     "output_type": "stream",
     "text": [
      "hello world\n"
     ]
    }
   ],
   "source": [
    "def wish():\n",
    "    print(\"hello world\")\n",
    "\n",
    "wish()"
   ]
  },
  {
   "cell_type": "code",
   "execution_count": 12,
   "metadata": {},
   "outputs": [],
   "source": [
    "# # different between argument and parameters \n",
    "# parameters means input to a function \n",
    "# argument means the value where we give when passing the value "
   ]
  },
  {
   "cell_type": "code",
   "execution_count": 16,
   "metadata": {},
   "outputs": [
    {
     "name": "stdout",
     "output_type": "stream",
     "text": [
      "25\n"
     ]
    }
   ],
   "source": [
    "#finding the square \n",
    "def square(number):\n",
    "    print(number * number)\n",
    "\n",
    "square(5)"
   ]
  },
  {
   "cell_type": "code",
   "execution_count": 17,
   "metadata": {},
   "outputs": [
    {
     "data": {
      "text/plain": [
       "30"
      ]
     },
     "execution_count": 17,
     "metadata": {},
     "output_type": "execute_result"
    }
   ],
   "source": [
    "# function with return statement\n",
    "def sum(a,b):\n",
    "    sum = a+ b\n",
    "    return sum\n",
    "\n",
    "sum(20, 10)\n"
   ]
  },
  {
   "cell_type": "code",
   "execution_count": 7,
   "metadata": {},
   "outputs": [
    {
     "name": "stdout",
     "output_type": "stream",
     "text": [
      "The total electricity bll is : 2250.0\n"
     ]
    }
   ],
   "source": [
    "# while loop of electricity bill \n",
    "\n",
    "# taking input from the user \n",
    "unit = int(input(\"Enter the unit consumed: \"))\n",
    "\n",
    "# setting up variables for per unit charge and initial bill amount \n",
    "per_unit_charge = 0\n",
    "bill_amount = 0\n",
    "\n",
    "\n",
    "#calculating the electricity bill based on the per-unit charges using while loop\n",
    "while unit > 0:\n",
    "    if unit <= 100:\n",
    "        per_unit_charge = 4.5\n",
    "        bill_amount += unit * per_unit_charge\n",
    "        unit = 0\n",
    "    elif unit <= 200:\n",
    "        per_unit_charge = 6\n",
    "        bill_amount += 100 * 4.5 + (unit - 100) * per_unit_charge\n",
    "        unit = 0\n",
    "    elif unit <= 300:\n",
    "        per_unit_charge = 10\n",
    "        bill_amount += 100 * 4.5 + 100 * 6 + (unit - 200) * per_unit_charge\n",
    "        unit = 0\n",
    "    else:\n",
    "        per_unit_charge = 20\n",
    "        bill_amount += 100 * 4.5 + 100 * 6 + 100 * 10 + (unit - 300) * per_unit_charge\n",
    "        unit = 0\n",
    "\n",
    "\n",
    "# total electricity bill_amount \n",
    "print(\"The total electricity bll is :\",  bill_amount)"
   ]
  },
  {
   "cell_type": "code",
   "execution_count": 8,
   "metadata": {},
   "outputs": [],
   "source": [
    "# Create a list of numbers from 1 to 100. Use for loop and while loop to calculate the cube of each\n",
    "# # number and if the cube of that number is divisible by 4 or 5 then append that number in a list and print\n",
    "# # that list.\n",
    "\n",
    "\n"
   ]
  },
  {
   "cell_type": "code",
   "execution_count": 9,
   "metadata": {},
   "outputs": [],
   "source": [
    "# using for loop \n",
    "# creating a list of cube of numbers from 1 to 100\n",
    "cubes = [i**3 for i in range(1, 101)]"
   ]
  },
  {
   "cell_type": "code",
   "execution_count": null,
   "metadata": {},
   "outputs": [],
   "source": []
  }
 ],
 "metadata": {
  "kernelspec": {
   "display_name": "Python 3.8.10 64-bit",
   "language": "python",
   "name": "python3"
  },
  "language_info": {
   "codemirror_mode": {
    "name": "ipython",
    "version": 3
   },
   "file_extension": ".py",
   "mimetype": "text/x-python",
   "name": "python",
   "nbconvert_exporter": "python",
   "pygments_lexer": "ipython3",
   "version": "3.8.10"
  },
  "orig_nbformat": 4,
  "vscode": {
   "interpreter": {
    "hash": "e7370f93d1d0cde622a1f8e1c04877d8463912d04d973331ad4851f04de6915a"
   }
  }
 },
 "nbformat": 4,
 "nbformat_minor": 2
}
