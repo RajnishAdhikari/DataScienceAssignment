{
 "cells": [
  {
   "cell_type": "code",
   "execution_count": 1,
   "metadata": {},
   "outputs": [
    {
     "name": "stdout",
     "output_type": "stream",
     "text": [
      "R\n",
      "a\n",
      "j\n",
      "n\n",
      "i\n",
      "s\n",
      "h\n"
     ]
    }
   ],
   "source": [
    "# for loop practice \n",
    "name = 'Rajnish'\n",
    "for i in name:\n",
    "    print(i)\n"
   ]
  },
  {
   "cell_type": "code",
   "execution_count": 3,
   "metadata": {},
   "outputs": [
    {
     "name": "stdout",
     "output_type": "stream",
     "text": [
      "ram\n",
      "this is ram speaking\n",
      "shyam\n",
      "hari\n"
     ]
    }
   ],
   "source": [
    "# if inside for loop \n",
    "name = ['ram', 'shyam', 'hari']\n",
    "for i in name:\n",
    "    print(i)\n",
    "    if i == 'ram':\n",
    "        print(\"this is ram speaking\")"
   ]
  },
  {
   "cell_type": "code",
   "execution_count": 7,
   "metadata": {},
   "outputs": [
    {
     "name": "stdout",
     "output_type": "stream",
     "text": [
      "4\n",
      "9\n",
      "16\n",
      "25\n",
      "36\n"
     ]
    }
   ],
   "source": [
    "#printing square of each item in a list \n",
    "list = [2,3,4,5,6]\n",
    "for i in list:\n",
    "    print(i**2)"
   ]
  },
  {
   "cell_type": "code",
   "execution_count": 10,
   "metadata": {},
   "outputs": [
    {
     "name": "stdout",
     "output_type": "stream",
     "text": [
      "[4, 9, 16, 25, 36]\n"
     ]
    }
   ],
   "source": [
    "#printing square of each item in a list and storing square in another list \n",
    "list = [2,3,4,5,6]\n",
    "square_of_list = []\n",
    "for i in list:\n",
    "    square = (i**2)\n",
    "    square_of_list.append(square)\n",
    "print(square_of_list)"
   ]
  },
  {
   "cell_type": "code",
   "execution_count": 2,
   "metadata": {},
   "outputs": [
    {
     "name": "stdout",
     "output_type": "stream",
     "text": [
      "5\n",
      "4\n",
      "out from loop\n"
     ]
    }
   ],
   "source": [
    "# while loop \n",
    "# simple while loop\n",
    "count = 5 \n",
    "while count > 0:\n",
    "    print(count)\n",
    "    count = count -1\n",
    "    if count == 3:\n",
    "        break\n",
    "\n",
    "else:\n",
    "    print(\"in else block\")\n",
    "print(\"out from loop\")"
   ]
  },
  {
   "cell_type": "code",
   "execution_count": 5,
   "metadata": {},
   "outputs": [
    {
     "name": "stdout",
     "output_type": "stream",
     "text": [
      "9\n",
      "4\n",
      "3\n",
      "2\n",
      "2\n",
      "3\n",
      "in else block\n",
      "out from loop\n"
     ]
    }
   ],
   "source": [
    "# asking number with user \n",
    "number = int(input(\"enter a number (-1 to quit)\"))\n",
    "while number != -1:\n",
    "    print (number)\n",
    "    number = int(input(\"enter a number (-1 to quit)\"))\n",
    "\n",
    "else:\n",
    "    print(\"in else block\")\n",
    "\n",
    "print(\"out from loop\")"
   ]
  },
  {
   "cell_type": "code",
   "execution_count": 6,
   "metadata": {},
   "outputs": [
    {
     "name": "stdout",
     "output_type": "stream",
     "text": [
      "0\n",
      "1\n",
      "2\n",
      "3\n",
      "4\n"
     ]
    }
   ],
   "source": [
    "# using boolean values and defining the criteria to break from the loop \n",
    "count = 0\n",
    "while True:\n",
    "    print(count)\n",
    "    count +=1\n",
    "    if count == 5:\n",
    "        break"
   ]
  },
  {
   "cell_type": "code",
   "execution_count": 7,
   "metadata": {},
   "outputs": [
    {
     "name": "stdout",
     "output_type": "stream",
     "text": [
      "total is  15\n"
     ]
    }
   ],
   "source": [
    "# printing the sum of positive integer and break from the loop as user give 0 value  \n",
    "total = 0\n",
    "number = int(input(\"Enter a number( 0 to quit):\"))\n",
    "while number != 0:\n",
    "    total = total+ number\n",
    "    number = int(input(\"enter a number (0 to quit):\"))\n",
    "print (\"total is \", total)\n"
   ]
  },
  {
   "cell_type": "code",
   "execution_count": 9,
   "metadata": {},
   "outputs": [
    {
     "name": "stdout",
     "output_type": "stream",
     "text": [
      "Hi\n"
     ]
    }
   ],
   "source": [
    "# starting with function \n",
    "def greet():\n",
    "    print(\"Hi\")\n",
    "greet()"
   ]
  },
  {
   "cell_type": "code",
   "execution_count": null,
   "metadata": {},
   "outputs": [],
   "source": []
  }
 ],
 "metadata": {
  "kernelspec": {
   "display_name": "Python 3.8.10 64-bit",
   "language": "python",
   "name": "python3"
  },
  "language_info": {
   "codemirror_mode": {
    "name": "ipython",
    "version": 3
   },
   "file_extension": ".py",
   "mimetype": "text/x-python",
   "name": "python",
   "nbconvert_exporter": "python",
   "pygments_lexer": "ipython3",
   "version": "3.8.10"
  },
  "orig_nbformat": 4,
  "vscode": {
   "interpreter": {
    "hash": "e7370f93d1d0cde622a1f8e1c04877d8463912d04d973331ad4851f04de6915a"
   }
  }
 },
 "nbformat": 4,
 "nbformat_minor": 2
}
