{
 "cells": [
  {
   "cell_type": "code",
   "execution_count": null,
   "metadata": {},
   "outputs": [],
   "source": [
    "# Q1. What is MongoDB? Explain non-relational databases in short. In which scenarios it is preferred to use\n",
    "# MongoDB over SQL databases?\n",
    "\n",
    "\n",
    "# MongoDB is a popular non-relational (NoSQL) database management system. It is designed to store and \n",
    "# manage large volumes of unstructured and semi-structured data. MongoDB uses a flexible and scalable \n",
    "# document model, where data is stored in JSON-like documents with dynamic schemas.\n",
    "\n",
    "# Non-relational databases, including MongoDB, differ from traditional relational databases (SQL databases) \n",
    "# in several ways. In short, non-relational databases:\n",
    "\n",
    "# 1. Flexible Schema: Non-relational databases allow for dynamic and flexible schemas, meaning each \n",
    "# record/document can have a different structure. This flexibility is beneficial when dealing with \n",
    "# data that doesn't fit well into a rigid, predefined schema.\n",
    "\n",
    "# 2. Scalability: Non-relational databases are designed to scale horizontally by distributing data \n",
    "# across multiple servers. They can handle large volumes of data and high traffic loads effectively.\n",
    "\n",
    "# 3. Performance: Non-relational databases often provide high-performance data retrieval and storage \n",
    "# capabilities. They are optimized for specific use cases, such as real-time analytics, content management, \n",
    "# and caching.\n",
    "\n",
    "# 4. Replication and Availability: Non-relational databases typically offer built-in replication and \n",
    "# high availability features. They ensure data durability and availability even in the face of hardware \n",
    "# or network failures.\n",
    "\n",
    "# 5. No Joins: Unlike SQL databases, non-relational databases generally do not support complex joins \n",
    "# between multiple tables. Instead, denormalization and embedding techniques are used to improve query \n",
    "# performance.\n",
    "\n",
    "# MongoDB is preferred over SQL databases in scenarios where:\n",
    "\n",
    "# 1. Flexible Data Model: When dealing with dynamic and evolving data structures, MongoDB's document \n",
    "# model provides the flexibility to handle changing data requirements without altering the existing schema.\n",
    "\n",
    "# 2. Large Volumes of Data: MongoDB excels at handling large volumes of unstructured or semi-structured \n",
    "# data. It can efficiently store and retrieve complex data structures, making it suitable for use cases \n",
    "# like content management systems, IoT data storage, and log analytics.\n",
    "\n",
    "# 3. Scalability and Performance: MongoDB's distributed architecture allows for seamless horizontal scaling, \n",
    "# enabling it to handle high volumes of read and write operations. It provides good performance for real-time \n",
    "# analytics, high-speed transactions, and applications requiring low-latency responses.\n",
    "\n",
    "# 4. Rapid Development and Iteration: MongoDB's flexible schema and document model make it well-suited for \n",
    "# agile development and rapid iterations. It enables developers to quickly adapt to changing business \n",
    "# requirements without the need for extensive schema migrations.\n",
    "\n",
    "# It's important to note that the choice between MongoDB and SQL databases depends on the specific \n",
    "# requirements of your application. SQL databases are still a better fit for applications that heavily \n",
    "# rely on complex joins, transactions, and strict data consistency, while MongoDB shines in scenarios \n",
    "# where scalability, flexibility, and performance are paramount.\n"
   ]
  },
  {
   "cell_type": "code",
   "execution_count": null,
   "metadata": {},
   "outputs": [],
   "source": [
    "# Q2. State and Explain the features of MongoDB."
   ]
  }
 ],
 "metadata": {
  "language_info": {
   "name": "python"
  },
  "orig_nbformat": 4
 },
 "nbformat": 4,
 "nbformat_minor": 2
}
