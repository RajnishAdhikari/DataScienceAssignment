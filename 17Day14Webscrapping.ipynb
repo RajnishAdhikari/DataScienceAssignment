{
 "cells": [
  {
   "cell_type": "code",
   "execution_count": 1,
   "metadata": {},
   "outputs": [
    {
     "name": "stdout",
     "output_type": "stream",
     "text": [
      "Collecting requests\n",
      "  Downloading requests-2.31.0-py3-none-any.whl (62 kB)\n",
      "\u001b[K     |████████████████████████████████| 62 kB 1.5 MB/s  eta 0:00:01\n",
      "\u001b[?25hCollecting charset-normalizer<4,>=2\n",
      "  Downloading charset_normalizer-3.1.0-cp38-cp38-manylinux_2_17_x86_64.manylinux2014_x86_64.whl (195 kB)\n",
      "\u001b[K     |████████████████████████████████| 195 kB 76.0 MB/s eta 0:00:01\n",
      "\u001b[?25hCollecting certifi>=2017.4.17\n",
      "  Downloading certifi-2023.5.7-py3-none-any.whl (156 kB)\n",
      "\u001b[K     |████████████████████████████████| 156 kB 72.9 MB/s eta 0:00:01\n",
      "\u001b[?25hCollecting urllib3<3,>=1.21.1\n",
      "  Downloading urllib3-2.0.2-py3-none-any.whl (123 kB)\n",
      "\u001b[K     |████████████████████████████████| 123 kB 68.8 MB/s eta 0:00:01\n",
      "\u001b[?25hCollecting idna<4,>=2.5\n",
      "  Downloading idna-3.4-py3-none-any.whl (61 kB)\n",
      "\u001b[K     |████████████████████████████████| 61 kB 185 kB/s  eta 0:00:01\n",
      "\u001b[?25hInstalling collected packages: charset-normalizer, certifi, urllib3, idna, requests\n",
      "\u001b[33m  WARNING: The script normalizer is installed in '/config/.local/bin' which is not on PATH.\n",
      "  Consider adding this directory to PATH or, if you prefer to suppress this warning, use --no-warn-script-location.\u001b[0m\n",
      "Successfully installed certifi-2023.5.7 charset-normalizer-3.1.0 idna-3.4 requests-2.31.0 urllib3-2.0.2\n",
      "Collecting beautifulsoup4\n",
      "  Downloading beautifulsoup4-4.12.2-py3-none-any.whl (142 kB)\n",
      "\u001b[K     |████████████████████████████████| 142 kB 23.8 MB/s eta 0:00:01\n",
      "\u001b[?25hCollecting soupsieve>1.2\n",
      "  Downloading soupsieve-2.4.1-py3-none-any.whl (36 kB)\n",
      "Installing collected packages: soupsieve, beautifulsoup4\n",
      "Successfully installed beautifulsoup4-4.12.2 soupsieve-2.4.1\n"
     ]
    }
   ],
   "source": [
    "# WEBSCRAPPING PROJECT \n",
    "!pip install requests\n",
    "!pip install beautifulsoup4\n",
    "\n",
    "import requests\n",
    "from bs4 import BeautifulSoup as bs\n",
    "from urllib.request import urlopen as uReq\n",
    "import logging"
   ]
  },
  {
   "cell_type": "code",
   "execution_count": 2,
   "metadata": {},
   "outputs": [
    {
     "data": {
      "text/plain": [
       "'https://www.flipkart.com/search?q=iphone11'"
      ]
     },
     "execution_count": 2,
     "metadata": {},
     "output_type": "execute_result"
    }
   ],
   "source": [
    "flipkart_url = \"https://www.flipkart.com/search?q=\" + \"iphone11\"\n",
    "flipkart_url"
   ]
  },
  {
   "cell_type": "code",
   "execution_count": 3,
   "metadata": {},
   "outputs": [
    {
     "data": {
      "text/plain": [
       "<http.client.HTTPResponse at 0x7fae2295aa90>"
      ]
     },
     "execution_count": 3,
     "metadata": {},
     "output_type": "execute_result"
    }
   ],
   "source": [
    "# opening url automatically \n",
    "urlclient = uReq(flipkart_url)\n",
    "urlclient"
   ]
  },
  {
   "cell_type": "code",
   "execution_count": 4,
   "metadata": {},
   "outputs": [],
   "source": [
    "# reading what is in url \n",
    "flipcart_page = urlclient.read()\n"
   ]
  },
  {
   "cell_type": "code",
   "execution_count": 5,
   "metadata": {},
   "outputs": [],
   "source": [
    "# making the data in human readable form or beautifying by using beautiful soup\n",
    "flipcart_html = bs(flipcart_page, 'html.parser')"
   ]
  },
  {
   "cell_type": "code",
   "execution_count": 6,
   "metadata": {},
   "outputs": [],
   "source": [
    "# flipcart_html"
   ]
  },
  {
   "cell_type": "code",
   "execution_count": 20,
   "metadata": {},
   "outputs": [
    {
     "name": "stdout",
     "output_type": "stream",
     "text": [
      "https://www.flipkart.com/apple-iphone-11-black-128-gb/p/itm8244e8d955aba?pid=MOBFWQ6BKRYBP5X8&lid=LSTMOBFWQ6BKRYBP5X8IBG6BS&marketplace=FLIPKART&q=iphone11&store=tyy%2F4io&srno=s_1_2&otracker=search&fm=organic&iid=d88f31c6-2f8f-4e51-9219-7933c3d2cac8.MOBFWQ6BKRYBP5X8.SEARCH&ppt=None&ppn=None&ssid=4yp34tccwg0000001685022490707&qH=d6db477051465f9a\n",
      "https://www.flipkart.com/apple-iphone-11-white-128-gb/p/itme32df47ea6742?pid=MOBFWQ6B7KKRXDDS&lid=LSTMOBFWQ6B7KKRXDDSULUZ0N&marketplace=FLIPKART&q=iphone11&store=tyy%2F4io&srno=s_1_3&otracker=search&fm=organic&iid=d88f31c6-2f8f-4e51-9219-7933c3d2cac8.MOBFWQ6B7KKRXDDS.SEARCH&ppt=None&ppn=None&ssid=4yp34tccwg0000001685022490707&qH=d6db477051465f9a\n",
      "https://www.flipkart.com/apple-iphone-11-black-64-gb/p/itm4e5041ba101fd?pid=MOBFWQ6BXGJCEYNY&lid=LSTMOBFWQ6BXGJCEYNYZXSHRJ&marketplace=FLIPKART&q=iphone11&store=tyy%2F4io&srno=s_1_4&otracker=search&fm=organic&iid=d88f31c6-2f8f-4e51-9219-7933c3d2cac8.MOBFWQ6BXGJCEYNY.SEARCH&ppt=None&ppn=None&ssid=4yp34tccwg0000001685022490707&qH=d6db477051465f9a\n",
      "https://www.flipkart.com/apple-iphone-11-red-128-gb/p/itm8d14bd0e33a1c?pid=MOBFWQ6BEZTNK59G&lid=LSTMOBFWQ6BEZTNK59G4PTPDM&marketplace=FLIPKART&q=iphone11&store=tyy%2F4io&srno=s_1_5&otracker=search&fm=organic&iid=d88f31c6-2f8f-4e51-9219-7933c3d2cac8.MOBFWQ6BEZTNK59G.SEARCH&ppt=None&ppn=None&ssid=4yp34tccwg0000001685022490707&qH=d6db477051465f9a\n",
      "https://www.flipkart.com/apple-iphone-11-green-64-gb/p/itm386a85013a3d1?pid=MOBFWQ6BHPMG29QM&lid=LSTMOBFWQ6BHPMG29QMMGHL6F&marketplace=FLIPKART&q=iphone11&store=tyy%2F4io&srno=s_1_6&otracker=search&fm=organic&iid=d88f31c6-2f8f-4e51-9219-7933c3d2cac8.MOBFWQ6BHPMG29QM.SEARCH&ppt=None&ppn=None&ssid=4yp34tccwg0000001685022490707&qH=d6db477051465f9a\n",
      "https://www.flipkart.com/apple-iphone-11-purple-64-gb/p/itm2b8d03427ddac?pid=MOBFWQ6BTFFJKGKE&lid=LSTMOBFWQ6BTFFJKGKEPGQVOJ&marketplace=FLIPKART&q=iphone11&store=tyy%2F4io&srno=s_1_7&otracker=search&fm=organic&iid=d88f31c6-2f8f-4e51-9219-7933c3d2cac8.MOBFWQ6BTFFJKGKE.SEARCH&ppt=None&ppn=None&ssid=4yp34tccwg0000001685022490707&qH=d6db477051465f9a\n",
      "https://www.flipkart.com/apple-iphone-11-yellow-64-gb/p/itm39b1a0ba9ddcb?pid=MOBFWQ6BWGX9VRFS&lid=LSTMOBFWQ6BWGX9VRFSWACBGI&marketplace=FLIPKART&q=iphone11&store=tyy%2F4io&srno=s_1_8&otracker=search&fm=organic&iid=d88f31c6-2f8f-4e51-9219-7933c3d2cac8.MOBFWQ6BWGX9VRFS.SEARCH&ppt=None&ppn=None&ssid=4yp34tccwg0000001685022490707&qH=d6db477051465f9a\n",
      "https://www.flipkart.com/apple-iphone-11-pro-max-midnight-green-64-gb/p/itmab1763b5ca244?pid=MOBFKCTSRYPAQNYT&lid=LSTMOBFKCTSRYPAQNYTHDWEGY&marketplace=FLIPKART&q=iphone11&store=tyy%2F4io&srno=s_1_9&otracker=search&fm=organic&iid=d88f31c6-2f8f-4e51-9219-7933c3d2cac8.MOBFKCTSRYPAQNYT.SEARCH&ppt=None&ppn=None&ssid=4yp34tccwg0000001685022490707&qH=d6db477051465f9a\n",
      "https://www.flipkart.com/apple-iphone-11-pro-silver-256-gb/p/itm08eae2709cac6?pid=MOBFKCTST7PU7BWR&lid=LSTMOBFKCTST7PU7BWRAQB29Z&marketplace=FLIPKART&q=iphone11&store=tyy%2F4io&srno=s_1_10&otracker=search&fm=organic&iid=d88f31c6-2f8f-4e51-9219-7933c3d2cac8.MOBFKCTST7PU7BWR.SEARCH&ppt=None&ppn=None&ssid=4yp34tccwg0000001685022490707&qH=d6db477051465f9a\n",
      "https://www.flipkart.com/apple-iphone-11-pro-max-gold-64-gb/p/itm6ef18218efdf6?pid=MOBFKCTSAPAYNSGG&lid=LSTMOBFKCTSAPAYNSGGKWDGRM&marketplace=FLIPKART&q=iphone11&store=tyy%2F4io&srno=s_1_11&otracker=search&fm=organic&iid=d88f31c6-2f8f-4e51-9219-7933c3d2cac8.MOBFKCTSAPAYNSGG.SEARCH&ppt=None&ppn=None&ssid=4yp34tccwg0000001685022490707&qH=d6db477051465f9a\n",
      "https://www.flipkart.com/apple-iphone-11-pro-max-space-grey-64-gb/p/itme0101031155f8?pid=MOBFKCTSKDMKCGQS&lid=LSTMOBFKCTSKDMKCGQSOYFAJN&marketplace=FLIPKART&q=iphone11&store=tyy%2F4io&srno=s_1_12&otracker=search&fm=organic&iid=d88f31c6-2f8f-4e51-9219-7933c3d2cac8.MOBFKCTSKDMKCGQS.SEARCH&ppt=None&ppn=None&ssid=4yp34tccwg0000001685022490707&qH=d6db477051465f9a\n",
      "https://www.flipkart.com/apple-iphone-11-pro-midnight-green-64-gb/p/itm471de0d2e8474?pid=MOBFKCTSN3TG3RFJ&lid=LSTMOBFKCTSN3TG3RFJS8GACU&marketplace=FLIPKART&q=iphone11&store=tyy%2F4io&srno=s_1_13&otracker=search&fm=organic&iid=d88f31c6-2f8f-4e51-9219-7933c3d2cac8.MOBFKCTSN3TG3RFJ.SEARCH&ppt=None&ppn=None&ssid=4yp34tccwg0000001685022490707&qH=d6db477051465f9a\n",
      "https://www.flipkart.com/apple-iphone-11-pro-gold-512-gb/p/itm29ba3b4eeb4d5?pid=MOBFKCTS7CGXBRYE&lid=LSTMOBFKCTS7CGXBRYEVDPFSF&marketplace=FLIPKART&q=iphone11&store=tyy%2F4io&srno=s_1_14&otracker=search&fm=organic&iid=d88f31c6-2f8f-4e51-9219-7933c3d2cac8.MOBFKCTS7CGXBRYE.SEARCH&ppt=None&ppn=None&ssid=4yp34tccwg0000001685022490707&qH=d6db477051465f9a\n",
      "https://www.flipkart.com/apple-iphone-11-pro-silver-512-gb/p/itmb5a9e1ed61050?pid=MOBFKCTSGSPD57DD&lid=LSTMOBFKCTSGSPD57DDNXGVJ7&marketplace=FLIPKART&q=iphone11&store=tyy%2F4io&srno=s_1_15&otracker=search&fm=organic&iid=d88f31c6-2f8f-4e51-9219-7933c3d2cac8.MOBFKCTSGSPD57DD.SEARCH&ppt=None&ppn=None&ssid=4yp34tccwg0000001685022490707&qH=d6db477051465f9a\n",
      "https://www.flipkart.com/apple-iphone-11-yellow-128-gb/p/itm7030edc9e100e?pid=MOBFWQ6BWTSBJSHY&lid=LSTMOBFWQ6BWTSBJSHYJG1Q5J&marketplace=FLIPKART&q=iphone11&store=tyy%2F4io&srno=s_1_16&otracker=search&fm=organic&iid=d88f31c6-2f8f-4e51-9219-7933c3d2cac8.MOBFWQ6BWTSBJSHY.SEARCH&ppt=None&ppn=None&ssid=4yp34tccwg0000001685022490707&qH=d6db477051465f9a\n",
      "https://www.flipkart.com/apple-iphone-11-green-128-gb/p/itm97529bbf640ca?pid=MOBFWQ6BHBKMH4BF&lid=LSTMOBFWQ6BHBKMH4BFPOHIFL&marketplace=FLIPKART&q=iphone11&store=tyy%2F4io&srno=s_1_17&otracker=search&fm=organic&iid=d88f31c6-2f8f-4e51-9219-7933c3d2cac8.MOBFWQ6BHBKMH4BF.SEARCH&ppt=None&ppn=None&ssid=4yp34tccwg0000001685022490707&qH=d6db477051465f9a\n",
      "https://www.flipkart.com/apple-iphone-11-pro-space-grey-512-gb/p/itmcd1f0ddbf1c21?pid=MOBFKCTSRTHRQTFT&lid=LSTMOBFKCTSRTHRQTFTSIZYYS&marketplace=FLIPKART&q=iphone11&store=tyy%2F4io&srno=s_1_18&otracker=search&fm=organic&iid=d88f31c6-2f8f-4e51-9219-7933c3d2cac8.MOBFKCTSRTHRQTFT.SEARCH&ppt=None&ppn=None&ssid=4yp34tccwg0000001685022490707&qH=d6db477051465f9a\n",
      "https://www.flipkart.com/apple-iphone-11-pro-gold-64-gb/p/itmcf4ddab84017b?pid=MOBFKCTSMWA7BFUY&lid=LSTMOBFKCTSMWA7BFUYSPDR68&marketplace=FLIPKART&q=iphone11&store=tyy%2F4io&srno=s_1_19&otracker=search&fm=organic&iid=d88f31c6-2f8f-4e51-9219-7933c3d2cac8.MOBFKCTSMWA7BFUY.SEARCH&ppt=None&ppn=None&ssid=4yp34tccwg0000001685022490707&qH=d6db477051465f9a\n",
      "https://www.flipkart.com/apple-iphone-11-pro-space-grey-256-gb/p/itmbecef22a95790?pid=MOBFKCTSWGYSAS9X&lid=LSTMOBFKCTSWGYSAS9X2RHASU&marketplace=FLIPKART&q=iphone11&store=tyy%2F4io&srno=s_1_20&otracker=search&fm=organic&iid=d88f31c6-2f8f-4e51-9219-7933c3d2cac8.MOBFKCTSWGYSAS9X.SEARCH&ppt=None&ppn=None&ssid=4yp34tccwg0000001685022490707&qH=d6db477051465f9a\n",
      "https://www.flipkart.com/apple-iphone-11-red-64-gb/p/itmc3935326f2feb?pid=MOBFWQ6BYYV3FCU7&lid=LSTMOBFWQ6BYYV3FCU74EMEKJ&marketplace=FLIPKART&q=iphone11&store=tyy%2F4io&srno=s_1_21&otracker=search&fm=organic&iid=d88f31c6-2f8f-4e51-9219-7933c3d2cac8.MOBFWQ6BYYV3FCU7.SEARCH&ppt=None&ppn=None&ssid=4yp34tccwg0000001685022490707&qH=d6db477051465f9a\n",
      "https://www.flipkart.com/apple-iphone-11-pro-max-midnight-green-256-gb/p/itm68e0db18f9ecc?pid=MOBFKCTSCAAKGQV7&lid=LSTMOBFKCTSCAAKGQV7U5QXV6&marketplace=FLIPKART&q=iphone11&store=tyy%2F4io&srno=s_1_22&otracker=search&fm=organic&iid=d88f31c6-2f8f-4e51-9219-7933c3d2cac8.MOBFKCTSCAAKGQV7.SEARCH&ppt=None&ppn=None&ssid=4yp34tccwg0000001685022490707&qH=d6db477051465f9a\n",
      "https://www.flipkart.com/apple-iphone-11-purple-128-gb/p/itmb7ca0b05522ff?pid=MOBFWQ6BEHFXGXGB&lid=LSTMOBFWQ6BEHFXGXGBIS2J2K&marketplace=FLIPKART&q=iphone11&store=tyy%2F4io&srno=s_1_23&otracker=search&fm=organic&iid=d88f31c6-2f8f-4e51-9219-7933c3d2cac8.MOBFWQ6BEHFXGXGB.SEARCH&ppt=None&ppn=None&ssid=4yp34tccwg0000001685022490707&qH=d6db477051465f9a\n",
      "https://www.flipkart.com/apple-iphone-11-pro-max-space-grey-512-gb/p/itm4f43529009139?pid=MOBFKCTSNNTDCW36&lid=LSTMOBFKCTSNNTDCW36RZNOUN&marketplace=FLIPKART&q=iphone11&store=tyy%2F4io&srno=s_1_24&otracker=search&fm=organic&iid=d88f31c6-2f8f-4e51-9219-7933c3d2cac8.MOBFKCTSNNTDCW36.SEARCH&ppt=None&ppn=None&ssid=4yp34tccwg0000001685022490707&qH=d6db477051465f9a\n"
     ]
    },
    {
     "ename": "AttributeError",
     "evalue": "'NoneType' object has no attribute 'a'",
     "output_type": "error",
     "traceback": [
      "\u001b[0;31m---------------------------------------------------------------------------\u001b[0m",
      "\u001b[0;31mAttributeError\u001b[0m                            Traceback (most recent call last)",
      "Cell \u001b[0;32mIn[20], line 5\u001b[0m\n\u001b[1;32m      1\u001b[0m \u001b[38;5;66;03m# using for loop to find all the link from bigbox\u001b[39;00m\n\u001b[1;32m      3\u001b[0m \u001b[38;5;28;01mfor\u001b[39;00m i \u001b[38;5;129;01min\u001b[39;00m bigbox:\n\u001b[0;32m----> 5\u001b[0m     \u001b[38;5;28mprint\u001b[39m(\u001b[38;5;124m\"\u001b[39m\u001b[38;5;124mhttps://www.flipkart.com\u001b[39m\u001b[38;5;124m\"\u001b[39m \u001b[38;5;241m+\u001b[39m\u001b[43mi\u001b[49m\u001b[38;5;241;43m.\u001b[39;49m\u001b[43mdiv\u001b[49m\u001b[38;5;241;43m.\u001b[39;49m\u001b[43mdiv\u001b[49m\u001b[38;5;241;43m.\u001b[39;49m\u001b[43mdiv\u001b[49m\u001b[38;5;241;43m.\u001b[39;49m\u001b[43ma\u001b[49m[\u001b[38;5;124m'\u001b[39m\u001b[38;5;124mhref\u001b[39m\u001b[38;5;124m'\u001b[39m])\n",
      "\u001b[0;31mAttributeError\u001b[0m: 'NoneType' object has no attribute 'a'"
     ]
    }
   ],
   "source": [
    "# using for loop to find all the link from bigbox\n",
    "\n",
    "for i in bigbox:\n",
    "    \n",
    "    print(\"https://www.flipkart.com\" +i.div.div.div.a['href'])"
   ]
  },
  {
   "cell_type": "code",
   "execution_count": 7,
   "metadata": {},
   "outputs": [],
   "source": [
    "# finding the data \n",
    "bigbox = flipcart_html.findAll(\"div\", {\"class\":\"_1AtVbE col-12-12\"})"
   ]
  },
  {
   "cell_type": "code",
   "execution_count": 8,
   "metadata": {},
   "outputs": [
    {
     "data": {
      "text/plain": [
       "30"
      ]
     },
     "execution_count": 8,
     "metadata": {},
     "output_type": "execute_result"
    }
   ],
   "source": [
    "len(bigbox)"
   ]
  },
  {
   "cell_type": "code",
   "execution_count": 9,
   "metadata": {},
   "outputs": [],
   "source": [
    "del bigbox[0:3]"
   ]
  },
  {
   "cell_type": "code",
   "execution_count": 10,
   "metadata": {},
   "outputs": [],
   "source": [
    "\n",
    "productlink = \"https://www.flipkart.com\" + bigbox[3].div.div.div.a['href']"
   ]
  },
  {
   "cell_type": "code",
   "execution_count": 11,
   "metadata": {},
   "outputs": [],
   "source": [
    "# requesting the product link \n",
    "product_req = requests.get(productlink)"
   ]
  },
  {
   "cell_type": "code",
   "execution_count": 12,
   "metadata": {},
   "outputs": [
    {
     "data": {
      "text/plain": [
       "'https://www.flipkart.com/apple-iphone-11-red-128-gb/p/itm8d14bd0e33a1c?pid=MOBFWQ6BEZTNK59G&lid=LSTMOBFWQ6BEZTNK59G4PTPDM&marketplace=FLIPKART&q=iphone11&store=tyy%2F4io&srno=s_1_5&otracker=search&fm=organic&iid=d88f31c6-2f8f-4e51-9219-7933c3d2cac8.MOBFWQ6BEZTNK59G.SEARCH&ppt=None&ppn=None&ssid=4yp34tccwg0000001685022490707&qH=d6db477051465f9a'"
      ]
     },
     "execution_count": 12,
     "metadata": {},
     "output_type": "execute_result"
    }
   ],
   "source": [
    "productlink"
   ]
  },
  {
   "cell_type": "code",
   "execution_count": 16,
   "metadata": {},
   "outputs": [],
   "source": [
    "# now extracting the review from product link one by one\n",
    "\n",
    "\n",
    "#this will give all the text of specefic product \n",
    "product_html = bs(product_req.text, 'html.parser')\n"
   ]
  },
  {
   "cell_type": "code",
   "execution_count": 18,
   "metadata": {},
   "outputs": [],
   "source": [
    "# extracting the data from the tag \n",
    "comment_box = product_html.findAll(\"div\",{\"class\":\"_16PBlm\"})"
   ]
  },
  {
   "cell_type": "code",
   "execution_count": 19,
   "metadata": {},
   "outputs": [
    {
     "data": {
      "text/plain": [
       "11"
      ]
     },
     "execution_count": 19,
     "metadata": {},
     "output_type": "execute_result"
    }
   ],
   "source": [
    "len(comment_box)"
   ]
  },
  {
   "cell_type": "code",
   "execution_count": 30,
   "metadata": {},
   "outputs": [
    {
     "name": "stdout",
     "output_type": "stream",
     "text": [
      "Flipkart Customer\n",
      "Flipkart Customer\n",
      "George Haokip\n",
      "Manish Raghuvanshi\n",
      "Jimly  Gogoi\n",
      "Vamshi  Chakrala \n",
      "Chirag Rajput\n",
      "vijay hegde\n",
      "Vishal Dubey\n",
      "Rahul Verma\n"
     ]
    },
    {
     "ename": "AttributeError",
     "evalue": "'NoneType' object has no attribute 'div'",
     "output_type": "error",
     "traceback": [
      "\u001b[0;31m---------------------------------------------------------------------------\u001b[0m",
      "\u001b[0;31mAttributeError\u001b[0m                            Traceback (most recent call last)",
      "Cell \u001b[0;32mIn[30], line 3\u001b[0m\n\u001b[1;32m      1\u001b[0m \u001b[38;5;66;03m# finding all the name of the customer who have reviewed \u001b[39;00m\n\u001b[1;32m      2\u001b[0m \u001b[38;5;28;01mfor\u001b[39;00m i \u001b[38;5;129;01min\u001b[39;00m comment_box:\n\u001b[0;32m----> 3\u001b[0m     \u001b[38;5;28mprint\u001b[39m(\u001b[43mi\u001b[49m\u001b[38;5;241;43m.\u001b[39;49m\u001b[43mdiv\u001b[49m\u001b[38;5;241;43m.\u001b[39;49m\u001b[43mdiv\u001b[49m\u001b[38;5;241m.\u001b[39mfind_all(\u001b[38;5;124m'\u001b[39m\u001b[38;5;124mp\u001b[39m\u001b[38;5;124m'\u001b[39m, {\u001b[38;5;124m\"\u001b[39m\u001b[38;5;124mclass\u001b[39m\u001b[38;5;124m\"\u001b[39m: \u001b[38;5;124m\"\u001b[39m\u001b[38;5;124m_2sc7ZR _2V5EHH\u001b[39m\u001b[38;5;124m\"\u001b[39m})[\u001b[38;5;241m0\u001b[39m]\u001b[38;5;241m.\u001b[39mtext)\n",
      "\u001b[0;31mAttributeError\u001b[0m: 'NoneType' object has no attribute 'div'"
     ]
    }
   ],
   "source": [
    "# finding all the name of the customer who have reviewed \n",
    "for i in comment_box:\n",
    "    print(i.div.div.find_all('p', {\"class\": \"_2sc7ZR _2V5EHH\"})[0].text)\n"
   ]
  },
  {
   "cell_type": "code",
   "execution_count": 32,
   "metadata": {},
   "outputs": [
    {
     "name": "stdout",
     "output_type": "stream",
     "text": [
      "5\n",
      "5\n",
      "4\n",
      "5\n",
      "5\n",
      "5\n",
      "5\n",
      "4\n",
      "5\n",
      "5\n"
     ]
    },
    {
     "ename": "AttributeError",
     "evalue": "'NoneType' object has no attribute 'div'",
     "output_type": "error",
     "traceback": [
      "\u001b[0;31m---------------------------------------------------------------------------\u001b[0m",
      "\u001b[0;31mAttributeError\u001b[0m                            Traceback (most recent call last)",
      "Cell \u001b[0;32mIn[32], line 3\u001b[0m\n\u001b[1;32m      1\u001b[0m \u001b[38;5;66;03m# finding the ratings of the product \u001b[39;00m\n\u001b[1;32m      2\u001b[0m \u001b[38;5;28;01mfor\u001b[39;00m i \u001b[38;5;129;01min\u001b[39;00m comment_box:\n\u001b[0;32m----> 3\u001b[0m     \u001b[38;5;28mprint\u001b[39m(\u001b[43mi\u001b[49m\u001b[38;5;241;43m.\u001b[39;49m\u001b[43mdiv\u001b[49m\u001b[38;5;241;43m.\u001b[39;49m\u001b[43mdiv\u001b[49m\u001b[38;5;241m.\u001b[39mdiv\u001b[38;5;241m.\u001b[39mdiv\u001b[38;5;241m.\u001b[39mtext)\n",
      "\u001b[0;31mAttributeError\u001b[0m: 'NoneType' object has no attribute 'div'"
     ]
    }
   ],
   "source": [
    "# finding the ratings of the product \n",
    "for i in comment_box:\n",
    "    print(i.div.div.div.div.text)\n"
   ]
  },
  {
   "cell_type": "code",
   "execution_count": 33,
   "metadata": {},
   "outputs": [
    {
     "name": "stdout",
     "output_type": "stream",
     "text": [
      "Simply awesome\n",
      "Perfect product!\n",
      "Value-for-money\n",
      "Best in the market!\n",
      "Highly recommended\n",
      "Worth every penny\n",
      "Perfect product!\n",
      "Pretty good\n",
      "Highly recommended\n",
      "Great product\n"
     ]
    },
    {
     "ename": "AttributeError",
     "evalue": "'NoneType' object has no attribute 'div'",
     "output_type": "error",
     "traceback": [
      "\u001b[0;31m---------------------------------------------------------------------------\u001b[0m",
      "\u001b[0;31mAttributeError\u001b[0m                            Traceback (most recent call last)",
      "Cell \u001b[0;32mIn[33], line 3\u001b[0m\n\u001b[1;32m      1\u001b[0m \u001b[38;5;66;03m#finding comment header\u001b[39;00m\n\u001b[1;32m      2\u001b[0m \u001b[38;5;28;01mfor\u001b[39;00m i \u001b[38;5;129;01min\u001b[39;00m comment_box:\n\u001b[0;32m----> 3\u001b[0m     \u001b[38;5;28mprint\u001b[39m(\u001b[43mi\u001b[49m\u001b[38;5;241;43m.\u001b[39;49m\u001b[43mdiv\u001b[49m\u001b[38;5;241;43m.\u001b[39;49m\u001b[43mdiv\u001b[49m\u001b[38;5;241m.\u001b[39mdiv\u001b[38;5;241m.\u001b[39mp\u001b[38;5;241m.\u001b[39mtext)\n",
      "\u001b[0;31mAttributeError\u001b[0m: 'NoneType' object has no attribute 'div'"
     ]
    }
   ],
   "source": [
    "#finding comment header\n",
    "for i in comment_box:\n",
    "    print(i.div.div.div.p.text)"
   ]
  },
  {
   "cell_type": "code",
   "execution_count": null,
   "metadata": {},
   "outputs": [],
   "source": []
  },
  {
   "cell_type": "code",
   "execution_count": null,
   "metadata": {},
   "outputs": [],
   "source": []
  },
  {
   "cell_type": "code",
   "execution_count": null,
   "metadata": {},
   "outputs": [],
   "source": []
  },
  {
   "cell_type": "code",
   "execution_count": null,
   "metadata": {},
   "outputs": [],
   "source": []
  },
  {
   "cell_type": "code",
   "execution_count": 13,
   "metadata": {},
   "outputs": [
    {
     "name": "stdout",
     "output_type": "stream",
     "text": [
      "https://www.flipkart.com/apple-iphone-11-black-128-gb/p/itm8244e8d955aba?pid=MOBFWQ6BKRYBP5X8&lid=LSTMOBFWQ6BKRYBP5X8IBG6BS&marketplace=FLIPKART&q=iphone11&store=tyy%2F4io&srno=s_1_2&otracker=search&fm=organic&iid=d88f31c6-2f8f-4e51-9219-7933c3d2cac8.MOBFWQ6BKRYBP5X8.SEARCH&ppt=None&ppn=None&ssid=4yp34tccwg0000001685022490707&qH=d6db477051465f9a\n",
      "https://www.flipkart.com/apple-iphone-11-white-128-gb/p/itme32df47ea6742?pid=MOBFWQ6B7KKRXDDS&lid=LSTMOBFWQ6B7KKRXDDSULUZ0N&marketplace=FLIPKART&q=iphone11&store=tyy%2F4io&srno=s_1_3&otracker=search&fm=organic&iid=d88f31c6-2f8f-4e51-9219-7933c3d2cac8.MOBFWQ6B7KKRXDDS.SEARCH&ppt=None&ppn=None&ssid=4yp34tccwg0000001685022490707&qH=d6db477051465f9a\n",
      "https://www.flipkart.com/apple-iphone-11-black-64-gb/p/itm4e5041ba101fd?pid=MOBFWQ6BXGJCEYNY&lid=LSTMOBFWQ6BXGJCEYNYZXSHRJ&marketplace=FLIPKART&q=iphone11&store=tyy%2F4io&srno=s_1_4&otracker=search&fm=organic&iid=d88f31c6-2f8f-4e51-9219-7933c3d2cac8.MOBFWQ6BXGJCEYNY.SEARCH&ppt=None&ppn=None&ssid=4yp34tccwg0000001685022490707&qH=d6db477051465f9a\n",
      "https://www.flipkart.com/apple-iphone-11-red-128-gb/p/itm8d14bd0e33a1c?pid=MOBFWQ6BEZTNK59G&lid=LSTMOBFWQ6BEZTNK59G4PTPDM&marketplace=FLIPKART&q=iphone11&store=tyy%2F4io&srno=s_1_5&otracker=search&fm=organic&iid=d88f31c6-2f8f-4e51-9219-7933c3d2cac8.MOBFWQ6BEZTNK59G.SEARCH&ppt=None&ppn=None&ssid=4yp34tccwg0000001685022490707&qH=d6db477051465f9a\n",
      "https://www.flipkart.com/apple-iphone-11-green-64-gb/p/itm386a85013a3d1?pid=MOBFWQ6BHPMG29QM&lid=LSTMOBFWQ6BHPMG29QMMGHL6F&marketplace=FLIPKART&q=iphone11&store=tyy%2F4io&srno=s_1_6&otracker=search&fm=organic&iid=d88f31c6-2f8f-4e51-9219-7933c3d2cac8.MOBFWQ6BHPMG29QM.SEARCH&ppt=None&ppn=None&ssid=4yp34tccwg0000001685022490707&qH=d6db477051465f9a\n",
      "https://www.flipkart.com/apple-iphone-11-purple-64-gb/p/itm2b8d03427ddac?pid=MOBFWQ6BTFFJKGKE&lid=LSTMOBFWQ6BTFFJKGKEPGQVOJ&marketplace=FLIPKART&q=iphone11&store=tyy%2F4io&srno=s_1_7&otracker=search&fm=organic&iid=d88f31c6-2f8f-4e51-9219-7933c3d2cac8.MOBFWQ6BTFFJKGKE.SEARCH&ppt=None&ppn=None&ssid=4yp34tccwg0000001685022490707&qH=d6db477051465f9a\n",
      "https://www.flipkart.com/apple-iphone-11-yellow-64-gb/p/itm39b1a0ba9ddcb?pid=MOBFWQ6BWGX9VRFS&lid=LSTMOBFWQ6BWGX9VRFSWACBGI&marketplace=FLIPKART&q=iphone11&store=tyy%2F4io&srno=s_1_8&otracker=search&fm=organic&iid=d88f31c6-2f8f-4e51-9219-7933c3d2cac8.MOBFWQ6BWGX9VRFS.SEARCH&ppt=None&ppn=None&ssid=4yp34tccwg0000001685022490707&qH=d6db477051465f9a\n",
      "https://www.flipkart.com/apple-iphone-11-pro-max-midnight-green-64-gb/p/itmab1763b5ca244?pid=MOBFKCTSRYPAQNYT&lid=LSTMOBFKCTSRYPAQNYTHDWEGY&marketplace=FLIPKART&q=iphone11&store=tyy%2F4io&srno=s_1_9&otracker=search&fm=organic&iid=d88f31c6-2f8f-4e51-9219-7933c3d2cac8.MOBFKCTSRYPAQNYT.SEARCH&ppt=None&ppn=None&ssid=4yp34tccwg0000001685022490707&qH=d6db477051465f9a\n",
      "https://www.flipkart.com/apple-iphone-11-pro-silver-256-gb/p/itm08eae2709cac6?pid=MOBFKCTST7PU7BWR&lid=LSTMOBFKCTST7PU7BWRAQB29Z&marketplace=FLIPKART&q=iphone11&store=tyy%2F4io&srno=s_1_10&otracker=search&fm=organic&iid=d88f31c6-2f8f-4e51-9219-7933c3d2cac8.MOBFKCTST7PU7BWR.SEARCH&ppt=None&ppn=None&ssid=4yp34tccwg0000001685022490707&qH=d6db477051465f9a\n",
      "https://www.flipkart.com/apple-iphone-11-pro-max-gold-64-gb/p/itm6ef18218efdf6?pid=MOBFKCTSAPAYNSGG&lid=LSTMOBFKCTSAPAYNSGGKWDGRM&marketplace=FLIPKART&q=iphone11&store=tyy%2F4io&srno=s_1_11&otracker=search&fm=organic&iid=d88f31c6-2f8f-4e51-9219-7933c3d2cac8.MOBFKCTSAPAYNSGG.SEARCH&ppt=None&ppn=None&ssid=4yp34tccwg0000001685022490707&qH=d6db477051465f9a\n",
      "https://www.flipkart.com/apple-iphone-11-pro-max-space-grey-64-gb/p/itme0101031155f8?pid=MOBFKCTSKDMKCGQS&lid=LSTMOBFKCTSKDMKCGQSOYFAJN&marketplace=FLIPKART&q=iphone11&store=tyy%2F4io&srno=s_1_12&otracker=search&fm=organic&iid=d88f31c6-2f8f-4e51-9219-7933c3d2cac8.MOBFKCTSKDMKCGQS.SEARCH&ppt=None&ppn=None&ssid=4yp34tccwg0000001685022490707&qH=d6db477051465f9a\n",
      "https://www.flipkart.com/apple-iphone-11-pro-midnight-green-64-gb/p/itm471de0d2e8474?pid=MOBFKCTSN3TG3RFJ&lid=LSTMOBFKCTSN3TG3RFJS8GACU&marketplace=FLIPKART&q=iphone11&store=tyy%2F4io&srno=s_1_13&otracker=search&fm=organic&iid=d88f31c6-2f8f-4e51-9219-7933c3d2cac8.MOBFKCTSN3TG3RFJ.SEARCH&ppt=None&ppn=None&ssid=4yp34tccwg0000001685022490707&qH=d6db477051465f9a\n",
      "https://www.flipkart.com/apple-iphone-11-pro-gold-512-gb/p/itm29ba3b4eeb4d5?pid=MOBFKCTS7CGXBRYE&lid=LSTMOBFKCTS7CGXBRYEVDPFSF&marketplace=FLIPKART&q=iphone11&store=tyy%2F4io&srno=s_1_14&otracker=search&fm=organic&iid=d88f31c6-2f8f-4e51-9219-7933c3d2cac8.MOBFKCTS7CGXBRYE.SEARCH&ppt=None&ppn=None&ssid=4yp34tccwg0000001685022490707&qH=d6db477051465f9a\n",
      "https://www.flipkart.com/apple-iphone-11-pro-silver-512-gb/p/itmb5a9e1ed61050?pid=MOBFKCTSGSPD57DD&lid=LSTMOBFKCTSGSPD57DDNXGVJ7&marketplace=FLIPKART&q=iphone11&store=tyy%2F4io&srno=s_1_15&otracker=search&fm=organic&iid=d88f31c6-2f8f-4e51-9219-7933c3d2cac8.MOBFKCTSGSPD57DD.SEARCH&ppt=None&ppn=None&ssid=4yp34tccwg0000001685022490707&qH=d6db477051465f9a\n",
      "https://www.flipkart.com/apple-iphone-11-yellow-128-gb/p/itm7030edc9e100e?pid=MOBFWQ6BWTSBJSHY&lid=LSTMOBFWQ6BWTSBJSHYJG1Q5J&marketplace=FLIPKART&q=iphone11&store=tyy%2F4io&srno=s_1_16&otracker=search&fm=organic&iid=d88f31c6-2f8f-4e51-9219-7933c3d2cac8.MOBFWQ6BWTSBJSHY.SEARCH&ppt=None&ppn=None&ssid=4yp34tccwg0000001685022490707&qH=d6db477051465f9a\n",
      "https://www.flipkart.com/apple-iphone-11-green-128-gb/p/itm97529bbf640ca?pid=MOBFWQ6BHBKMH4BF&lid=LSTMOBFWQ6BHBKMH4BFPOHIFL&marketplace=FLIPKART&q=iphone11&store=tyy%2F4io&srno=s_1_17&otracker=search&fm=organic&iid=d88f31c6-2f8f-4e51-9219-7933c3d2cac8.MOBFWQ6BHBKMH4BF.SEARCH&ppt=None&ppn=None&ssid=4yp34tccwg0000001685022490707&qH=d6db477051465f9a\n",
      "https://www.flipkart.com/apple-iphone-11-pro-space-grey-512-gb/p/itmcd1f0ddbf1c21?pid=MOBFKCTSRTHRQTFT&lid=LSTMOBFKCTSRTHRQTFTSIZYYS&marketplace=FLIPKART&q=iphone11&store=tyy%2F4io&srno=s_1_18&otracker=search&fm=organic&iid=d88f31c6-2f8f-4e51-9219-7933c3d2cac8.MOBFKCTSRTHRQTFT.SEARCH&ppt=None&ppn=None&ssid=4yp34tccwg0000001685022490707&qH=d6db477051465f9a\n",
      "https://www.flipkart.com/apple-iphone-11-pro-gold-64-gb/p/itmcf4ddab84017b?pid=MOBFKCTSMWA7BFUY&lid=LSTMOBFKCTSMWA7BFUYSPDR68&marketplace=FLIPKART&q=iphone11&store=tyy%2F4io&srno=s_1_19&otracker=search&fm=organic&iid=d88f31c6-2f8f-4e51-9219-7933c3d2cac8.MOBFKCTSMWA7BFUY.SEARCH&ppt=None&ppn=None&ssid=4yp34tccwg0000001685022490707&qH=d6db477051465f9a\n",
      "https://www.flipkart.com/apple-iphone-11-pro-space-grey-256-gb/p/itmbecef22a95790?pid=MOBFKCTSWGYSAS9X&lid=LSTMOBFKCTSWGYSAS9X2RHASU&marketplace=FLIPKART&q=iphone11&store=tyy%2F4io&srno=s_1_20&otracker=search&fm=organic&iid=d88f31c6-2f8f-4e51-9219-7933c3d2cac8.MOBFKCTSWGYSAS9X.SEARCH&ppt=None&ppn=None&ssid=4yp34tccwg0000001685022490707&qH=d6db477051465f9a\n",
      "https://www.flipkart.com/apple-iphone-11-red-64-gb/p/itmc3935326f2feb?pid=MOBFWQ6BYYV3FCU7&lid=LSTMOBFWQ6BYYV3FCU74EMEKJ&marketplace=FLIPKART&q=iphone11&store=tyy%2F4io&srno=s_1_21&otracker=search&fm=organic&iid=d88f31c6-2f8f-4e51-9219-7933c3d2cac8.MOBFWQ6BYYV3FCU7.SEARCH&ppt=None&ppn=None&ssid=4yp34tccwg0000001685022490707&qH=d6db477051465f9a\n",
      "https://www.flipkart.com/apple-iphone-11-pro-max-midnight-green-256-gb/p/itm68e0db18f9ecc?pid=MOBFKCTSCAAKGQV7&lid=LSTMOBFKCTSCAAKGQV7U5QXV6&marketplace=FLIPKART&q=iphone11&store=tyy%2F4io&srno=s_1_22&otracker=search&fm=organic&iid=d88f31c6-2f8f-4e51-9219-7933c3d2cac8.MOBFKCTSCAAKGQV7.SEARCH&ppt=None&ppn=None&ssid=4yp34tccwg0000001685022490707&qH=d6db477051465f9a\n",
      "https://www.flipkart.com/apple-iphone-11-purple-128-gb/p/itmb7ca0b05522ff?pid=MOBFWQ6BEHFXGXGB&lid=LSTMOBFWQ6BEHFXGXGBIS2J2K&marketplace=FLIPKART&q=iphone11&store=tyy%2F4io&srno=s_1_23&otracker=search&fm=organic&iid=d88f31c6-2f8f-4e51-9219-7933c3d2cac8.MOBFWQ6BEHFXGXGB.SEARCH&ppt=None&ppn=None&ssid=4yp34tccwg0000001685022490707&qH=d6db477051465f9a\n",
      "https://www.flipkart.com/apple-iphone-11-pro-max-space-grey-512-gb/p/itm4f43529009139?pid=MOBFKCTSNNTDCW36&lid=LSTMOBFKCTSNNTDCW36RZNOUN&marketplace=FLIPKART&q=iphone11&store=tyy%2F4io&srno=s_1_24&otracker=search&fm=organic&iid=d88f31c6-2f8f-4e51-9219-7933c3d2cac8.MOBFKCTSNNTDCW36.SEARCH&ppt=None&ppn=None&ssid=4yp34tccwg0000001685022490707&qH=d6db477051465f9a\n"
     ]
    },
    {
     "ename": "AttributeError",
     "evalue": "'NoneType' object has no attribute 'a'",
     "output_type": "error",
     "traceback": [
      "\u001b[0;31m---------------------------------------------------------------------------\u001b[0m",
      "\u001b[0;31mAttributeError\u001b[0m                            Traceback (most recent call last)",
      "Cell \u001b[0;32mIn[13], line 5\u001b[0m\n\u001b[1;32m      1\u001b[0m \u001b[38;5;66;03m# using for loop to find all the link from bigbox\u001b[39;00m\n\u001b[1;32m      3\u001b[0m \u001b[38;5;28;01mfor\u001b[39;00m i \u001b[38;5;129;01min\u001b[39;00m bigbox:\n\u001b[0;32m----> 5\u001b[0m     \u001b[38;5;28mprint\u001b[39m(\u001b[38;5;124m\"\u001b[39m\u001b[38;5;124mhttps://www.flipkart.com\u001b[39m\u001b[38;5;124m\"\u001b[39m \u001b[38;5;241m+\u001b[39m\u001b[43mi\u001b[49m\u001b[38;5;241;43m.\u001b[39;49m\u001b[43mdiv\u001b[49m\u001b[38;5;241;43m.\u001b[39;49m\u001b[43mdiv\u001b[49m\u001b[38;5;241;43m.\u001b[39;49m\u001b[43mdiv\u001b[49m\u001b[38;5;241;43m.\u001b[39;49m\u001b[43ma\u001b[49m[\u001b[38;5;124m'\u001b[39m\u001b[38;5;124mhref\u001b[39m\u001b[38;5;124m'\u001b[39m])\n",
      "\u001b[0;31mAttributeError\u001b[0m: 'NoneType' object has no attribute 'a'"
     ]
    }
   ],
   "source": [
    "\n"
   ]
  },
  {
   "cell_type": "code",
   "execution_count": null,
   "metadata": {},
   "outputs": [],
   "source": []
  }
 ],
 "metadata": {
  "kernelspec": {
   "display_name": "Python 3.8.10 64-bit",
   "language": "python",
   "name": "python3"
  },
  "language_info": {
   "codemirror_mode": {
    "name": "ipython",
    "version": 3
   },
   "file_extension": ".py",
   "mimetype": "text/x-python",
   "name": "python",
   "nbconvert_exporter": "python",
   "pygments_lexer": "ipython3",
   "version": "3.8.10"
  },
  "orig_nbformat": 4,
  "vscode": {
   "interpreter": {
    "hash": "e7370f93d1d0cde622a1f8e1c04877d8463912d04d973331ad4851f04de6915a"
   }
  }
 },
 "nbformat": 4,
 "nbformat_minor": 2
}
