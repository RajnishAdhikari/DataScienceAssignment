{
 "cells": [
  {
   "cell_type": "code",
   "execution_count": null,
   "metadata": {},
   "outputs": [],
   "source": [
    "# WEBSCRAPPING PROJECT \n",
    "\n",
    "import requests\n",
    "from bs4 import BeautifulSoup as bs4\n",
    "from urllib.request import urlopen as uReq\n",
    "import logging"
   ]
  }
 ],
 "metadata": {
  "language_info": {
   "name": "python"
  },
  "orig_nbformat": 4
 },
 "nbformat": 4,
 "nbformat_minor": 2
}
