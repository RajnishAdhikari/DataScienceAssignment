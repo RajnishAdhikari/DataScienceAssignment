{
 "cells": [
  {
   "cell_type": "code",
   "execution_count": 1,
   "id": "18ad6bf7-fe67-447f-a7e5-555d4a08dba5",
   "metadata": {},
   "outputs": [
    {
     "data": {
      "text/plain": [
       "dict"
      ]
     },
     "execution_count": 1,
     "metadata": {},
     "output_type": "execute_result"
    }
   ],
   "source": [
    "#Dictonary\n",
    "# if we insert linear element i.e. without key value pair then it is list and if we insert with key then dictonary\n",
    "d = {}\n",
    "type(d) "
   ]
  },
  {
   "cell_type": "code",
   "execution_count": 2,
   "id": "37265916-abe8-4f2b-a04b-25a9f2edce73",
   "metadata": {},
   "outputs": [
    {
     "data": {
      "text/plain": [
       "{'key': 'rajnish'}"
      ]
     },
     "execution_count": 2,
     "metadata": {},
     "output_type": "execute_result"
    }
   ],
   "source": [
    "d1 = {'key' : \"rajnish\"}\n",
    "d1"
   ]
  },
  {
   "cell_type": "code",
   "execution_count": 3,
   "id": "fa83644a-3e26-4b4e-b41a-474f416fdb93",
   "metadata": {},
   "outputs": [
    {
     "data": {
      "text/plain": [
       "{'name': 'ranish', 'email': 'ram@gmail.com', 'number': '3333'}"
      ]
     },
     "execution_count": 3,
     "metadata": {},
     "output_type": "execute_result"
    }
   ],
   "source": [
    "d2 = {'name' : \"ranish\", 'email' :\"ram@gmail.com\", 'number': \"3333\"}\n",
    "d2"
   ]
  },
  {
   "cell_type": "code",
   "execution_count": 4,
   "id": "14b40fe3-e5f8-48dc-b711-0db7eae18412",
   "metadata": {},
   "outputs": [],
   "source": [
    "# d3 = {234 : \"rajnish\", @ram : \"ram\"}  special case character(_) is not possible"
   ]
  },
  {
   "cell_type": "code",
   "execution_count": 5,
   "id": "8d4677e9-cb94-4863-89ed-5d887a1fce60",
   "metadata": {},
   "outputs": [
    {
     "data": {
      "text/plain": [
       "{234: 'rajnish', '_ram': 'ram', True: 2343}"
      ]
     },
     "execution_count": 5,
     "metadata": {},
     "output_type": "execute_result"
    }
   ],
   "source": [
    "d3 = {234 : \"rajnish\", '_ram' : \"ram\", True:2343}\n",
    "d3"
   ]
  },
  {
   "cell_type": "code",
   "execution_count": 6,
   "id": "74b80c90-109e-4540-9870-22877949570d",
   "metadata": {},
   "outputs": [
    {
     "data": {
      "text/plain": [
       "'rajnish'"
      ]
     },
     "execution_count": 6,
     "metadata": {},
     "output_type": "execute_result"
    }
   ],
   "source": [
    "# to get value in case of dictonary\n",
    "d3[234]"
   ]
  },
  {
   "cell_type": "code",
   "execution_count": 7,
   "id": "778a0e81-d083-4928-a9a9-d314e6c743a6",
   "metadata": {},
   "outputs": [
    {
     "data": {
      "text/plain": [
       "2343"
      ]
     },
     "execution_count": 7,
     "metadata": {},
     "output_type": "execute_result"
    }
   ],
   "source": [
    "d3[1] # 1 is true "
   ]
  },
  {
   "cell_type": "code",
   "execution_count": 8,
   "id": "8359f5cd-72a8-46f1-b582-b5ffb7522df1",
   "metadata": {},
   "outputs": [
    {
     "data": {
      "text/plain": [
       "'ranish'"
      ]
     },
     "execution_count": 8,
     "metadata": {},
     "output_type": "execute_result"
    }
   ],
   "source": [
    "d4 = {'name' : \"ranish\", 'email' :\"ram@gmail.com\", 'number': \"3333\",\"name\" : \"ranish\"}\n",
    "d4[\"name\"]  #we will not get the 1st value, it will be override with new value or last value"
   ]
  },
  {
   "cell_type": "code",
   "execution_count": 9,
   "id": "3d741fdb-9027-444c-a081-6351f8687690",
   "metadata": {},
   "outputs": [
    {
     "data": {
      "text/plain": [
       "{'company': 'tags', 'offer': ['fintech', 'agritech', 'aero']}"
      ]
     },
     "execution_count": 9,
     "metadata": {},
     "output_type": "execute_result"
    }
   ],
   "source": [
    "d5 = {\"company\" : \"tags\", \"offer\" : [\"fintech\",\"agritech\",\"aero\"]}\n",
    "d5\n",
    "                                     \n",
    "      \n",
    "      "
   ]
  },
  {
   "cell_type": "code",
   "execution_count": 10,
   "id": "46cc6f2b-1886-4f0d-93bc-895c7e0ceffc",
   "metadata": {},
   "outputs": [
    {
     "data": {
      "text/plain": [
       "['fintech', 'agritech', 'aero']"
      ]
     },
     "execution_count": 10,
     "metadata": {},
     "output_type": "execute_result"
    }
   ],
   "source": [
    "d5['offer']"
   ]
  },
  {
   "cell_type": "code",
   "execution_count": 11,
   "id": "47864012-8145-4b5d-9887-74c74dbc956f",
   "metadata": {},
   "outputs": [
    {
     "data": {
      "text/plain": [
       "'aero'"
      ]
     },
     "execution_count": 11,
     "metadata": {},
     "output_type": "execute_result"
    }
   ],
   "source": [
    "d5['offer'][2]"
   ]
  },
  {
   "cell_type": "code",
   "execution_count": 12,
   "id": "e1debc2e-3bc3-4989-9b11-d2e9e6dfd6f7",
   "metadata": {},
   "outputs": [],
   "source": [
    "#we can use value as a list, tuple and set\n",
    "d6 = {\"number\" : [2,3,4,5,66], \"assignment\" : (2,3,4,5,6,8), \"launch_date\": {23,43,21}, \"class_time\":{\"web\": 4, \"ds\" :5}}"
   ]
  },
  {
   "cell_type": "code",
   "execution_count": 13,
   "id": "0b2ac243-8ae4-4c81-a722-077a33208068",
   "metadata": {},
   "outputs": [
    {
     "data": {
      "text/plain": [
       "{'number': [2, 3, 4, 5, 66],\n",
       " 'assignment': (2, 3, 4, 5, 6, 8),\n",
       " 'launch_date': {21, 23, 43},\n",
       " 'class_time': {'web': 4, 'ds': 5}}"
      ]
     },
     "execution_count": 13,
     "metadata": {},
     "output_type": "execute_result"
    }
   ],
   "source": [
    "d6"
   ]
  },
  {
   "cell_type": "code",
   "execution_count": 14,
   "id": "68b3b8db-182f-469f-9bc1-b43530694e22",
   "metadata": {},
   "outputs": [
    {
     "data": {
      "text/plain": [
       "4"
      ]
     },
     "execution_count": 14,
     "metadata": {},
     "output_type": "execute_result"
    }
   ],
   "source": [
    "#extracting data from collection\n",
    "d6[\"class_time\"]['web']"
   ]
  },
  {
   "cell_type": "code",
   "execution_count": 15,
   "id": "fa4c77ba-5531-43c3-b7ca-07848f5e293b",
   "metadata": {},
   "outputs": [
    {
     "data": {
      "text/plain": [
       "{'number': [2, 3, 4, 5, 66],\n",
       " 'assignment': (2, 3, 4, 5, 6, 8),\n",
       " 'launch_date': {21, 23, 43},\n",
       " 'class_time': {'web': 4, 'ds': 5},\n",
       " 'mentor': ['rajnish', 'ram']}"
      ]
     },
     "execution_count": 15,
     "metadata": {},
     "output_type": "execute_result"
    }
   ],
   "source": [
    "#adding new key value pair\n",
    "#if we already have new key then just value will be updated\n",
    "d6['mentor'] = [\"rajnish\", \"ram\"]\n",
    "d6"
   ]
  },
  {
   "cell_type": "code",
   "execution_count": 16,
   "id": "6d5818b6-5225-4060-8d6b-2b14d28e0d4a",
   "metadata": {},
   "outputs": [],
   "source": [
    "del d6['number']"
   ]
  },
  {
   "cell_type": "code",
   "execution_count": 17,
   "id": "56412bb9-962d-4e1e-b360-4789546d1329",
   "metadata": {},
   "outputs": [
    {
     "data": {
      "text/plain": [
       "{'assignment': (2, 3, 4, 5, 6, 8),\n",
       " 'launch_date': {21, 23, 43},\n",
       " 'class_time': {'web': 4, 'ds': 5},\n",
       " 'mentor': ['rajnish', 'ram']}"
      ]
     },
     "execution_count": 17,
     "metadata": {},
     "output_type": "execute_result"
    }
   ],
   "source": [
    "d6"
   ]
  },
  {
   "cell_type": "code",
   "execution_count": 18,
   "id": "3e59cd5b-59e5-41b3-834d-955d14746ea9",
   "metadata": {},
   "outputs": [
    {
     "data": {
      "text/plain": [
       "dict_keys(['assignment', 'launch_date', 'class_time', 'mentor'])"
      ]
     },
     "execution_count": 18,
     "metadata": {},
     "output_type": "execute_result"
    }
   ],
   "source": [
    "# to find out all the key of the list \n",
    "d6.keys()"
   ]
  },
  {
   "cell_type": "code",
   "execution_count": 19,
   "id": "1fed0f95-c04b-4a5d-a3e5-eccc37a7b51e",
   "metadata": {},
   "outputs": [
    {
     "data": {
      "text/plain": [
       "['assignment', 'launch_date', 'class_time', 'mentor']"
      ]
     },
     "execution_count": 19,
     "metadata": {},
     "output_type": "execute_result"
    }
   ],
   "source": [
    "# to convert dictonary into a list \n",
    "list(d6.keys())"
   ]
  },
  {
   "cell_type": "code",
   "execution_count": 20,
   "id": "b7245b13-e0bc-463c-9a62-663cfeb4ca0f",
   "metadata": {},
   "outputs": [
    {
     "data": {
      "text/plain": [
       "[(2, 3, 4, 5, 6, 8), {21, 23, 43}, {'web': 4, 'ds': 5}, ['rajnish', 'ram']]"
      ]
     },
     "execution_count": 20,
     "metadata": {},
     "output_type": "execute_result"
    }
   ],
   "source": [
    "#to find out all values from a list \n",
    "list(d6.values())"
   ]
  },
  {
   "cell_type": "code",
   "execution_count": 21,
   "id": "59f9e03e-f53d-4bdc-b4d2-70ac4deacb66",
   "metadata": {},
   "outputs": [
    {
     "data": {
      "text/plain": [
       "dict_items([('assignment', (2, 3, 4, 5, 6, 8)), ('launch_date', {43, 21, 23}), ('class_time', {'web': 4, 'ds': 5}), ('mentor', ['rajnish', 'ram'])])"
      ]
     },
     "execution_count": 21,
     "metadata": {},
     "output_type": "execute_result"
    }
   ],
   "source": [
    "# to get dictonary items\n",
    "d6.items()"
   ]
  },
  {
   "cell_type": "code",
   "execution_count": 22,
   "id": "4f4f15c3-efae-433a-8e36-7a2e05907cd2",
   "metadata": {},
   "outputs": [
    {
     "data": {
      "text/plain": [
       "(2, 3, 4, 5, 6, 8)"
      ]
     },
     "execution_count": 22,
     "metadata": {},
     "output_type": "execute_result"
    }
   ],
   "source": [
    "d6.pop('assignment')"
   ]
  },
  {
   "cell_type": "code",
   "execution_count": 23,
   "id": "d88663aa-2524-4cd1-8b06-16026f422991",
   "metadata": {},
   "outputs": [
    {
     "data": {
      "text/plain": [
       "{'launch_date': {21, 23, 43},\n",
       " 'class_time': {'web': 4, 'ds': 5},\n",
       " 'mentor': ['rajnish', 'ram']}"
      ]
     },
     "execution_count": 23,
     "metadata": {},
     "output_type": "execute_result"
    }
   ],
   "source": [
    "d6"
   ]
  },
  {
   "cell_type": "code",
   "execution_count": 24,
   "id": "53f7ab73-d9b5-4bc9-92a6-5b01f74e55b1",
   "metadata": {},
   "outputs": [
    {
     "name": "stdout",
     "output_type": "stream",
     "text": [
      "you will be a part of a2 batch\n"
     ]
    }
   ],
   "source": [
    "#STATEMENT IN PYTHON\n",
    "marks = 55\n",
    "if marks >= 80:\n",
    "    print(\"you will be a part of A0 batch\")\n",
    "elif marks >=60 and marks <80:\n",
    "    print(\"You will be a part of A1 batch\")\n",
    "elif marks >= 40 and marks < 60:\n",
    "    print(\"you will be a part of a2 batch\")\n",
    "else:\n",
    "    print(\"you will be a part of a3 batch\")"
   ]
  },
  {
   "cell_type": "code",
   "execution_count": 25,
   "id": "75e926e6-bc84-4747-b1c5-b0584c76aabb",
   "metadata": {},
   "outputs": [
    {
     "name": "stdout",
     "output_type": "stream",
     "text": [
      "enter your marks: 33\n"
     ]
    },
    {
     "name": "stdout",
     "output_type": "stream",
     "text": [
      "You will be a part of A1 batch\n"
     ]
    }
   ],
   "source": [
    "#user input values\n",
    "marks = int(input(\"enter your marks:\"))\n",
    "\n",
    "if marks >= 80:\n",
    "    print(\"you will be a part of A0 batch\")\n",
    "elif marks >=60 & marks <80:\n",
    "    print(\"You will be a part of A1 batch\")\n",
    "elif marks >= 40 and marks < 60:\n",
    "    print(\"you will be a part of a2 batch\")\n",
    "else:\n",
    "    print(\"you will be a part of a3 batch\")"
   ]
  },
  {
   "cell_type": "code",
   "execution_count": 26,
   "id": "8f2c5e7f-455f-4d97-80c1-81147f607393",
   "metadata": {},
   "outputs": [
    {
     "name": "stdout",
     "output_type": "stream",
     "text": [
      "enter price   55\n"
     ]
    },
    {
     "name": "stdout",
     "output_type": "stream",
     "text": [
      "i will pruchase\n"
     ]
    }
   ],
   "source": [
    "price = int(input(\"enter price  \"))\n",
    "if price > 1000:\n",
    "    print(\"i will not purchase\")\n",
    "else:\n",
    "    print(\"i will pruchase\")"
   ]
  },
  {
   "cell_type": "code",
   "execution_count": 27,
   "id": "a845a7ca-04de-4651-a982-1b1f257d22bd",
   "metadata": {},
   "outputs": [
    {
     "name": "stdout",
     "output_type": "stream",
     "text": [
      "enter price   55\n"
     ]
    }
   ],
   "source": [
    "price = int(input(\"enter price  \"))\n",
    "if price > 1000:\n",
    "    print(\"i will not purchase\")\n",
    "    "
   ]
  },
  {
   "cell_type": "code",
   "execution_count": 28,
   "id": "3ffa6081-5862-46f8-903d-bb379eb0bf80",
   "metadata": {},
   "outputs": [
    {
     "name": "stdout",
     "output_type": "stream",
     "text": [
      "ram\n"
     ]
    }
   ],
   "source": [
    "print('ram')"
   ]
  },
  {
   "cell_type": "code",
   "execution_count": 29,
   "id": "8f7bbcf6-babe-4aa0-ade3-f2757ec6c506",
   "metadata": {},
   "outputs": [
    {
     "name": "stdout",
     "output_type": "stream",
     "text": [
      "rajnish\n"
     ]
    }
   ],
   "source": [
    "print(\"rajnish\")"
   ]
  },
  {
   "cell_type": "code",
   "execution_count": 35,
   "id": "9580fa50-8bcc-4587-940d-5207688fabce",
   "metadata": {},
   "outputs": [
    {
     "name": "stdout",
     "output_type": "stream",
     "text": [
      "2\n",
      "3\n",
      "4\n",
      "5\n",
      "6\n",
      "7\n",
      "8\n",
      "9\n",
      "10\n"
     ]
    },
    {
     "data": {
      "text/plain": [
       "[2, 3, 4, 5, 6, 7, 8, 9, 10]"
      ]
     },
     "execution_count": 35,
     "metadata": {},
     "output_type": "execute_result"
    }
   ],
   "source": [
    "# loop in python\n",
    "# for loop\n",
    "# for the list given below, add 1st element to next and so on and store into the new list\n",
    "l = [1,2,3,4,5,6,7,8,9,]\n",
    "l1 = []\n",
    "for x in l:   #x is temporary variable\n",
    "    print( x + 1)\n",
    "    l1.append(x + 1)\n",
    "l1"
   ]
  },
  {
   "cell_type": "code",
   "execution_count": 40,
   "id": "1ba0f021-b596-4032-818b-412f7636bead",
   "metadata": {},
   "outputs": [
    {
     "name": "stdout",
     "output_type": "stream",
     "text": [
      "rajnish\n",
      "adhikari\n",
      "tags\n",
      "course\n"
     ]
    },
    {
     "data": {
      "text/plain": [
       "['RAJNISH', 'ADHIKARI', 'TAGS', 'COURSE']"
      ]
     },
     "execution_count": 40,
     "metadata": {},
     "output_type": "execute_result"
    }
   ],
   "source": [
    "#convert the list item in uppercase and store them into a list\n",
    "l = [\"rajnish\", \"adhikari\" ,\"tags\", \"course\"]\n",
    "l1 = []\n",
    "for x in l:\n",
    "    print(x)\n",
    "    \n",
    "    l1.append(x.upper())\n",
    "l1"
   ]
  },
  {
   "cell_type": "code",
   "execution_count": 2,
   "id": "d74ecd14-5495-4b4b-bfbb-595054aa4af2",
   "metadata": {},
   "outputs": [],
   "source": [
    "l = [1,2,3,4,5,6, \"ram\", \"karki\", 23,43.34, \"abc\"]\n"
   ]
  },
  {
   "cell_type": "code",
   "execution_count": 6,
   "id": "6c4e81e0-4a4d-4053-991a-2cd6ffb46d5d",
   "metadata": {},
   "outputs": [
    {
     "data": {
      "text/plain": [
       "['ram', 'karki', 'abc']"
      ]
     },
     "execution_count": 6,
     "metadata": {},
     "output_type": "execute_result"
    }
   ],
   "source": [
    "l1_numeric = []\n",
    "l2_str = []\n",
    "\n",
    "for  i in l:\n",
    "    if type(i) == int or type(i) == float:\n",
    "        l1_numeric.append(i)\n",
    "    else:\n",
    "        l2_str.append(i)\n",
    "\n",
    "l2_str"
   ]
  },
  {
   "cell_type": "code",
   "execution_count": 5,
   "id": "b1786c74-52c5-46b4-b96a-5c76a7811231",
   "metadata": {},
   "outputs": [
    {
     "data": {
      "text/plain": [
       "[1, 2, 3, 4, 5, 6, 23, 43.34]"
      ]
     },
     "execution_count": 5,
     "metadata": {},
     "output_type": "execute_result"
    }
   ],
   "source": [
    "l1_numeric"
   ]
  },
  {
   "cell_type": "code",
   "execution_count": 2,
   "id": "18334d4e-f764-46d3-b92e-4c130e61dd4a",
   "metadata": {},
   "outputs": [
    {
     "name": "stdout",
     "output_type": "stream",
     "text": [
      "Reinitialized existing Git repository in /home/jovyan/work/.git/\n"
     ]
    }
   ],
   "source": [
    "!git init"
   ]
  },
  {
   "cell_type": "code",
   "execution_count": 3,
   "id": "50a5e4b6-da1f-4a7a-a2eb-92c9e1e20953",
   "metadata": {},
   "outputs": [
    {
     "name": "stdout",
     "output_type": "stream",
     "text": [
      "origin\thttps://github.com/RajnishAdhikari/DataScienceAssignment.git (fetch)\n",
      "origin\thttps://github.com/RajnishAdhikari/DataScienceAssignment.git (push)\n"
     ]
    }
   ],
   "source": [
    "!git remote -v"
   ]
  },
  {
   "cell_type": "code",
   "execution_count": 4,
   "id": "ad985dd9-1369-451e-85e2-f9ff82294014",
   "metadata": {},
   "outputs": [],
   "source": [
    "!git remote remove origin\n",
    "!git remote add origin https://github.com/RajnishAdhikari/DataScienceAssignment.git"
   ]
  },
  {
   "cell_type": "code",
   "execution_count": 5,
   "id": "257a566e-7af0-404b-b293-511095c7e69c",
   "metadata": {},
   "outputs": [
    {
     "name": "stdout",
     "output_type": "stream",
     "text": [
      "origin\thttps://github.com/RajnishAdhikari/DataScienceAssignment.git (fetch)\n",
      "origin\thttps://github.com/RajnishAdhikari/DataScienceAssignment.git (push)\n"
     ]
    }
   ],
   "source": [
    "!git remote -v"
   ]
  },
  {
   "cell_type": "code",
   "execution_count": 6,
   "id": "6db31691-31d4-44c1-9455-f96538ca4c44",
   "metadata": {},
   "outputs": [],
   "source": [
    "!git config --global user.email \"rajnishadhikari01@gmail.com\"\n",
    "!git config --global user.name \"RajnishAdhikari\""
   ]
  },
  {
   "cell_type": "code",
   "execution_count": 7,
   "id": "6b9187a5-5064-4e8f-9ca9-30af7f7331b8",
   "metadata": {},
   "outputs": [
    {
     "name": "stdout",
     "output_type": "stream",
     "text": [
      "[main 2a3f838] day 3 of data science dictonary and statement\n",
      " 1 file changed, 9 insertions(+), 9 deletions(-)\n"
     ]
    }
   ],
   "source": [
    "!git  add .\n",
    "!git commit -m \"day 3 of data science dictonary and statement\""
   ]
  },
  {
   "cell_type": "code",
   "execution_count": null,
   "id": "5b0b07f6-06a8-4f03-8d5a-7632f01657f3",
   "metadata": {},
   "outputs": [
    {
     "name": "stdout",
     "output_type": "stream",
     "text": [
      "Username for 'https://github.com': "
     ]
    }
   ],
   "source": [
    "!git push -u origin main"
   ]
  },
  {
   "cell_type": "code",
   "execution_count": null,
   "id": "3ec67ffe-0438-4ce5-9381-985ea7984ff2",
   "metadata": {},
   "outputs": [],
   "source": []
  }
 ],
 "metadata": {
  "kernelspec": {
   "display_name": "Python 3.8.10 64-bit",
   "language": "python",
   "name": "python3"
  },
  "language_info": {
   "codemirror_mode": {
    "name": "ipython",
    "version": 3
   },
   "file_extension": ".py",
   "mimetype": "text/x-python",
   "name": "python",
   "nbconvert_exporter": "python",
   "pygments_lexer": "ipython3",
   "version": "3.8.10"
  },
  "vscode": {
   "interpreter": {
    "hash": "e7370f93d1d0cde622a1f8e1c04877d8463912d04d973331ad4851f04de6915a"
   }
  }
 },
 "nbformat": 4,
 "nbformat_minor": 5
}
